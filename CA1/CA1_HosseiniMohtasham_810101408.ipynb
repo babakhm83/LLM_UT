{
  "cells": [
    {
      "cell_type": "markdown",
      "metadata": {
        "id": "GgU5RQG7t-08"
      },
      "source": [
        "## CA 1, LLMs Spring 2025\n",
        "\n",
        "- **Name:Babak Hosseini Mohtasham**\n",
        "- **Student ID:810101408**\n",
        "\n",
        "---\n",
        "#### Your submission should be named using the following format: `CA1_LASTNAME_STUDENTID.ipynb`.\n",
        "\n",
        "---\n",
        "\n",
        "##### *How to do this problem set:*\n",
        "\n",
        "- Some questions require writing Python code and computing results, and the rest of them have written answers. For coding problems, you will have to fill out all code blocks that say `YOUR CODE HERE`.\n",
        "\n",
        "- For text-based answers, you should replace the text that says ```Your Answer Here``` with your actual answer.\n",
        "\n",
        "- There is no penalty for using AI assistance on this homework as long as you fully disclose it in the final cell of this notebook (this includes storing any prompts that you feed to large language models). That said, anyone caught using AI assistance without proper disclosure will receive a zero on the assignment (we have several automatic tools to detect such cases). We're literally allowing you to use it with no limitations, so there is no reason to lie!\n",
        "\n",
        "---\n",
        "\n",
        "##### *Academic honesty*\n",
        "\n",
        "- We will audit the Colab notebooks from a set number of students, chosen at random. The audits will check that the code you wrote actually generates the answers in your notebook. If you turn in correct answers on your notebook without code that actually generates those answers, we will consider this a serious case of cheating.\n",
        "\n",
        "- We will also run automatic checks of Colab notebooks for plagiarism. Copying code from others is also considered a serious case of cheating.\n",
        "\n",
        "---"
      ]
    },
    {
      "cell_type": "markdown",
      "metadata": {
        "id": "FOgYRipHt-1A"
      },
      "source": [
        "If you have any further questions or concerns, contact the TAs via email: vahyd@live.com / amirh.bonakdar@ut.ac.ir"
      ]
    },
    {
      "cell_type": "code",
      "execution_count": 1,
      "metadata": {
        "id": "KTNNJLLaS1bL"
      },
      "outputs": [],
      "source": [
        "!pip install transformers peft datasets accelerate scipy bitsandbytes wandb  -qqq"
      ]
    },
    {
      "cell_type": "markdown",
      "metadata": {
        "id": "yedtpwo3qP-j"
      },
      "source": [
        "### Q0: Setting Up"
      ]
    },
    {
      "cell_type": "markdown",
      "metadata": {
        "id": "JHjJb4kRTXOq"
      },
      "source": [
        "Create a Huggingface Access Token From:\n",
        "https://huggingface.co/settings/tokens\n",
        "\n",
        "You need to request for access to:\n",
        "- ```meta-llama/Llama-3.2-1B```\n",
        "- ```meta-llama/Llama-3.2-1B-Instruct```\n",
        "- ```mistralai/Mistral-7B-v0.1```"
      ]
    },
    {
      "cell_type": "code",
      "execution_count": null,
      "metadata": {
        "colab": {
          "base_uri": "https://localhost:8080/"
        },
        "id": "s-SGTuMBTCC-",
        "outputId": "1925843d-4b22-46d0-8ccc-83c5c665c801"
      },
      "outputs": [
        {
          "name": "stdout",
          "output_type": "stream",
          "text": [
            "The token has not been saved to the git credentials helper. Pass `add_to_git_credential=True` in this function directly or `--add-to-git-credential` if using via `huggingface-cli` if you want to set the git credential as well.\n",
            "Token is valid (permission: fineGrained).\n",
            "The token `LLM_course_UT` has been saved to /root/.cache/huggingface/stored_tokens\n",
            "Your token has been saved to /root/.cache/huggingface/token\n",
            "Login successful.\n",
            "The current active token is: `LLM_course_UT`\n"
          ]
        }
      ],
      "source": [
        "!huggingface-cli login --token {hf_token}"
      ]
    },
    {
      "cell_type": "code",
      "execution_count": 3,
      "metadata": {
        "id": "HPUo2WODR70K"
      },
      "outputs": [],
      "source": [
        "import torch\n",
        "import transformers\n",
        "from transformers import AutoModelForCausalLM, AutoTokenizer\n",
        "from peft import LoraConfig, TaskType, get_peft_model, PeftModel, PrefixTuningConfig, PromptTuningConfig\n",
        "import os\n",
        "import numpy as np"
      ]
    },
    {
      "cell_type": "code",
      "execution_count": 4,
      "metadata": {
        "id": "bRSAkaZkR70K"
      },
      "outputs": [],
      "source": [
        "BASE_MODEL = 'meta-llama/Llama-3.2-1B'\n",
        "INSTRUCT_MODEL = 'meta-llama/Llama-3.2-1B-Instruct'"
      ]
    },
    {
      "cell_type": "code",
      "execution_count": 5,
      "metadata": {
        "colab": {
          "base_uri": "https://localhost:8080/"
        },
        "id": "C0M2ECOW8Mc_",
        "outputId": "5d48ded5-d55e-426b-d2ad-1a4411632470"
      },
      "outputs": [
        {
          "name": "stdout",
          "output_type": "stream",
          "text": [
            "Using device: cuda\n"
          ]
        }
      ],
      "source": [
        "DEVICE = \"cpu\"\n",
        "if torch.backends.mps.is_available():\n",
        "    DEVICE = \"mps\"\n",
        "elif torch.cuda.is_available():\n",
        "    DEVICE = \"cuda\"\n",
        "\n",
        "print(f\"Using device: {DEVICE}\")"
      ]
    },
    {
      "cell_type": "markdown",
      "metadata": {
        "id": "bI2ni6n3R70K"
      },
      "source": [
        "## Getting Started with LLMs"
      ]
    },
    {
      "cell_type": "markdown",
      "metadata": {
        "id": "779rMkF7R70L"
      },
      "source": [
        "## Q1: First Steps (25 pts)"
      ]
    },
    {
      "cell_type": "markdown",
      "metadata": {
        "id": "RT_E0pya8Mc_"
      },
      "source": [
        "The outputs of tokenizer are not human readable."
      ]
    },
    {
      "cell_type": "code",
      "execution_count": null,
      "metadata": {
        "colab": {
          "base_uri": "https://localhost:8080/"
        },
        "id": "-nrrL6rtR70L",
        "outputId": "38ccad12-88ad-415b-8c02-876e39cf489a"
      },
      "outputs": [
        {
          "name": "stderr",
          "output_type": "stream",
          "text": [
            "/usr/local/lib/python3.11/dist-packages/huggingface_hub/utils/_auth.py:94: UserWarning: \n",
            "The secret `HF_TOKEN` does not exist in your Colab secrets.\n",
            "To authenticate with the Hugging Face Hub, create a token in your settings tab (https://huggingface.co/settings/tokens), set it as secret in your Google Colab and restart your session.\n",
            "You will be able to reuse this secret in all of your notebooks.\n",
            "Please note that authentication is recommended but still optional to access public models or datasets.\n",
            "  warnings.warn(\n"
          ]
        }
      ],
      "source": [
        "model_id = INSTRUCT_MODEL\n",
        "\n",
        "tokenizer = AutoTokenizer.from_pretrained(model_id)\n",
        "model = AutoModelForCausalLM.from_pretrained(\n",
        "    model_id,\n",
        "    device_map=DEVICE,\n",
        ")\n",
        "tokenizer.pad_token = tokenizer.eos_token"
      ]
    },
    {
      "cell_type": "code",
      "execution_count": null,
      "metadata": {
        "colab": {
          "base_uri": "https://localhost:8080/"
        },
        "id": "opmbKj87R70M",
        "outputId": "96180d62-2aac-47f7-b6e3-67dc7b8fb22f"
      },
      "outputs": [
        {
          "name": "stderr",
          "output_type": "stream",
          "text": [
            "Setting `pad_token_id` to `eos_token_id`:128001 for open-end generation.\n"
          ]
        },
        {
          "data": {
            "text/plain": [
              "tensor([[128000,   3923,    374,    220,     17,   5636,    220,     17,     30,\n",
              "            220,     19,    627,     32,     13,    220,     17,    489,    220,\n",
              "             17,    284,    220,     19,    198,     33,     13,    220,     17,\n",
              "            489,    220]], device='cuda:0')"
            ]
          },
          "execution_count": 7,
          "metadata": {},
          "output_type": "execute_result"
        }
      ],
      "source": [
        "prompt = \"What is 2 plus 2?\"\n",
        "\n",
        "inputs = tokenizer(prompt, return_tensors=\"pt\").to(DEVICE)\n",
        "\n",
        "outputs = model.generate(\n",
        "    input_ids=inputs[\"input_ids\"],\n",
        "    attention_mask=inputs[\"attention_mask\"],\n",
        ")\n",
        "\n",
        "outputs"
      ]
    },
    {
      "cell_type": "markdown",
      "metadata": {
        "id": "GLpzl0a18MdA"
      },
      "source": [
        "#### Q1.1: Readable Model Generation (1 pts)"
      ]
    },
    {
      "cell_type": "markdown",
      "metadata": {
        "id": "sYmkV1hsR70M"
      },
      "source": [
        "a. As you see the model outputs token ids which are not readable to us. We should decode this to human readable language. Using the ```decode``` function on the tokenizer, print the human readable model generation."
      ]
    },
    {
      "cell_type": "code",
      "execution_count": null,
      "metadata": {
        "colab": {
          "base_uri": "https://localhost:8080/",
          "height": 35
        },
        "id": "4IX2xFY_8MdA",
        "outputId": "e7e4a870-1c94-4259-f90a-1ffab59e9343"
      },
      "outputs": [
        {
          "data": {
            "application/vnd.google.colaboratory.intrinsic+json": {
              "type": "string"
            },
            "text/plain": [
              "'<|begin_of_text|>What is 2 plus 2? 4.\\nA. 2 + 2 = 4\\nB. 2 + '"
            ]
          },
          "execution_count": 8,
          "metadata": {},
          "output_type": "execute_result"
        }
      ],
      "source": [
        "tokenizer.decode(outputs[0])"
      ]
    },
    {
      "cell_type": "markdown",
      "metadata": {
        "id": "MSa4KW9-R70N"
      },
      "source": [
        "b. The input prompt is still a part of the output, but we only want to see the model generation. Fix this problem."
      ]
    },
    {
      "cell_type": "code",
      "execution_count": null,
      "metadata": {
        "colab": {
          "base_uri": "https://localhost:8080/",
          "height": 35
        },
        "id": "USDrnEAYR70N",
        "outputId": "0b45726d-adaa-4f43-f485-75e7e9ff27d2"
      },
      "outputs": [
        {
          "data": {
            "application/vnd.google.colaboratory.intrinsic+json": {
              "type": "string"
            },
            "text/plain": [
              "' 4.\\nA. 2 + 2 = 4\\nB. 2 + '"
            ]
          },
          "execution_count": 9,
          "metadata": {},
          "output_type": "execute_result"
        }
      ],
      "source": [
        "end_of_input = inputs[\"input_ids\"].shape[-1]\n",
        "tokenizer.decode(outputs[0][end_of_input:])"
      ]
    },
    {
      "cell_type": "markdown",
      "metadata": {
        "id": "wmVDaSDmR70P"
      },
      "source": [
        "#### Q1.2: Generation Function (1 pts)"
      ]
    },
    {
      "cell_type": "markdown",
      "metadata": {
        "id": "XDyXUF2C8MdA"
      },
      "source": [
        "a. Write and test a function that takes the model, generation config as kwargs with default values, tokenizer and prompt as input and outputs the model generation (generation only). You will be using this in the next sections quite a lot."
      ]
    },
    {
      "cell_type": "code",
      "execution_count": 6,
      "metadata": {
        "id": "pX9Izr0FR70P"
      },
      "outputs": [],
      "source": [
        "def generate(model, tokenizer, prompt, **generation_kwargs):\n",
        "    inputs = tokenizer(prompt, return_tensors=\"pt\").to(model.device)\n",
        "    tokenizer.pad_token = tokenizer.eos_token\n",
        "\n",
        "    outputs = model.generate(\n",
        "        input_ids=inputs[\"input_ids\"],\n",
        "        attention_mask=inputs[\"attention_mask\"],\n",
        "        pad_token_id=tokenizer.pad_token_id,\n",
        "        **generation_kwargs\n",
        "    )\n",
        "\n",
        "    end_of_input = inputs[\"input_ids\"].shape[-1]\n",
        "    return tokenizer.decode(outputs[0][end_of_input:], skip_special_tokens=True)"
      ]
    },
    {
      "cell_type": "markdown",
      "metadata": {
        "id": "ora8C1Dv8MdA"
      },
      "source": [
        "#### Q1.3: Comparing different Tokenizers (3 pts)"
      ]
    },
    {
      "cell_type": "markdown",
      "metadata": {
        "id": "RTgi9lp18MdA"
      },
      "source": [
        "a. Bring in the tokenizer for:\n",
        "\n",
        "- ```meta-llama/Llama-3.2-1B```\n",
        "- ```mistralai/Mistral-7B-v0.1```\n",
        "- ```microsoft/Phi-4-mini-instruct```.\n",
        "\n",
        "Tokenize a PERSIAN sentence with at least 10 words using the tokenizers of all three models from different families and print the human readable output."
      ]
    },
    {
      "cell_type": "code",
      "execution_count": null,
      "metadata": {
        "colab": {
          "base_uri": "https://localhost:8080/"
        },
        "id": "8HRpntnh8MdA",
        "outputId": "5bac593d-ca9a-44ec-c7cf-3d47098d023e"
      },
      "outputs": [
        {
          "name": "stdout",
          "output_type": "stream",
          "text": [
            "The prompt is: سه بار پشت سر هم بگو شیش سیخ جیگر سیخی شیش هزار\n",
            "Llama: ['Ø³Ùĩ', 'ĠØ¨Ø§Ø±', 'ĠÙ¾Ø´Øª', 'ĠØ³Ø±', 'ĠÙĩÙħ', 'ĠØ¨Ú¯', 'ÙĪ', 'ĠØ´', 'ÛĮØ´', 'ĠØ³ÛĮ', 'Ø®', 'ĠØ¬ÛĮ', 'Ú¯Ø±', 'ĠØ³ÛĮ', 'Ø®ÛĮ', 'ĠØ´', 'ÛĮØ´', 'ĠÙĩØ²Ø§Ø±']\n",
            "Llama: 18\n",
            "Mistral: ['▁', 'س', 'ه', '▁', 'ب', 'ا', 'ر', '▁', 'پ', 'ش', 'ت', '▁', 'س', 'ر', '▁', 'ه', 'م', '▁', 'ب', 'گ', 'و', '▁', 'ش', 'ی', 'ش', '▁', 'س', 'ی', 'خ', '▁', 'ج', 'ی', 'گ', 'ر', '▁', 'س', 'ی', 'خ', 'ی', '▁', 'ش', 'ی', 'ش', '▁', 'ه', 'ز', 'ا', 'ر']\n",
            "Mistral: 48\n",
            "Phi: ['Ø³Ùĩ', 'ĠØ¨Ø§Ø±', 'ĠÙ¾Ø´Øª', 'ĠØ³Ø±', 'ĠÙĩÙħ', 'ĠØ¨', 'Ú¯ÙĪ', 'ĠØ´', 'ÛĮØ´', 'ĠØ³ÛĮ', 'Ø®', 'ĠØ¬ÛĮ', 'Ú¯Ø±', 'ĠØ³ÛĮ', 'Ø®ÛĮ', 'ĠØ´', 'ÛĮØ´', 'ĠÙĩØ²Ø§Ø±']\n",
            "Phi: 18\n"
          ]
        }
      ],
      "source": [
        "prompt = \"سه بار پشت سر هم بگو شیش سیخ جیگر سیخی شیش هزار\"\n",
        "print(\"The prompt is:\",prompt)\n",
        "\n",
        "Llama_id = 'meta-llama/Llama-3.2-1B'\n",
        "tokenizer = AutoTokenizer.from_pretrained(Llama_id)\n",
        "print(\"Llama:\", tokenizer.tokenize(prompt))\n",
        "print(\"Llama:\", len(tokenizer.tokenize(prompt)))\n",
        "\n",
        "Mistral_id = 'mistralai/Mistral-7B-v0.1'\n",
        "tokenizer = AutoTokenizer.from_pretrained(Mistral_id)\n",
        "print(\"Mistral:\", tokenizer.tokenize(prompt))\n",
        "print(\"Mistral:\", len(tokenizer.tokenize(prompt)))\n",
        "\n",
        "Phi_id = 'microsoft/Phi-4-mini-instruct'\n",
        "tokenizer = AutoTokenizer.from_pretrained(Phi_id)\n",
        "print(\"Phi:\", tokenizer.tokenize(prompt))\n",
        "print(\"Phi:\", len(tokenizer.tokenize(prompt)))"
      ]
    },
    {
      "cell_type": "code",
      "execution_count": null,
      "metadata": {
        "colab": {
          "base_uri": "https://localhost:8080/"
        },
        "id": "mtyfFf-UFm-I",
        "outputId": "47acc36f-427a-4a68-f283-39929f27b422"
      },
      "outputs": [
        {
          "name": "stdout",
          "output_type": "stream",
          "text": [
            "The prompt is: What is 2 plus 2?\n",
            "Llama: ['What', 'Ġis', 'Ġ', '2', 'Ġplus', 'Ġ', '2', '?']\n",
            "Mistral: ['▁What', '▁is', '▁', '2', '▁plus', '▁', '2', '?']\n",
            "Phi: ['What', 'Ġis', 'Ġ', '2', 'Ġplus', 'Ġ', '2', '?']\n"
          ]
        }
      ],
      "source": [
        "prompt = \"What is 2 plus 2?\"\n",
        "print(\"The prompt is:\",prompt)\n",
        "\n",
        "Llama_id = 'meta-llama/Llama-3.2-1B'\n",
        "llama_tokenizer = AutoTokenizer.from_pretrained(Llama_id)\n",
        "print(\"Llama:\", llama_tokenizer.tokenize(prompt))\n",
        "\n",
        "Mistral_id = 'mistralai/Mistral-7B-v0.1'\n",
        "mistral_tokenizer = AutoTokenizer.from_pretrained(Mistral_id)\n",
        "print(\"Mistral:\", mistral_tokenizer.tokenize(prompt))\n",
        "\n",
        "Phi_id = 'microsoft/Phi-4-mini-instruct'\n",
        "phi_tokenizer = AutoTokenizer.from_pretrained(Phi_id)\n",
        "print(\"Phi:\", phi_tokenizer.tokenize(prompt))"
      ]
    },
    {
      "cell_type": "markdown",
      "metadata": {
        "id": "ZMUGnuUzr8M8"
      },
      "source": [
        "b. Compare the outputs, Which one produces better tokens? What is the reason for this difference in tokenization?"
      ]
    },
    {
      "cell_type": "markdown",
      "metadata": {
        "id": "23IF6J__sEgH"
      },
      "source": [
        "Both Llama-3.2-1B and Phi-4-mini-instruct are producing unreadable tokens. Instead of properly handling UTF-8 characters, they are encoding Persian characters into byte representations. This usually happens when a tokenizer is not trained on Persian text or does not properly support non-Latin scripts. However, Mistral-7B tokenizes the Persian input character by character.\\\n",
        "Since byte-level tokenization works at the byte level, it can handle any language, including rare, unseen, or low-resource languages. Since the models are trained extensively on English,  they can directly tokenize English words without needing to fall back on byte encoding.\\\n",
        "Encoding into byte representation has the advantage of producing fewer tokens and being more efficient."
      ]
    },
    {
      "cell_type": "markdown",
      "metadata": {
        "id": "9WaP1Ril8MdA"
      },
      "source": [
        "#### Q1.4: Base Model vs. Instruction-tuned Model (10 pts)"
      ]
    },
    {
      "cell_type": "markdown",
      "metadata": {
        "id": "Z7IrKIjzR70P"
      },
      "source": [
        "a. See the difference between Base and Instruct Models using the prompt ```What is 2+2?```, Keep in mind that when temperature != 0, you will get different answers. Generate the answers a few time to get a sense of how models work.\n",
        "\n",
        "***NOTE:*** It is recommended to play with various prompts and generation configs."
      ]
    },
    {
      "cell_type": "code",
      "execution_count": null,
      "metadata": {
        "id": "N2xvr1L8R70R"
      },
      "outputs": [],
      "source": [
        "instruct_tokenizer = AutoTokenizer.from_pretrained(INSTRUCT_MODEL)\n",
        "instruct_tokenizer.pad_token = instruct_tokenizer.eos_token\n",
        "\n",
        "base_tokenizer = AutoTokenizer.from_pretrained(model_id)\n",
        "base_model = AutoModelForCausalLM.from_pretrained(\n",
        "    BASE_MODEL,\n",
        "    device_map=DEVICE,\n",
        ")\n",
        "base_tokenizer.pad_token = base_tokenizer.eos_token"
      ]
    },
    {
      "cell_type": "code",
      "execution_count": null,
      "metadata": {
        "colab": {
          "base_uri": "https://localhost:8080/"
        },
        "id": "KchUbpbYLSO4",
        "outputId": "0df044e7-ad96-409f-ae2d-1abd9e9c6290"
      },
      "outputs": [
        {
          "data": {
            "text/plain": [
              "GenerationConfig {\n",
              "  \"bos_token_id\": 128000,\n",
              "  \"do_sample\": true,\n",
              "  \"eos_token_id\": 128001,\n",
              "  \"temperature\": 0.6,\n",
              "  \"top_p\": 0.9\n",
              "}"
            ]
          },
          "execution_count": 12,
          "metadata": {},
          "output_type": "execute_result"
        }
      ],
      "source": [
        "base_model.generation_config"
      ]
    },
    {
      "cell_type": "code",
      "execution_count": null,
      "metadata": {
        "colab": {
          "base_uri": "https://localhost:8080/"
        },
        "id": "atG60Y2LL24I",
        "outputId": "05abab0a-73f8-4e38-9694-2cf1072cb11d"
      },
      "outputs": [
        {
          "data": {
            "text/plain": [
              "GenerationConfig {\n",
              "  \"bos_token_id\": 128000,\n",
              "  \"do_sample\": true,\n",
              "  \"eos_token_id\": [\n",
              "    128001,\n",
              "    128008,\n",
              "    128009\n",
              "  ],\n",
              "  \"temperature\": 0.6,\n",
              "  \"top_p\": 0.9\n",
              "}"
            ]
          },
          "execution_count": 13,
          "metadata": {},
          "output_type": "execute_result"
        }
      ],
      "source": [
        "model.generation_config"
      ]
    },
    {
      "cell_type": "code",
      "execution_count": null,
      "metadata": {
        "colab": {
          "base_uri": "https://localhost:8080/"
        },
        "id": "cbmQGnxkMMTI",
        "outputId": "22170c95-2d83-4fb2-ee10-c2c35bfa14c5"
      },
      "outputs": [
        {
          "name": "stdout",
          "output_type": "stream",
          "text": [
            "Instruct:  4.\n",
            "\n",
            "The answer is 4 because the numbers 2 and 2 are added together to\n",
            "Base:  It is a simple question, but one that is often misunderstood. In this article, we will explore\n"
          ]
        }
      ],
      "source": [
        "prompt = \"What is 2 plus 2?\"\n",
        "print(\"Instruct:\",generate(model=model,prompt=prompt,tokenizer=instruct_tokenizer))\n",
        "print(\"Base:\",generate(model=base_model,prompt=prompt,tokenizer=base_tokenizer))"
      ]
    },
    {
      "cell_type": "code",
      "execution_count": null,
      "metadata": {
        "colab": {
          "base_uri": "https://localhost:8080/"
        },
        "id": "mPknbJDrJivg",
        "outputId": "6af23303-2088-4a91-eaa4-6a1d22f49fd7"
      },
      "outputs": [
        {
          "name": "stdout",
          "output_type": "stream",
          "text": [
            "Instruct: 97% water, and the remaining 3% was made up of saltwater, minerals, and\n",
            "Base: 1,000 miles long and 1,000 miles wide. It was the largest body of water\n"
          ]
        }
      ],
      "source": [
        "prompt = \"The ocean was \"\n",
        "print(\"Instruct:\",generate(model=model,prompt=prompt,tokenizer=instruct_tokenizer, temperature=1.0, top_p=0.2))\n",
        "print(\"Base:\",generate(model=base_model,prompt=prompt,tokenizer=base_tokenizer, temperature=1.0, top_p=0.2))"
      ]
    },
    {
      "cell_type": "markdown",
      "metadata": {
        "id": "IW0Dj72VsP-d"
      },
      "source": [
        "b. In a concise way, what is the difference in outputs? Why the models answer the way they do and how does it affect the way we prompt them?"
      ]
    },
    {
      "cell_type": "markdown",
      "metadata": {
        "id": "AFiPRBdOsXGM"
      },
      "source": [
        "Base language models are like the raw versions of AI trained on massive amounts of text data. They learn to predict the next word in a sequence, capturing the general patterns and structures of language, but they aren't fine-tuned for specific tasks. This means they can generate coherent text but might not always follow specific instructions or provide the most relevant responses.\\\n",
        "On the other hand, instruct language models are those base models that have undergone additional fine-tuning on datasets of instructions and their corresponding outputs. This process helps them understand and follow specific directives, making them more reliable for particular tasks.\\\n",
        "It can be seen from the above examples that for the prompt \"What is 2 plus 2?\" the instruct model, usually gives the correct answer while, the base model often answers something related to mathematics but doesn't involve the answer 4. Furthermore, for prompt \"The ocean was \", the instruct model usually gives facts about oceans while the base model, describes an ocean. So, other than completing sentences, I think using the instruction results in more appropriate answers."
      ]
    },
    {
      "cell_type": "markdown",
      "metadata": {
        "id": "vkSaGiFSR70R"
      },
      "source": [
        "#### Q1.5: Chat Templates for Instruct Models (10 pts)"
      ]
    },
    {
      "cell_type": "markdown",
      "metadata": {
        "id": "P5wdznhWR70R"
      },
      "source": [
        "When using multi-turn or complex chats with LLMs, to maintain context and keep the generation controlled, it is a good practice to comply with the instruction format used by models. Previous instruction-tuned models needed this to do even the simplest tasks but the recent ones are mostly robust to it and can work without it in simple examples. In this section we will go over this concept.\n",
        "\n",
        "\n",
        "An Instruction (Chat) template generally has 3+1 main components (roles):\n",
        "- System Instruction aka system role\n",
        "- User Query aka user role\n",
        "- LLM Answer aka assistant role\n",
        "- (Tool Calls)\n",
        "\n",
        "```apply_chat_template``` on huggingface tokenizers is a unified interface for chat templates used by different models. The providers are responsible for defining this on the tokenizer according to the template they have used during training stage."
      ]
    },
    {
      "cell_type": "markdown",
      "metadata": {
        "id": "hDS6ESF48MdB"
      },
      "source": [
        "a. Bring in the tokenizer and print the ```chat_template``` property on it."
      ]
    },
    {
      "cell_type": "code",
      "execution_count": null,
      "metadata": {
        "colab": {
          "base_uri": "https://localhost:8080/",
          "height": 122
        },
        "id": "nEXFQ8fo8MdB",
        "outputId": "34f88569-e9bd-4b02-a6f8-ff0a105a11cd"
      },
      "outputs": [
        {
          "data": {
            "application/vnd.google.colaboratory.intrinsic+json": {
              "type": "string"
            },
            "text/plain": [
              "'{{- bos_token }}\\n{%- if custom_tools is defined %}\\n    {%- set tools = custom_tools %}\\n{%- endif %}\\n{%- if not tools_in_user_message is defined %}\\n    {%- set tools_in_user_message = true %}\\n{%- endif %}\\n{%- if not date_string is defined %}\\n    {%- if strftime_now is defined %}\\n        {%- set date_string = strftime_now(\"%d %b %Y\") %}\\n    {%- else %}\\n        {%- set date_string = \"26 Jul 2024\" %}\\n    {%- endif %}\\n{%- endif %}\\n{%- if not tools is defined %}\\n    {%- set tools = none %}\\n{%- endif %}\\n\\n{#- This block extracts the system message, so we can slot it into the right place. #}\\n{%- if messages[0][\\'role\\'] == \\'system\\' %}\\n    {%- set system_message = messages[0][\\'content\\']|trim %}\\n    {%- set messages = messages[1:] %}\\n{%- else %}\\n    {%- set system_message = \"\" %}\\n{%- endif %}\\n\\n{#- System message #}\\n{{- \"<|start_header_id|>system<|end_header_id|>\\\\n\\\\n\" }}\\n{%- if tools is not none %}\\n    {{- \"Environment: ipython\\\\n\" }}\\n{%- endif %}\\n{{- \"Cutting Knowledge Date: December 2023\\\\n\" }}\\n{{- \"Today Date: \" + date_string + \"\\\\n\\\\n\" }}\\n{%- if tools is not none and not tools_in_user_message %}\\n    {{- \"You have access to the following functions. To call a function, please respond with JSON for a function call.\" }}\\n    {{- \\'Respond in the format {\"name\": function name, \"parameters\": dictionary of argument name and its value}.\\' }}\\n    {{- \"Do not use variables.\\\\n\\\\n\" }}\\n    {%- for t in tools %}\\n        {{- t | tojson(indent=4) }}\\n        {{- \"\\\\n\\\\n\" }}\\n    {%- endfor %}\\n{%- endif %}\\n{{- system_message }}\\n{{- \"<|eot_id|>\" }}\\n\\n{#- Custom tools are passed in a user message with some extra guidance #}\\n{%- if tools_in_user_message and not tools is none %}\\n    {#- Extract the first user message so we can plug it in here #}\\n    {%- if messages | length != 0 %}\\n        {%- set first_user_message = messages[0][\\'content\\']|trim %}\\n        {%- set messages = messages[1:] %}\\n    {%- else %}\\n        {{- raise_exception(\"Cannot put tools in the first user message when there\\'s no first user message!\") }}\\n{%- endif %}\\n    {{- \\'<|start_header_id|>user<|end_header_id|>\\\\n\\\\n\\' -}}\\n    {{- \"Given the following functions, please respond with a JSON for a function call \" }}\\n    {{- \"with its proper arguments that best answers the given prompt.\\\\n\\\\n\" }}\\n    {{- \\'Respond in the format {\"name\": function name, \"parameters\": dictionary of argument name and its value}.\\' }}\\n    {{- \"Do not use variables.\\\\n\\\\n\" }}\\n    {%- for t in tools %}\\n        {{- t | tojson(indent=4) }}\\n        {{- \"\\\\n\\\\n\" }}\\n    {%- endfor %}\\n    {{- first_user_message + \"<|eot_id|>\"}}\\n{%- endif %}\\n\\n{%- for message in messages %}\\n    {%- if not (message.role == \\'ipython\\' or message.role == \\'tool\\' or \\'tool_calls\\' in message) %}\\n        {{- \\'<|start_header_id|>\\' + message[\\'role\\'] + \\'<|end_header_id|>\\\\n\\\\n\\'+ message[\\'content\\'] | trim + \\'<|eot_id|>\\' }}\\n    {%- elif \\'tool_calls\\' in message %}\\n        {%- if not message.tool_calls|length == 1 %}\\n            {{- raise_exception(\"This model only supports single tool-calls at once!\") }}\\n        {%- endif %}\\n        {%- set tool_call = message.tool_calls[0].function %}\\n        {{- \\'<|start_header_id|>assistant<|end_header_id|>\\\\n\\\\n\\' -}}\\n        {{- \\'{\"name\": \"\\' + tool_call.name + \\'\", \\' }}\\n        {{- \\'\"parameters\": \\' }}\\n        {{- tool_call.arguments | tojson }}\\n        {{- \"}\" }}\\n        {{- \"<|eot_id|>\" }}\\n    {%- elif message.role == \"tool\" or message.role == \"ipython\" %}\\n        {{- \"<|start_header_id|>ipython<|end_header_id|>\\\\n\\\\n\" }}\\n        {%- if message.content is mapping or message.content is iterable %}\\n            {{- message.content | tojson }}\\n        {%- else %}\\n            {{- message.content }}\\n        {%- endif %}\\n        {{- \"<|eot_id|>\" }}\\n    {%- endif %}\\n{%- endfor %}\\n{%- if add_generation_prompt %}\\n    {{- \\'<|start_header_id|>assistant<|end_header_id|>\\\\n\\\\n\\' }}\\n{%- endif %}\\n'"
            ]
          },
          "execution_count": 16,
          "metadata": {},
          "output_type": "execute_result"
        }
      ],
      "source": [
        "instruct_tokenizer.chat_template"
      ]
    },
    {
      "cell_type": "code",
      "execution_count": null,
      "metadata": {
        "colab": {
          "base_uri": "https://localhost:8080/",
          "height": 70
        },
        "id": "cuaBzHjactIf",
        "outputId": "3e54b537-ed01-4e2a-caa3-dad9230f9cf9"
      },
      "outputs": [
        {
          "data": {
            "application/vnd.google.colaboratory.intrinsic+json": {
              "type": "string"
            },
            "text/plain": [
              "\"{% for message in messages %}{% if message['role'] == 'system' and 'tools' in message and message['tools'] is not none %}{{ '<|' + message['role'] + '|>' + message['content'] + '<|tool|>' + message['tools'] + '<|/tool|>' + '<|end|>' }}{% else %}{{ '<|' + message['role'] + '|>' + message['content'] + '<|end|>' }}{% endif %}{% endfor %}{% if add_generation_prompt %}{{ '<|assistant|>' }}{% else %}{{ eos_token }}{% endif %}\""
            ]
          },
          "execution_count": 19,
          "metadata": {},
          "output_type": "execute_result"
        }
      ],
      "source": [
        "phi_tokenizer.chat_template"
      ]
    },
    {
      "cell_type": "markdown",
      "metadata": {
        "id": "ttuXeUP6tCUj"
      },
      "source": [
        "b. In maximum two sentences, what do you see and what is this? How it is used?"
      ]
    },
    {
      "cell_type": "markdown",
      "metadata": {
        "id": "mY1RiPHItLEm"
      },
      "source": [
        "I can see a set of instructions on how to turn a prompt to a suitable input for a specific language model. These instructions are stored for each tokenizer, containing the informations on how to turn the messages to the string format, the model was trained on."
      ]
    },
    {
      "cell_type": "markdown",
      "metadata": {
        "id": "AVTjYdB38MdB"
      },
      "source": [
        "c. Organize the content below using system and user prompt in standard ```ChatML``` format (list of dicts with certain keys), transform them to the instruction format used by LLaMa 3 Models using the ```apply_chat_template``` function and print the human readable output.\n",
        "\n",
        "**System:** You are a funny math teacher, you should answer math questions in a playful and funny tone.\n",
        "\n",
        "**User:** What is 2+2\n",
        "\n",
        "***NOTE:*** You can use ```skip_special_tokens = True``` when decoding to get rid of template tags. You also may update the generate function from previous steps and use that."
      ]
    },
    {
      "cell_type": "code",
      "execution_count": null,
      "metadata": {
        "id": "EsLMXs58esNh"
      },
      "outputs": [],
      "source": [
        "prompt = [\n",
        "    {\"role\":\"system\", \"content\":\"You are a funny math teacher, you should answer math questions in a playful and funny tone.\"},\n",
        "    {\"role\":\"user\", \"content\":\"What is 2+2\"},\n",
        "]\n",
        "instruct_tokenizer.decode(instruct_tokenizer.apply_chat_template(prompt))"
      ]
    },
    {
      "cell_type": "code",
      "execution_count": null,
      "metadata": {
        "id": "xtkA6_PPeKMZ"
      },
      "outputs": [],
      "source": [
        "def apply_template_and_generate(model, tokenizer, prompt, device=DEVICE, **generation_kwargs):\n",
        "    inputs = tokenizer.apply_chat_template(prompt, tokenize=True, add_generation_prompt=True, return_tensors=\"pt\").to(device)\n",
        "    if tokenizer.pad_token is None:\n",
        "        tokenizer.pad_token = tokenizer.eos_token\n",
        "\n",
        "    outputs = model.generate(\n",
        "        input_ids=inputs,\n",
        "        pad_token_id=tokenizer.eos_token_id,\n",
        "        **generation_kwargs\n",
        "    )\n",
        "\n",
        "    end_of_input = inputs.shape[-1]\n",
        "    return tokenizer.decode(outputs[0][end_of_input:], skip_special_tokens=True)"
      ]
    },
    {
      "cell_type": "markdown",
      "metadata": {
        "id": "1vRG32L88MdB"
      },
      "source": [
        "d. Now prompt the model with and without chat template being applied. (In second scenario simply put the system prompt followed by a newline and the user querry as one single string)"
      ]
    },
    {
      "cell_type": "code",
      "execution_count": null,
      "metadata": {
        "colab": {
          "base_uri": "https://localhost:8080/",
          "height": 90
        },
        "id": "Yz7txV3R8MdB",
        "outputId": "95aa537a-e5bc-4b3a-d221-a260f9214f79"
      },
      "outputs": [
        {
          "name": "stderr",
          "output_type": "stream",
          "text": [
            "The attention mask is not set and cannot be inferred from input because pad token is same as eos token. As a consequence, you may observe unexpected behavior. Please pass your input's `attention_mask` to obtain reliable results.\n"
          ]
        },
        {
          "data": {
            "application/vnd.google.colaboratory.intrinsic+json": {
              "type": "string"
            },
            "text/plain": [
              "'You want to know the answer to the age-old question: \"What\\'s the point of math if I\\'m just going to get a 2?\" \\n\\nWell, let me tell you, my friend, it\\'s not just about the number 2. It\\'s about the journey, the adventure, the... okay, okay, it\\'s just about the math.\\n\\nBut seriously, 2 + '"
            ]
          },
          "execution_count": 24,
          "metadata": {},
          "output_type": "execute_result"
        }
      ],
      "source": [
        "prompt_dict = [\n",
        "    {\"role\":\"system\", \"content\":\"You are a funny math teacher, you should answer math questions in a playful and funny tone.\"},\n",
        "    {\"role\":\"user\", \"content\":\"What is 2+2\"},\n",
        "]\n",
        "apply_template_and_generate(model=model,tokenizer=instruct_tokenizer,prompt=prompt_dict,max_new_tokens=80)"
      ]
    },
    {
      "cell_type": "code",
      "execution_count": null,
      "metadata": {
        "colab": {
          "base_uri": "https://localhost:8080/",
          "height": 53
        },
        "id": "IQ0TlZrKjYIQ",
        "outputId": "2f321c56-4649-4680-e001-5bd9ed7eee0e"
      },
      "outputs": [
        {
          "data": {
            "application/vnd.google.colaboratory.intrinsic+json": {
              "type": "string"
            },
            "text/plain": [
              "'? (dramatic music plays)\\n\\n Ah, you want to know the answer to the age-old question, \"What\\'s the point of math, anyway?\" Well, let me tell you, my friend, it\\'s not just about solving equations and memorizing formulas. Although, I have to say, I do love a good equation. (wink)\\n\\nBut seriously, 2+2 is'"
            ]
          },
          "execution_count": 25,
          "metadata": {},
          "output_type": "execute_result"
        }
      ],
      "source": [
        "prompt_str = \"You are a funny math teacher, you should answer math questions in a playful and funny tone.\\nWhat is 2+2\"\n",
        "generate(model=model,tokenizer=instruct_tokenizer,prompt=prompt_str,max_new_tokens=80)"
      ]
    },
    {
      "cell_type": "code",
      "execution_count": null,
      "metadata": {
        "id": "y8TOZYqWeL43"
      },
      "outputs": [],
      "source": [
        "from tqdm import tqdm"
      ]
    },
    {
      "cell_type": "code",
      "execution_count": null,
      "metadata": {
        "colab": {
          "base_uri": "https://localhost:8080/"
        },
        "id": "5OdIgAzrUesJ",
        "outputId": "cac2dac8-e6ed-4677-9211-a3dc8c77d556"
      },
      "outputs": [
        {
          "name": "stderr",
          "output_type": "stream",
          "text": [
            "100%|██████████| 100/100 [06:45<00:00,  4.05s/it]\n"
          ]
        },
        {
          "data": {
            "text/plain": [
              "(93, 60, 74, 56)"
            ]
          },
          "execution_count": 26,
          "metadata": {},
          "output_type": "execute_result"
        }
      ],
      "source": [
        "cnt2_template = 0\n",
        "cnt4_template = 0\n",
        "cnt2_no_template = 0\n",
        "cnt4_no_template = 0\n",
        "for _ in tqdm(range(100), position=0, leave=True):\n",
        "  res = apply_template_and_generate(model=model,tokenizer=instruct_tokenizer,prompt=prompt_dict,max_new_tokens=80)\n",
        "  if '2' in res:\n",
        "    cnt2_template += 1\n",
        "  if '4' in res:\n",
        "    cnt4_template += 1\n",
        "  res = generate(model=model,tokenizer=instruct_tokenizer,prompt=prompt_str,max_new_tokens=80)\n",
        "  if '2' in res:\n",
        "    cnt2_no_template += 1\n",
        "  if '4' in res:\n",
        "    cnt4_no_template += 1\n",
        "cnt2_template, cnt4_template, cnt2_no_template, cnt4_no_template"
      ]
    },
    {
      "cell_type": "markdown",
      "metadata": {
        "id": "jz3SPkkt8MdB"
      },
      "source": [
        "e. What is your observation, do we need instruction formats in this scenario or the model can follow?"
      ]
    },
    {
      "cell_type": "markdown",
      "metadata": {
        "id": "PSEix7zSuGdI"
      },
      "source": [
        "After experimenting with the model with and without applying the template, I noticed that both resulted in outputs with a funny mathematical tone, but to test if they actually answered the user's query \"What is 2+2?\", I've ran each one 100 times. The result is (93, 60, 74, 56) which shows that both resulted in the correct answer almost half of the times but without applying the template, the number 2 which is part of the query didn't show up as much. So there is still a bit of difference in the results but both can produce a correct output."
      ]
    },
    {
      "cell_type": "markdown",
      "metadata": {
        "id": "rZqiQWiK8MdC"
      },
      "source": [
        "Well, let's go a step further :)\n",
        "\n",
        "Below is a conversation between Dr. Yaghoobzadeh and Dr. Dousti (The content is generated by LLMs and I don't know what's going on in this conversation)"
      ]
    },
    {
      "cell_type": "code",
      "execution_count": null,
      "metadata": {
        "id": "oXGcaS_QR70R"
      },
      "outputs": [],
      "source": [
        "# Conversation data ready for applying ChatML template\n",
        "messages = [\n",
        "    {\n",
        "        \"role\": \"system\",\n",
        "        \"content\": \"You are a system that can simulate two AI experts debating: Dr. Dousti (NLP researcher) and Dr. Yaghoobzadeh (NLP researcher). When I write [DOUSTI], respond as Dr. Dousti. When I write [YAGHOOBZADEH], respond as Dr. Yaghoobzadeh. Both should maintain their distinct perspectives and expertise.\"\n",
        "    },\n",
        "    {\n",
        "        \"role\": \"user\",\n",
        "        \"content\": \"[DOUSTI] What's your assessment of retrieval-augmented generation for LLMs in production systems?\"\n",
        "    },\n",
        "    {\n",
        "        \"role\": \"assistant\",\n",
        "        \"content\": \"As Dr. Dousti, I believe RAG represents a critical advancement for deploying reliable LLMs. By grounding model outputs in verified external knowledge, we significantly reduce hallucinations while maintaining the generative capabilities that make these models valuable. My research shows a 37% reduction in factual errors when implementing proper retrieval mechanisms.\"\n",
        "    },\n",
        "    {\n",
        "        \"role\": \"user\",\n",
        "        \"content\": \"[YAGHOOBZADEH] But what about the computational overhead and latency issues for real-time applications?\"\n",
        "    },\n",
        "    {\n",
        "        \"role\": \"assistant\",\n",
        "        \"content\": \"As Dr. Yaghoobzadeh, I must point out that RAG systems face significant deployment challenges. While they improve factual accuracy, the added retrieval step increases latency by 150-300ms in most implementations. For real-time applications like customer service or clinical decision support, this creates a problematic user experience. Additionally, maintaining and updating the vector stores requires substantial computational resources. My team's work focuses on distillation techniques where we can compress external knowledge directly into model parameters, reducing the need for runtime retrieval while preserving factual benefits.\"\n",
        "    },\n",
        "    {\n",
        "        \"role\": \"user\",\n",
        "        \"content\": \"[DOUSTI] Do you think modular architectures with specialized retrievers are the answer?\"\n",
        "    }\n",
        "]\n",
        "\n",
        "messages_raw =\"\"\"\n",
        "You are a system that can simulate two AI experts debating: Dr. Dousti (NLP Researcher) and Dr. Yaghoobzadeh (NLP Researcher). When I write [DOUSTI], respond as Dr. Dousti. When I write [YAGHOOBZADEH], respond as Dr. Yaghoobzadeh. Both should maintain their distinct perspectives and expertise.\n",
        "[DOUSTI] What's your assessment of retrieval-augmented generation for LLMs in production systems?\n",
        "As Dr. Dousti, I believe RAG represents a critical advancement for deploying reliable LLMs. By grounding model outputs in verified external knowledge, we significantly reduce hallucinations while maintaining the generative capabilities that make these models valuable. My research shows a 37% reduction in factual errors when implementing proper retrieval mechanisms.\n",
        "[YAGHOOBZADEH] But what about the computational overhead and latency issues for real-time applications?\n",
        "As Dr. Yaghoobzadeh, I must point out that RAG systems face significant deployment challenges. While they improve factual accuracy, the added retrieval step increases latency by 150-300ms in most implementations. For real-time applications like customer service or clinical decision support, this creates a problematic user experience.\n",
        "[DOUSTI] Do you think modular architectures with specialized retrievers are the answer?\n",
        "\"\"\"\n"
      ]
    },
    {
      "cell_type": "markdown",
      "metadata": {
        "id": "i-y3O5jx8MdC"
      },
      "source": [
        "f. Now repeat what you have done with funny teacher example and compare the results with and without applying chat template."
      ]
    },
    {
      "cell_type": "code",
      "execution_count": null,
      "metadata": {
        "colab": {
          "base_uri": "https://localhost:8080/",
          "height": 70
        },
        "id": "Tp3pu-LY8MdC",
        "outputId": "d8b0588f-31d5-486f-bb36-fcf1449fb02f"
      },
      "outputs": [
        {
          "data": {
            "application/vnd.google.colaboratory.intrinsic+json": {
              "type": "string"
            },
            "text/plain": [
              "\"As Dr. Dousti, I agree that modular architectures can be beneficial. By separating retriever components from the main model, we can optimize for performance and accuracy separately. Modular retrievers like BERT's DistilBERT or the recently introduced DistilBERT-XL can significantly reduce latency while maintaining factual accuracy. Furthermore, modular approaches enable easier updates and maintenance of external knowledge. By leveraging these specialized retrie\""
            ]
          },
          "execution_count": 37,
          "metadata": {},
          "output_type": "execute_result"
        }
      ],
      "source": [
        "apply_template_and_generate(model=model,tokenizer=instruct_tokenizer,prompt=messages,max_new_tokens=80)"
      ]
    },
    {
      "cell_type": "code",
      "execution_count": null,
      "metadata": {
        "colab": {
          "base_uri": "https://localhost:8080/",
          "height": 70
        },
        "id": "_MsNQyF8iiqX",
        "outputId": "3dc2234d-77a5-41ee-ddb8-c799f33f8b24"
      },
      "outputs": [
        {
          "name": "stderr",
          "output_type": "stream",
          "text": [
            "Setting `pad_token_id` to `eos_token_id`:128001 for open-end generation.\n"
          ]
        },
        {
          "data": {
            "application/vnd.google.colaboratory.intrinsic+json": {
              "type": "string"
            },
            "text/plain": [
              "'As Dr. Dousti, I agree that modular architectures can help alleviate some of the latency concerns. By separating retrieval tasks from model training, we can optimize both components independently. This modular design enables real-time applications to focus on generating high-quality text, while the retrieval component handles the necessary verification and validation. My research demonstrates a 20% reduction in latency for modular architectures.\\n[YAGHOOB'"
            ]
          },
          "execution_count": 38,
          "metadata": {},
          "output_type": "execute_result"
        }
      ],
      "source": [
        "generate(model=model,tokenizer=instruct_tokenizer,prompt=messages_raw,max_new_tokens=80)"
      ]
    },
    {
      "cell_type": "markdown",
      "metadata": {
        "id": "2FsqlbHp8MdD"
      },
      "source": [
        "g. Write your observations down here. Does the model comply to what we want without using templates in this scenario? Why?"
      ]
    },
    {
      "cell_type": "markdown",
      "metadata": {
        "id": "apAhGe2fuqPz"
      },
      "source": [
        "Yes. Both outputs start with \"As Dr. Dousti, I agree\" which is what we wanted.Moreover, both continue on making similar sentences. So we can see when using long messages with or without template, Llama model can produce appropriate outputs which may show its power in understanding text structure due to large amount of unstructured data seen during pretraining."
      ]
    },
    {
      "cell_type": "markdown",
      "metadata": {
        "id": "9-5hYIfqDH0n"
      },
      "source": [
        "## Q2: Fine-tuning using LoRa (75 pts)"
      ]
    },
    {
      "cell_type": "markdown",
      "metadata": {
        "id": "u8HEmbK_8MdD"
      },
      "source": [
        "Let's make it more interesting. We certainly don't want to just prompt models here. We will fine-tune a base model using a small classification dataset on emotion detection. The resulting model's performance will be compared with the instruction-tuned model by Meta and the base model. We will get a sense of how everything works quantitively. We don't want you to just stare at the screen watching the model converge. With the right configurations, your training should not take more than 10 minutes and the purpose here is for you to learn a diverse set of tools that will help you in doing your final project."
      ]
    },
    {
      "cell_type": "markdown",
      "metadata": {
        "id": "j3UPtgJOR70R"
      },
      "source": [
        "### A. Dataset (15 pts)"
      ]
    },
    {
      "cell_type": "code",
      "execution_count": 7,
      "metadata": {
        "id": "nXdnYXdjVW3L"
      },
      "outputs": [],
      "source": [
        "DS_NAME = 'emotion'\n",
        "DS_TRAINING_SIZE = 1500\n",
        "DS_TEST_SIZE = 100\n",
        "DS_VALIDATION_SIZE = 50"
      ]
    },
    {
      "cell_type": "markdown",
      "metadata": {
        "id": "XbvMXG5p8MdD"
      },
      "source": [
        "a. Read the dataset from huggingface. Look at the features and the distribution on the labels of the dataset to get a sense of what it is about."
      ]
    },
    {
      "cell_type": "code",
      "execution_count": 8,
      "metadata": {
        "colab": {
          "base_uri": "https://localhost:8080/"
        },
        "id": "YUvwhGxO1rIP",
        "outputId": "e3b46096-a1ae-49f8-c3af-afa21d0fd495"
      },
      "outputs": [
        {
          "name": "stdout",
          "output_type": "stream",
          "text": [
            "Requirement already satisfied: datasets in /usr/local/lib/python3.11/dist-packages (3.4.0)\n",
            "Requirement already satisfied: filelock in /usr/local/lib/python3.11/dist-packages (from datasets) (3.17.0)\n",
            "Requirement already satisfied: numpy>=1.17 in /usr/local/lib/python3.11/dist-packages (from datasets) (1.26.4)\n",
            "Requirement already satisfied: pyarrow>=15.0.0 in /usr/local/lib/python3.11/dist-packages (from datasets) (18.1.0)\n",
            "Requirement already satisfied: dill<0.3.9,>=0.3.0 in /usr/local/lib/python3.11/dist-packages (from datasets) (0.3.8)\n",
            "Requirement already satisfied: pandas in /usr/local/lib/python3.11/dist-packages (from datasets) (2.2.2)\n",
            "Requirement already satisfied: requests>=2.32.2 in /usr/local/lib/python3.11/dist-packages (from datasets) (2.32.3)\n",
            "Requirement already satisfied: tqdm>=4.66.3 in /usr/local/lib/python3.11/dist-packages (from datasets) (4.67.1)\n",
            "Requirement already satisfied: xxhash in /usr/local/lib/python3.11/dist-packages (from datasets) (3.5.0)\n",
            "Requirement already satisfied: multiprocess<0.70.17 in /usr/local/lib/python3.11/dist-packages (from datasets) (0.70.16)\n",
            "Requirement already satisfied: fsspec<=2024.12.0,>=2023.1.0 in /usr/local/lib/python3.11/dist-packages (from fsspec[http]<=2024.12.0,>=2023.1.0->datasets) (2024.10.0)\n",
            "Requirement already satisfied: aiohttp in /usr/local/lib/python3.11/dist-packages (from datasets) (3.11.13)\n",
            "Requirement already satisfied: huggingface-hub>=0.24.0 in /usr/local/lib/python3.11/dist-packages (from datasets) (0.28.1)\n",
            "Requirement already satisfied: packaging in /usr/local/lib/python3.11/dist-packages (from datasets) (24.2)\n",
            "Requirement already satisfied: pyyaml>=5.1 in /usr/local/lib/python3.11/dist-packages (from datasets) (6.0.2)\n",
            "Requirement already satisfied: aiohappyeyeballs>=2.3.0 in /usr/local/lib/python3.11/dist-packages (from aiohttp->datasets) (2.6.1)\n",
            "Requirement already satisfied: aiosignal>=1.1.2 in /usr/local/lib/python3.11/dist-packages (from aiohttp->datasets) (1.3.2)\n",
            "Requirement already satisfied: attrs>=17.3.0 in /usr/local/lib/python3.11/dist-packages (from aiohttp->datasets) (25.2.0)\n",
            "Requirement already satisfied: frozenlist>=1.1.1 in /usr/local/lib/python3.11/dist-packages (from aiohttp->datasets) (1.5.0)\n",
            "Requirement already satisfied: multidict<7.0,>=4.5 in /usr/local/lib/python3.11/dist-packages (from aiohttp->datasets) (6.1.0)\n",
            "Requirement already satisfied: propcache>=0.2.0 in /usr/local/lib/python3.11/dist-packages (from aiohttp->datasets) (0.3.0)\n",
            "Requirement already satisfied: yarl<2.0,>=1.17.0 in /usr/local/lib/python3.11/dist-packages (from aiohttp->datasets) (1.18.3)\n",
            "Requirement already satisfied: typing-extensions>=3.7.4.3 in /usr/local/lib/python3.11/dist-packages (from huggingface-hub>=0.24.0->datasets) (4.12.2)\n",
            "Requirement already satisfied: charset-normalizer<4,>=2 in /usr/local/lib/python3.11/dist-packages (from requests>=2.32.2->datasets) (3.4.1)\n",
            "Requirement already satisfied: idna<4,>=2.5 in /usr/local/lib/python3.11/dist-packages (from requests>=2.32.2->datasets) (3.10)\n",
            "Requirement already satisfied: urllib3<3,>=1.21.1 in /usr/local/lib/python3.11/dist-packages (from requests>=2.32.2->datasets) (2.3.0)\n",
            "Requirement already satisfied: certifi>=2017.4.17 in /usr/local/lib/python3.11/dist-packages (from requests>=2.32.2->datasets) (2025.1.31)\n",
            "Requirement already satisfied: python-dateutil>=2.8.2 in /usr/local/lib/python3.11/dist-packages (from pandas->datasets) (2.8.2)\n",
            "Requirement already satisfied: pytz>=2020.1 in /usr/local/lib/python3.11/dist-packages (from pandas->datasets) (2025.1)\n",
            "Requirement already satisfied: tzdata>=2022.7 in /usr/local/lib/python3.11/dist-packages (from pandas->datasets) (2025.1)\n",
            "Requirement already satisfied: six>=1.5 in /usr/local/lib/python3.11/dist-packages (from python-dateutil>=2.8.2->pandas->datasets) (1.17.0)\n"
          ]
        }
      ],
      "source": [
        "!pip install datasets"
      ]
    },
    {
      "cell_type": "code",
      "execution_count": 9,
      "metadata": {
        "id": "p-vZIZ-Kmv5n"
      },
      "outputs": [],
      "source": [
        "from datasets import load_dataset\n",
        "from datasets import Dataset\n",
        "import pandas as pd"
      ]
    },
    {
      "cell_type": "code",
      "execution_count": 10,
      "metadata": {
        "colab": {
          "base_uri": "https://localhost:8080/"
        },
        "id": "GTqcoYVM8MdD",
        "outputId": "8b8d199c-aba8-42a5-bd2e-a3b57f82a2d4"
      },
      "outputs": [
        {
          "name": "stderr",
          "output_type": "stream",
          "text": [
            "/usr/local/lib/python3.11/dist-packages/huggingface_hub/utils/_auth.py:94: UserWarning: \n",
            "The secret `HF_TOKEN` does not exist in your Colab secrets.\n",
            "To authenticate with the Hugging Face Hub, create a token in your settings tab (https://huggingface.co/settings/tokens), set it as secret in your Google Colab and restart your session.\n",
            "You will be able to reuse this secret in all of your notebooks.\n",
            "Please note that authentication is recommended but still optional to access public models or datasets.\n",
            "  warnings.warn(\n"
          ]
        }
      ],
      "source": [
        "dataset = load_dataset(\"dair-ai/emotion\")"
      ]
    },
    {
      "cell_type": "code",
      "execution_count": null,
      "metadata": {
        "colab": {
          "base_uri": "https://localhost:8080/"
        },
        "id": "gENav5NznuH_",
        "outputId": "685b4d64-ab6d-43e1-fed5-544a176f7213"
      },
      "outputs": [
        {
          "data": {
            "text/plain": [
              "DatasetDict({\n",
              "    train: Dataset({\n",
              "        features: ['text', 'label'],\n",
              "        num_rows: 16000\n",
              "    })\n",
              "    validation: Dataset({\n",
              "        features: ['text', 'label'],\n",
              "        num_rows: 2000\n",
              "    })\n",
              "    test: Dataset({\n",
              "        features: ['text', 'label'],\n",
              "        num_rows: 2000\n",
              "    })\n",
              "})"
            ]
          },
          "execution_count": 13,
          "metadata": {},
          "output_type": "execute_result"
        }
      ],
      "source": [
        "dataset"
      ]
    },
    {
      "cell_type": "code",
      "execution_count": 11,
      "metadata": {
        "colab": {
          "base_uri": "https://localhost:8080/",
          "height": 206
        },
        "id": "Mb7fE8QBmypu",
        "outputId": "7407e0a1-904a-4deb-bbdc-04f0bf83d6f1"
      },
      "outputs": [
        {
          "data": {
            "application/vnd.google.colaboratory.intrinsic+json": {
              "summary": "{\n  \"name\": \"df\",\n  \"rows\": 5,\n  \"fields\": [\n    {\n      \"column\": \"text\",\n      \"properties\": {\n        \"dtype\": \"string\",\n        \"num_unique_values\": 5,\n        \"samples\": [\n          \"i have now finished my blanket and am feeling a little free\",\n          \"i am feeling optimistic about doing as much as possible in the next to hours before the kids come home\",\n          \"im writing this blog post and feeling totally amazed at this wonderful life we lead\"\n        ],\n        \"semantic_type\": \"\",\n        \"description\": \"\"\n      }\n    },\n    {\n      \"column\": \"label\",\n      \"properties\": {\n        \"dtype\": \"number\",\n        \"std\": 1,\n        \"min\": 0,\n        \"max\": 5,\n        \"num_unique_values\": 3,\n        \"samples\": [\n          0,\n          1,\n          5\n        ],\n        \"semantic_type\": \"\",\n        \"description\": \"\"\n      }\n    }\n  ]\n}",
              "type": "dataframe"
            },
            "text/html": [
              "\n",
              "  <div id=\"df-5affeb51-df44-4f00-926a-f77884d5bc95\" class=\"colab-df-container\">\n",
              "    <div>\n",
              "<style scoped>\n",
              "    .dataframe tbody tr th:only-of-type {\n",
              "        vertical-align: middle;\n",
              "    }\n",
              "\n",
              "    .dataframe tbody tr th {\n",
              "        vertical-align: top;\n",
              "    }\n",
              "\n",
              "    .dataframe thead th {\n",
              "        text-align: right;\n",
              "    }\n",
              "</style>\n",
              "<table border=\"1\" class=\"dataframe\">\n",
              "  <thead>\n",
              "    <tr style=\"text-align: right;\">\n",
              "      <th></th>\n",
              "      <th>text</th>\n",
              "      <th>label</th>\n",
              "    </tr>\n",
              "  </thead>\n",
              "  <tbody>\n",
              "    <tr>\n",
              "      <th>7325</th>\n",
              "      <td>i told my boss at around weeks because i was f...</td>\n",
              "      <td>0</td>\n",
              "    </tr>\n",
              "    <tr>\n",
              "      <th>8113</th>\n",
              "      <td>i have now finished my blanket and am feeling ...</td>\n",
              "      <td>1</td>\n",
              "    </tr>\n",
              "    <tr>\n",
              "      <th>13358</th>\n",
              "      <td>im writing this blog post and feeling totally ...</td>\n",
              "      <td>5</td>\n",
              "    </tr>\n",
              "    <tr>\n",
              "      <th>15461</th>\n",
              "      <td>im feeling pretty hopeful about the future of ...</td>\n",
              "      <td>1</td>\n",
              "    </tr>\n",
              "    <tr>\n",
              "      <th>1700</th>\n",
              "      <td>i am feeling optimistic about doing as much as...</td>\n",
              "      <td>1</td>\n",
              "    </tr>\n",
              "  </tbody>\n",
              "</table>\n",
              "</div>\n",
              "    <div class=\"colab-df-buttons\">\n",
              "\n",
              "  <div class=\"colab-df-container\">\n",
              "    <button class=\"colab-df-convert\" onclick=\"convertToInteractive('df-5affeb51-df44-4f00-926a-f77884d5bc95')\"\n",
              "            title=\"Convert this dataframe to an interactive table.\"\n",
              "            style=\"display:none;\">\n",
              "\n",
              "  <svg xmlns=\"http://www.w3.org/2000/svg\" height=\"24px\" viewBox=\"0 -960 960 960\">\n",
              "    <path d=\"M120-120v-720h720v720H120Zm60-500h600v-160H180v160Zm220 220h160v-160H400v160Zm0 220h160v-160H400v160ZM180-400h160v-160H180v160Zm440 0h160v-160H620v160ZM180-180h160v-160H180v160Zm440 0h160v-160H620v160Z\"/>\n",
              "  </svg>\n",
              "    </button>\n",
              "\n",
              "  <style>\n",
              "    .colab-df-container {\n",
              "      display:flex;\n",
              "      gap: 12px;\n",
              "    }\n",
              "\n",
              "    .colab-df-convert {\n",
              "      background-color: #E8F0FE;\n",
              "      border: none;\n",
              "      border-radius: 50%;\n",
              "      cursor: pointer;\n",
              "      display: none;\n",
              "      fill: #1967D2;\n",
              "      height: 32px;\n",
              "      padding: 0 0 0 0;\n",
              "      width: 32px;\n",
              "    }\n",
              "\n",
              "    .colab-df-convert:hover {\n",
              "      background-color: #E2EBFA;\n",
              "      box-shadow: 0px 1px 2px rgba(60, 64, 67, 0.3), 0px 1px 3px 1px rgba(60, 64, 67, 0.15);\n",
              "      fill: #174EA6;\n",
              "    }\n",
              "\n",
              "    .colab-df-buttons div {\n",
              "      margin-bottom: 4px;\n",
              "    }\n",
              "\n",
              "    [theme=dark] .colab-df-convert {\n",
              "      background-color: #3B4455;\n",
              "      fill: #D2E3FC;\n",
              "    }\n",
              "\n",
              "    [theme=dark] .colab-df-convert:hover {\n",
              "      background-color: #434B5C;\n",
              "      box-shadow: 0px 1px 3px 1px rgba(0, 0, 0, 0.15);\n",
              "      filter: drop-shadow(0px 1px 2px rgba(0, 0, 0, 0.3));\n",
              "      fill: #FFFFFF;\n",
              "    }\n",
              "  </style>\n",
              "\n",
              "    <script>\n",
              "      const buttonEl =\n",
              "        document.querySelector('#df-5affeb51-df44-4f00-926a-f77884d5bc95 button.colab-df-convert');\n",
              "      buttonEl.style.display =\n",
              "        google.colab.kernel.accessAllowed ? 'block' : 'none';\n",
              "\n",
              "      async function convertToInteractive(key) {\n",
              "        const element = document.querySelector('#df-5affeb51-df44-4f00-926a-f77884d5bc95');\n",
              "        const dataTable =\n",
              "          await google.colab.kernel.invokeFunction('convertToInteractive',\n",
              "                                                    [key], {});\n",
              "        if (!dataTable) return;\n",
              "\n",
              "        const docLinkHtml = 'Like what you see? Visit the ' +\n",
              "          '<a target=\"_blank\" href=https://colab.research.google.com/notebooks/data_table.ipynb>data table notebook</a>'\n",
              "          + ' to learn more about interactive tables.';\n",
              "        element.innerHTML = '';\n",
              "        dataTable['output_type'] = 'display_data';\n",
              "        await google.colab.output.renderOutput(dataTable, element);\n",
              "        const docLink = document.createElement('div');\n",
              "        docLink.innerHTML = docLinkHtml;\n",
              "        element.appendChild(docLink);\n",
              "      }\n",
              "    </script>\n",
              "  </div>\n",
              "\n",
              "\n",
              "<div id=\"df-993423d5-218b-45cd-9904-057f0fa9bf8a\">\n",
              "  <button class=\"colab-df-quickchart\" onclick=\"quickchart('df-993423d5-218b-45cd-9904-057f0fa9bf8a')\"\n",
              "            title=\"Suggest charts\"\n",
              "            style=\"display:none;\">\n",
              "\n",
              "<svg xmlns=\"http://www.w3.org/2000/svg\" height=\"24px\"viewBox=\"0 0 24 24\"\n",
              "     width=\"24px\">\n",
              "    <g>\n",
              "        <path d=\"M19 3H5c-1.1 0-2 .9-2 2v14c0 1.1.9 2 2 2h14c1.1 0 2-.9 2-2V5c0-1.1-.9-2-2-2zM9 17H7v-7h2v7zm4 0h-2V7h2v10zm4 0h-2v-4h2v4z\"/>\n",
              "    </g>\n",
              "</svg>\n",
              "  </button>\n",
              "\n",
              "<style>\n",
              "  .colab-df-quickchart {\n",
              "      --bg-color: #E8F0FE;\n",
              "      --fill-color: #1967D2;\n",
              "      --hover-bg-color: #E2EBFA;\n",
              "      --hover-fill-color: #174EA6;\n",
              "      --disabled-fill-color: #AAA;\n",
              "      --disabled-bg-color: #DDD;\n",
              "  }\n",
              "\n",
              "  [theme=dark] .colab-df-quickchart {\n",
              "      --bg-color: #3B4455;\n",
              "      --fill-color: #D2E3FC;\n",
              "      --hover-bg-color: #434B5C;\n",
              "      --hover-fill-color: #FFFFFF;\n",
              "      --disabled-bg-color: #3B4455;\n",
              "      --disabled-fill-color: #666;\n",
              "  }\n",
              "\n",
              "  .colab-df-quickchart {\n",
              "    background-color: var(--bg-color);\n",
              "    border: none;\n",
              "    border-radius: 50%;\n",
              "    cursor: pointer;\n",
              "    display: none;\n",
              "    fill: var(--fill-color);\n",
              "    height: 32px;\n",
              "    padding: 0;\n",
              "    width: 32px;\n",
              "  }\n",
              "\n",
              "  .colab-df-quickchart:hover {\n",
              "    background-color: var(--hover-bg-color);\n",
              "    box-shadow: 0 1px 2px rgba(60, 64, 67, 0.3), 0 1px 3px 1px rgba(60, 64, 67, 0.15);\n",
              "    fill: var(--button-hover-fill-color);\n",
              "  }\n",
              "\n",
              "  .colab-df-quickchart-complete:disabled,\n",
              "  .colab-df-quickchart-complete:disabled:hover {\n",
              "    background-color: var(--disabled-bg-color);\n",
              "    fill: var(--disabled-fill-color);\n",
              "    box-shadow: none;\n",
              "  }\n",
              "\n",
              "  .colab-df-spinner {\n",
              "    border: 2px solid var(--fill-color);\n",
              "    border-color: transparent;\n",
              "    border-bottom-color: var(--fill-color);\n",
              "    animation:\n",
              "      spin 1s steps(1) infinite;\n",
              "  }\n",
              "\n",
              "  @keyframes spin {\n",
              "    0% {\n",
              "      border-color: transparent;\n",
              "      border-bottom-color: var(--fill-color);\n",
              "      border-left-color: var(--fill-color);\n",
              "    }\n",
              "    20% {\n",
              "      border-color: transparent;\n",
              "      border-left-color: var(--fill-color);\n",
              "      border-top-color: var(--fill-color);\n",
              "    }\n",
              "    30% {\n",
              "      border-color: transparent;\n",
              "      border-left-color: var(--fill-color);\n",
              "      border-top-color: var(--fill-color);\n",
              "      border-right-color: var(--fill-color);\n",
              "    }\n",
              "    40% {\n",
              "      border-color: transparent;\n",
              "      border-right-color: var(--fill-color);\n",
              "      border-top-color: var(--fill-color);\n",
              "    }\n",
              "    60% {\n",
              "      border-color: transparent;\n",
              "      border-right-color: var(--fill-color);\n",
              "    }\n",
              "    80% {\n",
              "      border-color: transparent;\n",
              "      border-right-color: var(--fill-color);\n",
              "      border-bottom-color: var(--fill-color);\n",
              "    }\n",
              "    90% {\n",
              "      border-color: transparent;\n",
              "      border-bottom-color: var(--fill-color);\n",
              "    }\n",
              "  }\n",
              "</style>\n",
              "\n",
              "  <script>\n",
              "    async function quickchart(key) {\n",
              "      const quickchartButtonEl =\n",
              "        document.querySelector('#' + key + ' button');\n",
              "      quickchartButtonEl.disabled = true;  // To prevent multiple clicks.\n",
              "      quickchartButtonEl.classList.add('colab-df-spinner');\n",
              "      try {\n",
              "        const charts = await google.colab.kernel.invokeFunction(\n",
              "            'suggestCharts', [key], {});\n",
              "      } catch (error) {\n",
              "        console.error('Error during call to suggestCharts:', error);\n",
              "      }\n",
              "      quickchartButtonEl.classList.remove('colab-df-spinner');\n",
              "      quickchartButtonEl.classList.add('colab-df-quickchart-complete');\n",
              "    }\n",
              "    (() => {\n",
              "      let quickchartButtonEl =\n",
              "        document.querySelector('#df-993423d5-218b-45cd-9904-057f0fa9bf8a button');\n",
              "      quickchartButtonEl.style.display =\n",
              "        google.colab.kernel.accessAllowed ? 'block' : 'none';\n",
              "    })();\n",
              "  </script>\n",
              "</div>\n",
              "    </div>\n",
              "  </div>\n"
            ],
            "text/plain": [
              "                                                    text  label\n",
              "7325   i told my boss at around weeks because i was f...      0\n",
              "8113   i have now finished my blanket and am feeling ...      1\n",
              "13358  im writing this blog post and feeling totally ...      5\n",
              "15461  im feeling pretty hopeful about the future of ...      1\n",
              "1700   i am feeling optimistic about doing as much as...      1"
            ]
          },
          "execution_count": 11,
          "metadata": {},
          "output_type": "execute_result"
        }
      ],
      "source": [
        "df = dataset['train'].to_pandas()\n",
        "df.sample(5)"
      ]
    },
    {
      "cell_type": "code",
      "execution_count": null,
      "metadata": {
        "colab": {
          "base_uri": "https://localhost:8080/"
        },
        "id": "BwoGuj9YtFWn",
        "outputId": "d8a63d54-2184-4277-f9dd-eed6691c5c9c"
      },
      "outputs": [
        {
          "name": "stdout",
          "output_type": "stream",
          "text": [
            "<class 'pandas.core.frame.DataFrame'>\n",
            "RangeIndex: 16000 entries, 0 to 15999\n",
            "Data columns (total 2 columns):\n",
            " #   Column  Non-Null Count  Dtype \n",
            "---  ------  --------------  ----- \n",
            " 0   text    16000 non-null  object\n",
            " 1   label   16000 non-null  int64 \n",
            "dtypes: int64(1), object(1)\n",
            "memory usage: 250.1+ KB\n"
          ]
        }
      ],
      "source": [
        "df.info()"
      ]
    },
    {
      "cell_type": "code",
      "execution_count": null,
      "metadata": {
        "colab": {
          "base_uri": "https://localhost:8080/",
          "height": 269
        },
        "id": "Y1Lzut-qoZfP",
        "outputId": "caae541b-0446-42c8-8ed9-a3872a06a8c3"
      },
      "outputs": [
        {
          "data": {
            "application/vnd.google.colaboratory.intrinsic+json": {
              "summary": "{\n  \"name\": \"pd\",\n  \"rows\": 6,\n  \"fields\": [\n    {\n      \"column\": \"label\",\n      \"properties\": {\n        \"dtype\": \"number\",\n        \"std\": 1,\n        \"min\": 0,\n        \"max\": 5,\n        \"num_unique_values\": 6,\n        \"samples\": [\n          1,\n          0,\n          5\n        ],\n        \"semantic_type\": \"\",\n        \"description\": \"\"\n      }\n    },\n    {\n      \"column\": \"Count\",\n      \"properties\": {\n        \"dtype\": \"number\",\n        \"std\": 1912,\n        \"min\": 572,\n        \"max\": 5362,\n        \"num_unique_values\": 6,\n        \"samples\": [\n          5362,\n          4666,\n          572\n        ],\n        \"semantic_type\": \"\",\n        \"description\": \"\"\n      }\n    },\n    {\n      \"column\": \"Percentage\",\n      \"properties\": {\n        \"dtype\": \"number\",\n        \"std\": 0.05977951567879809,\n        \"min\": 0.017875,\n        \"max\": 0.1675625,\n        \"num_unique_values\": 6,\n        \"samples\": [\n          0.1675625,\n          0.1458125,\n          0.017875\n        ],\n        \"semantic_type\": \"\",\n        \"description\": \"\"\n      }\n    }\n  ]\n}",
              "type": "dataframe"
            },
            "text/html": [
              "\n",
              "  <div id=\"df-45943596-4271-4b3b-82df-b9307ef088c3\" class=\"colab-df-container\">\n",
              "    <div>\n",
              "<style scoped>\n",
              "    .dataframe tbody tr th:only-of-type {\n",
              "        vertical-align: middle;\n",
              "    }\n",
              "\n",
              "    .dataframe tbody tr th {\n",
              "        vertical-align: top;\n",
              "    }\n",
              "\n",
              "    .dataframe thead th {\n",
              "        text-align: right;\n",
              "    }\n",
              "</style>\n",
              "<table border=\"1\" class=\"dataframe\">\n",
              "  <thead>\n",
              "    <tr style=\"text-align: right;\">\n",
              "      <th></th>\n",
              "      <th>Count</th>\n",
              "      <th>Percentage</th>\n",
              "    </tr>\n",
              "    <tr>\n",
              "      <th>label</th>\n",
              "      <th></th>\n",
              "      <th></th>\n",
              "    </tr>\n",
              "  </thead>\n",
              "  <tbody>\n",
              "    <tr>\n",
              "      <th>1</th>\n",
              "      <td>5362</td>\n",
              "      <td>0.167563</td>\n",
              "    </tr>\n",
              "    <tr>\n",
              "      <th>0</th>\n",
              "      <td>4666</td>\n",
              "      <td>0.145813</td>\n",
              "    </tr>\n",
              "    <tr>\n",
              "      <th>3</th>\n",
              "      <td>2159</td>\n",
              "      <td>0.067469</td>\n",
              "    </tr>\n",
              "    <tr>\n",
              "      <th>4</th>\n",
              "      <td>1937</td>\n",
              "      <td>0.060531</td>\n",
              "    </tr>\n",
              "    <tr>\n",
              "      <th>2</th>\n",
              "      <td>1304</td>\n",
              "      <td>0.040750</td>\n",
              "    </tr>\n",
              "    <tr>\n",
              "      <th>5</th>\n",
              "      <td>572</td>\n",
              "      <td>0.017875</td>\n",
              "    </tr>\n",
              "  </tbody>\n",
              "</table>\n",
              "</div>\n",
              "    <div class=\"colab-df-buttons\">\n",
              "\n",
              "  <div class=\"colab-df-container\">\n",
              "    <button class=\"colab-df-convert\" onclick=\"convertToInteractive('df-45943596-4271-4b3b-82df-b9307ef088c3')\"\n",
              "            title=\"Convert this dataframe to an interactive table.\"\n",
              "            style=\"display:none;\">\n",
              "\n",
              "  <svg xmlns=\"http://www.w3.org/2000/svg\" height=\"24px\" viewBox=\"0 -960 960 960\">\n",
              "    <path d=\"M120-120v-720h720v720H120Zm60-500h600v-160H180v160Zm220 220h160v-160H400v160Zm0 220h160v-160H400v160ZM180-400h160v-160H180v160Zm440 0h160v-160H620v160ZM180-180h160v-160H180v160Zm440 0h160v-160H620v160Z\"/>\n",
              "  </svg>\n",
              "    </button>\n",
              "\n",
              "  <style>\n",
              "    .colab-df-container {\n",
              "      display:flex;\n",
              "      gap: 12px;\n",
              "    }\n",
              "\n",
              "    .colab-df-convert {\n",
              "      background-color: #E8F0FE;\n",
              "      border: none;\n",
              "      border-radius: 50%;\n",
              "      cursor: pointer;\n",
              "      display: none;\n",
              "      fill: #1967D2;\n",
              "      height: 32px;\n",
              "      padding: 0 0 0 0;\n",
              "      width: 32px;\n",
              "    }\n",
              "\n",
              "    .colab-df-convert:hover {\n",
              "      background-color: #E2EBFA;\n",
              "      box-shadow: 0px 1px 2px rgba(60, 64, 67, 0.3), 0px 1px 3px 1px rgba(60, 64, 67, 0.15);\n",
              "      fill: #174EA6;\n",
              "    }\n",
              "\n",
              "    .colab-df-buttons div {\n",
              "      margin-bottom: 4px;\n",
              "    }\n",
              "\n",
              "    [theme=dark] .colab-df-convert {\n",
              "      background-color: #3B4455;\n",
              "      fill: #D2E3FC;\n",
              "    }\n",
              "\n",
              "    [theme=dark] .colab-df-convert:hover {\n",
              "      background-color: #434B5C;\n",
              "      box-shadow: 0px 1px 3px 1px rgba(0, 0, 0, 0.15);\n",
              "      filter: drop-shadow(0px 1px 2px rgba(0, 0, 0, 0.3));\n",
              "      fill: #FFFFFF;\n",
              "    }\n",
              "  </style>\n",
              "\n",
              "    <script>\n",
              "      const buttonEl =\n",
              "        document.querySelector('#df-45943596-4271-4b3b-82df-b9307ef088c3 button.colab-df-convert');\n",
              "      buttonEl.style.display =\n",
              "        google.colab.kernel.accessAllowed ? 'block' : 'none';\n",
              "\n",
              "      async function convertToInteractive(key) {\n",
              "        const element = document.querySelector('#df-45943596-4271-4b3b-82df-b9307ef088c3');\n",
              "        const dataTable =\n",
              "          await google.colab.kernel.invokeFunction('convertToInteractive',\n",
              "                                                    [key], {});\n",
              "        if (!dataTable) return;\n",
              "\n",
              "        const docLinkHtml = 'Like what you see? Visit the ' +\n",
              "          '<a target=\"_blank\" href=https://colab.research.google.com/notebooks/data_table.ipynb>data table notebook</a>'\n",
              "          + ' to learn more about interactive tables.';\n",
              "        element.innerHTML = '';\n",
              "        dataTable['output_type'] = 'display_data';\n",
              "        await google.colab.output.renderOutput(dataTable, element);\n",
              "        const docLink = document.createElement('div');\n",
              "        docLink.innerHTML = docLinkHtml;\n",
              "        element.appendChild(docLink);\n",
              "      }\n",
              "    </script>\n",
              "  </div>\n",
              "\n",
              "\n",
              "<div id=\"df-994059a0-4493-4d8d-b77c-17975e04e58b\">\n",
              "  <button class=\"colab-df-quickchart\" onclick=\"quickchart('df-994059a0-4493-4d8d-b77c-17975e04e58b')\"\n",
              "            title=\"Suggest charts\"\n",
              "            style=\"display:none;\">\n",
              "\n",
              "<svg xmlns=\"http://www.w3.org/2000/svg\" height=\"24px\"viewBox=\"0 0 24 24\"\n",
              "     width=\"24px\">\n",
              "    <g>\n",
              "        <path d=\"M19 3H5c-1.1 0-2 .9-2 2v14c0 1.1.9 2 2 2h14c1.1 0 2-.9 2-2V5c0-1.1-.9-2-2-2zM9 17H7v-7h2v7zm4 0h-2V7h2v10zm4 0h-2v-4h2v4z\"/>\n",
              "    </g>\n",
              "</svg>\n",
              "  </button>\n",
              "\n",
              "<style>\n",
              "  .colab-df-quickchart {\n",
              "      --bg-color: #E8F0FE;\n",
              "      --fill-color: #1967D2;\n",
              "      --hover-bg-color: #E2EBFA;\n",
              "      --hover-fill-color: #174EA6;\n",
              "      --disabled-fill-color: #AAA;\n",
              "      --disabled-bg-color: #DDD;\n",
              "  }\n",
              "\n",
              "  [theme=dark] .colab-df-quickchart {\n",
              "      --bg-color: #3B4455;\n",
              "      --fill-color: #D2E3FC;\n",
              "      --hover-bg-color: #434B5C;\n",
              "      --hover-fill-color: #FFFFFF;\n",
              "      --disabled-bg-color: #3B4455;\n",
              "      --disabled-fill-color: #666;\n",
              "  }\n",
              "\n",
              "  .colab-df-quickchart {\n",
              "    background-color: var(--bg-color);\n",
              "    border: none;\n",
              "    border-radius: 50%;\n",
              "    cursor: pointer;\n",
              "    display: none;\n",
              "    fill: var(--fill-color);\n",
              "    height: 32px;\n",
              "    padding: 0;\n",
              "    width: 32px;\n",
              "  }\n",
              "\n",
              "  .colab-df-quickchart:hover {\n",
              "    background-color: var(--hover-bg-color);\n",
              "    box-shadow: 0 1px 2px rgba(60, 64, 67, 0.3), 0 1px 3px 1px rgba(60, 64, 67, 0.15);\n",
              "    fill: var(--button-hover-fill-color);\n",
              "  }\n",
              "\n",
              "  .colab-df-quickchart-complete:disabled,\n",
              "  .colab-df-quickchart-complete:disabled:hover {\n",
              "    background-color: var(--disabled-bg-color);\n",
              "    fill: var(--disabled-fill-color);\n",
              "    box-shadow: none;\n",
              "  }\n",
              "\n",
              "  .colab-df-spinner {\n",
              "    border: 2px solid var(--fill-color);\n",
              "    border-color: transparent;\n",
              "    border-bottom-color: var(--fill-color);\n",
              "    animation:\n",
              "      spin 1s steps(1) infinite;\n",
              "  }\n",
              "\n",
              "  @keyframes spin {\n",
              "    0% {\n",
              "      border-color: transparent;\n",
              "      border-bottom-color: var(--fill-color);\n",
              "      border-left-color: var(--fill-color);\n",
              "    }\n",
              "    20% {\n",
              "      border-color: transparent;\n",
              "      border-left-color: var(--fill-color);\n",
              "      border-top-color: var(--fill-color);\n",
              "    }\n",
              "    30% {\n",
              "      border-color: transparent;\n",
              "      border-left-color: var(--fill-color);\n",
              "      border-top-color: var(--fill-color);\n",
              "      border-right-color: var(--fill-color);\n",
              "    }\n",
              "    40% {\n",
              "      border-color: transparent;\n",
              "      border-right-color: var(--fill-color);\n",
              "      border-top-color: var(--fill-color);\n",
              "    }\n",
              "    60% {\n",
              "      border-color: transparent;\n",
              "      border-right-color: var(--fill-color);\n",
              "    }\n",
              "    80% {\n",
              "      border-color: transparent;\n",
              "      border-right-color: var(--fill-color);\n",
              "      border-bottom-color: var(--fill-color);\n",
              "    }\n",
              "    90% {\n",
              "      border-color: transparent;\n",
              "      border-bottom-color: var(--fill-color);\n",
              "    }\n",
              "  }\n",
              "</style>\n",
              "\n",
              "  <script>\n",
              "    async function quickchart(key) {\n",
              "      const quickchartButtonEl =\n",
              "        document.querySelector('#' + key + ' button');\n",
              "      quickchartButtonEl.disabled = true;  // To prevent multiple clicks.\n",
              "      quickchartButtonEl.classList.add('colab-df-spinner');\n",
              "      try {\n",
              "        const charts = await google.colab.kernel.invokeFunction(\n",
              "            'suggestCharts', [key], {});\n",
              "      } catch (error) {\n",
              "        console.error('Error during call to suggestCharts:', error);\n",
              "      }\n",
              "      quickchartButtonEl.classList.remove('colab-df-spinner');\n",
              "      quickchartButtonEl.classList.add('colab-df-quickchart-complete');\n",
              "    }\n",
              "    (() => {\n",
              "      let quickchartButtonEl =\n",
              "        document.querySelector('#df-994059a0-4493-4d8d-b77c-17975e04e58b button');\n",
              "      quickchartButtonEl.style.display =\n",
              "        google.colab.kernel.accessAllowed ? 'block' : 'none';\n",
              "    })();\n",
              "  </script>\n",
              "</div>\n",
              "\n",
              "    </div>\n",
              "  </div>\n"
            ],
            "text/plain": [
              "       Count  Percentage\n",
              "label                   \n",
              "1       5362    0.167563\n",
              "0       4666    0.145813\n",
              "3       2159    0.067469\n",
              "4       1937    0.060531\n",
              "2       1304    0.040750\n",
              "5        572    0.017875"
            ]
          },
          "execution_count": 16,
          "metadata": {},
          "output_type": "execute_result"
        }
      ],
      "source": [
        "counts = df['label'].value_counts()\n",
        "pd.DataFrame({\"Count\": counts,\"Percentage\": counts/df.size})"
      ]
    },
    {
      "cell_type": "markdown",
      "metadata": {
        "id": "LHjlyby3ruK4"
      },
      "source": [
        "By reading about the dataset from hugging face web site, labels have these meanings sorted by the label number: sadness, joy, love, anger, fear and surprise. We can see the labels are unbalanced and the most and least occurent emotion in this dataset are: joy and surprise."
      ]
    },
    {
      "cell_type": "markdown",
      "metadata": {
        "id": "GAWrn5xm8MdD"
      },
      "source": [
        "#### Q2.0: Utilities (5 pts)"
      ]
    },
    {
      "cell_type": "markdown",
      "metadata": {
        "id": "6TzKIAKZ8MdD"
      },
      "source": [
        "a. Write a function named `get_stratified_sample` that takes the following parameters:\n",
        "- `dataset`: The input dataset (a Hugging Face Dataset object).\n",
        "- `n_samples`: The desired number of samples in the stratified sample.\n",
        "- `random_state`: An integer for reproducible sampling (default to 42).\n",
        "\n",
        "The function should return a stratified sample of the dataset, maintaining the original class proportions.\n",
        "\n",
        "Keep in mind that we need ```DS_TRAINING_SIZE``` samples for training and ```DS_TEST_SIZE``` samples for testing. If you are going to use the validation set, ```DS_VALIDATION_SIZE``` is needed for this. You may change these if you see fit but with these numbers, you can get a good enough result in an acceptable time.\n",
        "\n",
        "***NOTE:*** Make sure your function shuffles the final dataset."
      ]
    },
    {
      "cell_type": "code",
      "execution_count": 11,
      "metadata": {
        "id": "I7L5GmVO8MdD"
      },
      "outputs": [],
      "source": [
        "def get_stratified_sample(dataset, n_samples, random_state):\n",
        "  df = dataset.to_pandas()\n",
        "  new_df = df.groupby(df.columns[-1], group_keys=False)[df.columns].apply(lambda x: x.sample(frac = n_samples / df.shape[0], random_state=random_state))\n",
        "  return new_df.sample(frac=1, random_state=random_state).reset_index(drop=True)"
      ]
    },
    {
      "cell_type": "markdown",
      "metadata": {
        "id": "YmAsf8d4wAnS"
      },
      "source": [
        "b. Use your function to create train,test and (validation) sets. Compare the distribution of labels with the full dataset to make sure it's working correctly. Printing or plotting the distributions is enough."
      ]
    },
    {
      "cell_type": "code",
      "execution_count": 33,
      "metadata": {
        "id": "5r43MfylR-SV"
      },
      "outputs": [],
      "source": [
        "import matplotlib.pyplot as plt\n",
        "import numpy as np"
      ]
    },
    {
      "cell_type": "code",
      "execution_count": 12,
      "metadata": {
        "id": "hxMY1ac88MdD"
      },
      "outputs": [],
      "source": [
        "train_df = get_stratified_sample(dataset['train'],1500,42)\n",
        "val_df = get_stratified_sample(dataset['validation'],50,42)\n",
        "test_df = get_stratified_sample(dataset['test'],100,42)"
      ]
    },
    {
      "cell_type": "code",
      "execution_count": null,
      "metadata": {
        "colab": {
          "base_uri": "https://localhost:8080/",
          "height": 449
        },
        "id": "vuf6fNVAGp-7",
        "outputId": "e348fbf2-2767-44aa-8575-07474e0be4e8"
      },
      "outputs": [
        {
          "data": {
            "image/png": "[encoded data removed]",
            "text/plain": [
              "<Figure size 640x480 with 1 Axes>"
            ]
          },
          "metadata": {},
          "output_type": "display_data"
        }
      ],
      "source": [
        "x = np.arange(2)\n",
        "y=[]\n",
        "width = 0.1\n",
        "for i in range(-2,4):\n",
        "  y.append([counts[i+2]/df.size,train_df['label'].value_counts()[i+2]/train_df.size])\n",
        "  plt.bar(x-width*i, y[i+2], width)\n",
        "\n",
        "plt.xticks(x, [\"Original frequencies\",\"Frequencies after sampling\"])\n",
        "plt.xlabel(\"Emotions\")\n",
        "plt.ylabel(\"Frequency\")\n",
        "plt.legend([\"sadness\", \"joy\", \"love\", \"anger\", \"fear\", \"surprise\"])\n",
        "plt.show()"
      ]
    },
    {
      "cell_type": "code",
      "execution_count": null,
      "metadata": {
        "colab": {
          "base_uri": "https://localhost:8080/",
          "height": 424
        },
        "id": "DvMRwDyo-Tkv",
        "outputId": "a851a626-daab-446c-f2f2-48096588d448"
      },
      "outputs": [
        {
          "data": {
            "application/vnd.google.colaboratory.intrinsic+json": {
              "summary": "{\n  \"name\": \"train_df\",\n  \"rows\": 1500,\n  \"fields\": [\n    {\n      \"column\": \"text\",\n      \"properties\": {\n        \"dtype\": \"string\",\n        \"num_unique_values\": 1499,\n        \"samples\": [\n          \"i always had this feeling though that if we did have more surely surely god would give me a break and bless me with a peaceful baby\",\n          \"i was still feeling a bit unsure a bit not convinced still a bit frustrated\",\n          \"i feel like they just feel guilty for treating me badly and i dont really want to go back as i wont get on the league proper anyway due to my inability to make every practice and service hours despite being a very good skater and having a good attitude toward the practices i can make\"\n        ],\n        \"semantic_type\": \"\",\n        \"description\": \"\"\n      }\n    },\n    {\n      \"column\": \"label\",\n      \"properties\": {\n        \"dtype\": \"number\",\n        \"std\": 1,\n        \"min\": 0,\n        \"max\": 5,\n        \"num_unique_values\": 6,\n        \"samples\": [\n          3,\n          4,\n          2\n        ],\n        \"semantic_type\": \"\",\n        \"description\": \"\"\n      }\n    }\n  ]\n}",
              "type": "dataframe",
              "variable_name": "train_df"
            },
            "text/html": [
              "\n",
              "  <div id=\"df-d7802a31-2484-4191-962e-cd5bd57f6555\" class=\"colab-df-container\">\n",
              "    <div>\n",
              "<style scoped>\n",
              "    .dataframe tbody tr th:only-of-type {\n",
              "        vertical-align: middle;\n",
              "    }\n",
              "\n",
              "    .dataframe tbody tr th {\n",
              "        vertical-align: top;\n",
              "    }\n",
              "\n",
              "    .dataframe thead th {\n",
              "        text-align: right;\n",
              "    }\n",
              "</style>\n",
              "<table border=\"1\" class=\"dataframe\">\n",
              "  <thead>\n",
              "    <tr style=\"text-align: right;\">\n",
              "      <th></th>\n",
              "      <th>text</th>\n",
              "      <th>label</th>\n",
              "    </tr>\n",
              "  </thead>\n",
              "  <tbody>\n",
              "    <tr>\n",
              "      <th>0</th>\n",
              "      <td>im feeling particularly dangerous a chocolate ...</td>\n",
              "      <td>3</td>\n",
              "    </tr>\n",
              "    <tr>\n",
              "      <th>1</th>\n",
              "      <td>i was talking to elder ditlevsen the other day...</td>\n",
              "      <td>4</td>\n",
              "    </tr>\n",
              "    <tr>\n",
              "      <th>2</th>\n",
              "      <td>i just feel disappointed for losing he said</td>\n",
              "      <td>0</td>\n",
              "    </tr>\n",
              "    <tr>\n",
              "      <th>3</th>\n",
              "      <td>ive never in my life had anyone make me feel a...</td>\n",
              "      <td>0</td>\n",
              "    </tr>\n",
              "    <tr>\n",
              "      <th>4</th>\n",
              "      <td>im feeling generous i might let them bring the...</td>\n",
              "      <td>1</td>\n",
              "    </tr>\n",
              "    <tr>\n",
              "      <th>...</th>\n",
              "      <td>...</td>\n",
              "      <td>...</td>\n",
              "    </tr>\n",
              "    <tr>\n",
              "      <th>1495</th>\n",
              "      <td>i can see the shallow of many lives and if i t...</td>\n",
              "      <td>3</td>\n",
              "    </tr>\n",
              "    <tr>\n",
              "      <th>1496</th>\n",
              "      <td>i was feeling very pressured</td>\n",
              "      <td>4</td>\n",
              "    </tr>\n",
              "    <tr>\n",
              "      <th>1497</th>\n",
              "      <td>ive ever worked on and i feel very privileged ...</td>\n",
              "      <td>1</td>\n",
              "    </tr>\n",
              "    <tr>\n",
              "      <th>1498</th>\n",
              "      <td>i feel like amazing x men compensated enough t...</td>\n",
              "      <td>5</td>\n",
              "    </tr>\n",
              "    <tr>\n",
              "      <th>1499</th>\n",
              "      <td>i feel heartless now feeling bored and not bel...</td>\n",
              "      <td>3</td>\n",
              "    </tr>\n",
              "  </tbody>\n",
              "</table>\n",
              "<p>1500 rows × 2 columns</p>\n",
              "</div>\n",
              "    <div class=\"colab-df-buttons\">\n",
              "\n",
              "  <div class=\"colab-df-container\">\n",
              "    <button class=\"colab-df-convert\" onclick=\"convertToInteractive('df-d7802a31-2484-4191-962e-cd5bd57f6555')\"\n",
              "            title=\"Convert this dataframe to an interactive table.\"\n",
              "            style=\"display:none;\">\n",
              "\n",
              "  <svg xmlns=\"http://www.w3.org/2000/svg\" height=\"24px\" viewBox=\"0 -960 960 960\">\n",
              "    <path d=\"M120-120v-720h720v720H120Zm60-500h600v-160H180v160Zm220 220h160v-160H400v160Zm0 220h160v-160H400v160ZM180-400h160v-160H180v160Zm440 0h160v-160H620v160ZM180-180h160v-160H180v160Zm440 0h160v-160H620v160Z\"/>\n",
              "  </svg>\n",
              "    </button>\n",
              "\n",
              "  <style>\n",
              "    .colab-df-container {\n",
              "      display:flex;\n",
              "      gap: 12px;\n",
              "    }\n",
              "\n",
              "    .colab-df-convert {\n",
              "      background-color: #E8F0FE;\n",
              "      border: none;\n",
              "      border-radius: 50%;\n",
              "      cursor: pointer;\n",
              "      display: none;\n",
              "      fill: #1967D2;\n",
              "      height: 32px;\n",
              "      padding: 0 0 0 0;\n",
              "      width: 32px;\n",
              "    }\n",
              "\n",
              "    .colab-df-convert:hover {\n",
              "      background-color: #E2EBFA;\n",
              "      box-shadow: 0px 1px 2px rgba(60, 64, 67, 0.3), 0px 1px 3px 1px rgba(60, 64, 67, 0.15);\n",
              "      fill: #174EA6;\n",
              "    }\n",
              "\n",
              "    .colab-df-buttons div {\n",
              "      margin-bottom: 4px;\n",
              "    }\n",
              "\n",
              "    [theme=dark] .colab-df-convert {\n",
              "      background-color: #3B4455;\n",
              "      fill: #D2E3FC;\n",
              "    }\n",
              "\n",
              "    [theme=dark] .colab-df-convert:hover {\n",
              "      background-color: #434B5C;\n",
              "      box-shadow: 0px 1px 3px 1px rgba(0, 0, 0, 0.15);\n",
              "      filter: drop-shadow(0px 1px 2px rgba(0, 0, 0, 0.3));\n",
              "      fill: #FFFFFF;\n",
              "    }\n",
              "  </style>\n",
              "\n",
              "    <script>\n",
              "      const buttonEl =\n",
              "        document.querySelector('#df-d7802a31-2484-4191-962e-cd5bd57f6555 button.colab-df-convert');\n",
              "      buttonEl.style.display =\n",
              "        google.colab.kernel.accessAllowed ? 'block' : 'none';\n",
              "\n",
              "      async function convertToInteractive(key) {\n",
              "        const element = document.querySelector('#df-d7802a31-2484-4191-962e-cd5bd57f6555');\n",
              "        const dataTable =\n",
              "          await google.colab.kernel.invokeFunction('convertToInteractive',\n",
              "                                                    [key], {});\n",
              "        if (!dataTable) return;\n",
              "\n",
              "        const docLinkHtml = 'Like what you see? Visit the ' +\n",
              "          '<a target=\"_blank\" href=https://colab.research.google.com/notebooks/data_table.ipynb>data table notebook</a>'\n",
              "          + ' to learn more about interactive tables.';\n",
              "        element.innerHTML = '';\n",
              "        dataTable['output_type'] = 'display_data';\n",
              "        await google.colab.output.renderOutput(dataTable, element);\n",
              "        const docLink = document.createElement('div');\n",
              "        docLink.innerHTML = docLinkHtml;\n",
              "        element.appendChild(docLink);\n",
              "      }\n",
              "    </script>\n",
              "  </div>\n",
              "\n",
              "\n",
              "<div id=\"df-924842ac-9767-4df5-b5c5-6f87cb8f9cad\">\n",
              "  <button class=\"colab-df-quickchart\" onclick=\"quickchart('df-924842ac-9767-4df5-b5c5-6f87cb8f9cad')\"\n",
              "            title=\"Suggest charts\"\n",
              "            style=\"display:none;\">\n",
              "\n",
              "<svg xmlns=\"http://www.w3.org/2000/svg\" height=\"24px\"viewBox=\"0 0 24 24\"\n",
              "     width=\"24px\">\n",
              "    <g>\n",
              "        <path d=\"M19 3H5c-1.1 0-2 .9-2 2v14c0 1.1.9 2 2 2h14c1.1 0 2-.9 2-2V5c0-1.1-.9-2-2-2zM9 17H7v-7h2v7zm4 0h-2V7h2v10zm4 0h-2v-4h2v4z\"/>\n",
              "    </g>\n",
              "</svg>\n",
              "  </button>\n",
              "\n",
              "<style>\n",
              "  .colab-df-quickchart {\n",
              "      --bg-color: #E8F0FE;\n",
              "      --fill-color: #1967D2;\n",
              "      --hover-bg-color: #E2EBFA;\n",
              "      --hover-fill-color: #174EA6;\n",
              "      --disabled-fill-color: #AAA;\n",
              "      --disabled-bg-color: #DDD;\n",
              "  }\n",
              "\n",
              "  [theme=dark] .colab-df-quickchart {\n",
              "      --bg-color: #3B4455;\n",
              "      --fill-color: #D2E3FC;\n",
              "      --hover-bg-color: #434B5C;\n",
              "      --hover-fill-color: #FFFFFF;\n",
              "      --disabled-bg-color: #3B4455;\n",
              "      --disabled-fill-color: #666;\n",
              "  }\n",
              "\n",
              "  .colab-df-quickchart {\n",
              "    background-color: var(--bg-color);\n",
              "    border: none;\n",
              "    border-radius: 50%;\n",
              "    cursor: pointer;\n",
              "    display: none;\n",
              "    fill: var(--fill-color);\n",
              "    height: 32px;\n",
              "    padding: 0;\n",
              "    width: 32px;\n",
              "  }\n",
              "\n",
              "  .colab-df-quickchart:hover {\n",
              "    background-color: var(--hover-bg-color);\n",
              "    box-shadow: 0 1px 2px rgba(60, 64, 67, 0.3), 0 1px 3px 1px rgba(60, 64, 67, 0.15);\n",
              "    fill: var(--button-hover-fill-color);\n",
              "  }\n",
              "\n",
              "  .colab-df-quickchart-complete:disabled,\n",
              "  .colab-df-quickchart-complete:disabled:hover {\n",
              "    background-color: var(--disabled-bg-color);\n",
              "    fill: var(--disabled-fill-color);\n",
              "    box-shadow: none;\n",
              "  }\n",
              "\n",
              "  .colab-df-spinner {\n",
              "    border: 2px solid var(--fill-color);\n",
              "    border-color: transparent;\n",
              "    border-bottom-color: var(--fill-color);\n",
              "    animation:\n",
              "      spin 1s steps(1) infinite;\n",
              "  }\n",
              "\n",
              "  @keyframes spin {\n",
              "    0% {\n",
              "      border-color: transparent;\n",
              "      border-bottom-color: var(--fill-color);\n",
              "      border-left-color: var(--fill-color);\n",
              "    }\n",
              "    20% {\n",
              "      border-color: transparent;\n",
              "      border-left-color: var(--fill-color);\n",
              "      border-top-color: var(--fill-color);\n",
              "    }\n",
              "    30% {\n",
              "      border-color: transparent;\n",
              "      border-left-color: var(--fill-color);\n",
              "      border-top-color: var(--fill-color);\n",
              "      border-right-color: var(--fill-color);\n",
              "    }\n",
              "    40% {\n",
              "      border-color: transparent;\n",
              "      border-right-color: var(--fill-color);\n",
              "      border-top-color: var(--fill-color);\n",
              "    }\n",
              "    60% {\n",
              "      border-color: transparent;\n",
              "      border-right-color: var(--fill-color);\n",
              "    }\n",
              "    80% {\n",
              "      border-color: transparent;\n",
              "      border-right-color: var(--fill-color);\n",
              "      border-bottom-color: var(--fill-color);\n",
              "    }\n",
              "    90% {\n",
              "      border-color: transparent;\n",
              "      border-bottom-color: var(--fill-color);\n",
              "    }\n",
              "  }\n",
              "</style>\n",
              "\n",
              "  <script>\n",
              "    async function quickchart(key) {\n",
              "      const quickchartButtonEl =\n",
              "        document.querySelector('#' + key + ' button');\n",
              "      quickchartButtonEl.disabled = true;  // To prevent multiple clicks.\n",
              "      quickchartButtonEl.classList.add('colab-df-spinner');\n",
              "      try {\n",
              "        const charts = await google.colab.kernel.invokeFunction(\n",
              "            'suggestCharts', [key], {});\n",
              "      } catch (error) {\n",
              "        console.error('Error during call to suggestCharts:', error);\n",
              "      }\n",
              "      quickchartButtonEl.classList.remove('colab-df-spinner');\n",
              "      quickchartButtonEl.classList.add('colab-df-quickchart-complete');\n",
              "    }\n",
              "    (() => {\n",
              "      let quickchartButtonEl =\n",
              "        document.querySelector('#df-924842ac-9767-4df5-b5c5-6f87cb8f9cad button');\n",
              "      quickchartButtonEl.style.display =\n",
              "        google.colab.kernel.accessAllowed ? 'block' : 'none';\n",
              "    })();\n",
              "  </script>\n",
              "</div>\n",
              "\n",
              "  <div id=\"id_209942f7-3e77-4a2d-8690-65182433fc49\">\n",
              "    <style>\n",
              "      .colab-df-generate {\n",
              "        background-color: #E8F0FE;\n",
              "        border: none;\n",
              "        border-radius: 50%;\n",
              "        cursor: pointer;\n",
              "        display: none;\n",
              "        fill: #1967D2;\n",
              "        height: 32px;\n",
              "        padding: 0 0 0 0;\n",
              "        width: 32px;\n",
              "      }\n",
              "\n",
              "      .colab-df-generate:hover {\n",
              "        background-color: #E2EBFA;\n",
              "        box-shadow: 0px 1px 2px rgba(60, 64, 67, 0.3), 0px 1px 3px 1px rgba(60, 64, 67, 0.15);\n",
              "        fill: #174EA6;\n",
              "      }\n",
              "\n",
              "      [theme=dark] .colab-df-generate {\n",
              "        background-color: #3B4455;\n",
              "        fill: #D2E3FC;\n",
              "      }\n",
              "\n",
              "      [theme=dark] .colab-df-generate:hover {\n",
              "        background-color: #434B5C;\n",
              "        box-shadow: 0px 1px 3px 1px rgba(0, 0, 0, 0.15);\n",
              "        filter: drop-shadow(0px 1px 2px rgba(0, 0, 0, 0.3));\n",
              "        fill: #FFFFFF;\n",
              "      }\n",
              "    </style>\n",
              "    <button class=\"colab-df-generate\" onclick=\"generateWithVariable('train_df')\"\n",
              "            title=\"Generate code using this dataframe.\"\n",
              "            style=\"display:none;\">\n",
              "\n",
              "  <svg xmlns=\"http://www.w3.org/2000/svg\" height=\"24px\"viewBox=\"0 0 24 24\"\n",
              "       width=\"24px\">\n",
              "    <path d=\"M7,19H8.4L18.45,9,17,7.55,7,17.6ZM5,21V16.75L18.45,3.32a2,2,0,0,1,2.83,0l1.4,1.43a1.91,1.91,0,0,1,.58,1.4,1.91,1.91,0,0,1-.58,1.4L9.25,21ZM18.45,9,17,7.55Zm-12,3A5.31,5.31,0,0,0,4.9,8.1,5.31,5.31,0,0,0,1,6.5,5.31,5.31,0,0,0,4.9,4.9,5.31,5.31,0,0,0,6.5,1,5.31,5.31,0,0,0,8.1,4.9,5.31,5.31,0,0,0,12,6.5,5.46,5.46,0,0,0,6.5,12Z\"/>\n",
              "  </svg>\n",
              "    </button>\n",
              "    <script>\n",
              "      (() => {\n",
              "      const buttonEl =\n",
              "        document.querySelector('#id_209942f7-3e77-4a2d-8690-65182433fc49 button.colab-df-generate');\n",
              "      buttonEl.style.display =\n",
              "        google.colab.kernel.accessAllowed ? 'block' : 'none';\n",
              "\n",
              "      buttonEl.onclick = () => {\n",
              "        google.colab.notebook.generateWithVariable('train_df');\n",
              "      }\n",
              "      })();\n",
              "    </script>\n",
              "  </div>\n",
              "\n",
              "    </div>\n",
              "  </div>\n"
            ],
            "text/plain": [
              "                                                   text  label\n",
              "0     im feeling particularly dangerous a chocolate ...      3\n",
              "1     i was talking to elder ditlevsen the other day...      4\n",
              "2           i just feel disappointed for losing he said      0\n",
              "3     ive never in my life had anyone make me feel a...      0\n",
              "4     im feeling generous i might let them bring the...      1\n",
              "...                                                 ...    ...\n",
              "1495  i can see the shallow of many lives and if i t...      3\n",
              "1496                       i was feeling very pressured      4\n",
              "1497  ive ever worked on and i feel very privileged ...      1\n",
              "1498  i feel like amazing x men compensated enough t...      5\n",
              "1499  i feel heartless now feeling bored and not bel...      3\n",
              "\n",
              "[1500 rows x 2 columns]"
            ]
          },
          "execution_count": 18,
          "metadata": {},
          "output_type": "execute_result"
        }
      ],
      "source": [
        "train_df"
      ]
    },
    {
      "cell_type": "code",
      "execution_count": 13,
      "metadata": {
        "id": "OxSEXjQyC4ta"
      },
      "outputs": [],
      "source": [
        "train = Dataset.from_pandas(train_df)\n",
        "val = Dataset.from_pandas(val_df)\n",
        "test = Dataset.from_pandas(test_df)"
      ]
    },
    {
      "cell_type": "markdown",
      "metadata": {
        "id": "YiZX6nlULxUe"
      },
      "source": [
        "#### Q2.1: Preparing Data for Fine-Tuning (10 pts)"
      ]
    },
    {
      "cell_type": "markdown",
      "metadata": {
        "id": "6emefGZV8MdD"
      },
      "source": [
        "a. Let's get the emotion dataset ready for LoRA fine-tuning. Here's what you need to do:\n",
        "\n",
        "1.  **Format the Data**: Turn each data entry into a conversation like this:\n",
        "    *   A system instruction that tells the model what to do (analyze emotions)```*```.\n",
        "    *   A user query that gives the model the text to analyze.\n",
        "    *   An assistant response that provides the correct emotion label (in natural language, naturally!)\n",
        "2.  **Tokenize and Label**:\n",
        "    *   Tokenize the formatted conversation.\n",
        "    *   Prepare labels for training, make sure to mask the instruction part of the data ```**```.\n",
        "\n",
        "Also, write a verification function that in a human readable format:\n",
        "\n",
        "*   Prints the complete training input sequence after tokenization for a given data entry.\n",
        "*   Shows the labels, indicating which tokens are being predicted.\n",
        "*   Checks if the assistant header is correctly handled by finding its position in the text and printing the subsequent text.\n",
        "\n",
        "```*TIP:``` It is a good practice to make your system instruction as concise as possible. For example in this task, you should tell the LLM explicitly that what are the valid labels."
      ]
    },
    {
      "cell_type": "code",
      "execution_count": 14,
      "metadata": {
        "id": "fnvSERvl7nuj"
      },
      "outputs": [],
      "source": [
        "tokenizer = AutoTokenizer.from_pretrained(INSTRUCT_MODEL)\n",
        "def format_conversation(text, label):\n",
        "    emotions = [\"sadness\", \"joy\", \"love\", \"anger\", \"fear\", \"surprise\"]\n",
        "    label = emotions[int(label)]\n",
        "    system_instruction = \"Analyse the emotions of the given text. Output a single label from: sadness, joy, love, anger, fear, surprise.\"\n",
        "    user_input = text\n",
        "    assistant_response = label\n",
        "    return f\"[INST] {system_instruction} [/INST] {user_input} [ASSISTANT] The emotion is: {assistant_response}\""
      ]
    },
    {
      "cell_type": "code",
      "execution_count": 15,
      "metadata": {
        "id": "GlGhYaGUPRFF"
      },
      "outputs": [],
      "source": [
        "def tokenize_and_label(conversation):\n",
        "    conversation = format_conversation(conversation['text'],conversation['label'])\n",
        "    tokenizer.pad_token = tokenizer.eos_token\n",
        "    tokens = tokenizer(conversation,max_length=128,padding='max_length')\n",
        "    labels = tokens[\"input_ids\"].copy()\n",
        "    assistant_start = conversation.find(\"[ASSISTANT]\")+len(\"[ASSISTANT] The emotion is: \")\n",
        "    label_start_index = len(tokenizer.encode(conversation[:assistant_start], add_special_tokens=False))\n",
        "    labels[:label_start_index] = [-100]*label_start_index\n",
        "    pad_id = tokenizer.convert_tokens_to_ids(tokenizer.eos_token)\n",
        "    tokens['label'] = labels\n",
        "    return tokens"
      ]
    },
    {
      "cell_type": "code",
      "execution_count": 16,
      "metadata": {
        "id": "8U1yZxRMHbBS"
      },
      "outputs": [],
      "source": [
        "def verify_tokenization(conversation):\n",
        "    input_ids = conversation['input_ids']\n",
        "    label = conversation['label']\n",
        "    text = tokenizer.decode(input_ids)\n",
        "    print(\"Formatted Conversation:\")\n",
        "    print(text)\n",
        "    print(\"\\nTokenized Input:\")\n",
        "    print(tokenizer.convert_ids_to_tokens(input_ids))\n",
        "    print(\"\\nLabels:\")\n",
        "    label = [i for i in label if i!=-100]\n",
        "    print(tokenizer.decode(label))"
      ]
    },
    {
      "cell_type": "code",
      "execution_count": 19,
      "metadata": {
        "colab": {
          "base_uri": "https://localhost:8080/",
          "height": 81,
          "referenced_widgets": [
            "24741f90b3d24caaa984079392328c26",
            "227db8199d3844d19bf89832580f414f",
            "d880c8ceaa2043fa841b881b7b949c2f",
            "a9d8061377084cab800820305f81a457",
            "afcb397ba0014b5385bbd66402e91e5b",
            "8ea28ff2edde48aaa1233d4ff9d88f02",
            "ecde630abb1c44e4a4227616fe4af7b3",
            "b6208f2e5ecd473eac6d5411fe17b799",
            "f8c7198d8c2a463cbe7a7ca9d581d926",
            "69129fccba5e46219d495f05a2661e29",
            "6b81a45f446e4daf8bd19be823971266",
            "addd8b9e608f4847aa645b22e70bc116",
            "8dca2970094f4eb5ab5a1889cd60b8a2",
            "f125dc3bcf52449e8c97ac7b6f8830a2",
            "4d00cea1b1d0422386d56b89be521cb6",
            "8b2779cdae0e49e1a6ba02f3877f5da4",
            "d8452706edf5422c9da05bf65f6baa56",
            "bf53836624f8443d9bb12c40aff88a8f",
            "636b65444f864c20809dd70652f5a4b0",
            "7375ceadf49a4751b46d44299ed45e94",
            "490f8dab8dc0440ead163b16c64c7562",
            "3bf85e38920e4b218dde57f7f1aa8a4f"
          ]
        },
        "id": "SkCuHJsz_Xpj",
        "outputId": "2cbb0252-262b-4b1e-8fdd-c58b30f4165b"
      },
      "outputs": [
        {
          "data": {
            "application/vnd.jupyter.widget-view+json": {
              "model_id": "24741f90b3d24caaa984079392328c26",
              "version_major": 2,
              "version_minor": 0
            },
            "text/plain": [
              "Map:   0%|          | 0/1500 [00:00<?, ? examples/s]"
            ]
          },
          "metadata": {},
          "output_type": "display_data"
        },
        {
          "data": {
            "application/vnd.jupyter.widget-view+json": {
              "model_id": "addd8b9e608f4847aa645b22e70bc116",
              "version_major": 2,
              "version_minor": 0
            },
            "text/plain": [
              "Map:   0%|          | 0/50 [00:00<?, ? examples/s]"
            ]
          },
          "metadata": {},
          "output_type": "display_data"
        }
      ],
      "source": [
        "formatted_train = train.map(tokenize_and_label)\n",
        "formatted_val = val.map(tokenize_and_label)"
      ]
    },
    {
      "cell_type": "markdown",
      "metadata": {
        "id": "hDtRf-Bx8MdD"
      },
      "source": [
        "b. When preparing the data, experiment with the tokenizer parameters, namely `truncation`, `padding` and `max_length`. In a ```concise``` manner, explain what each one of them does and what is a good value and why."
      ]
    },
    {
      "cell_type": "markdown",
      "metadata": {
        "id": "-BBTOIWywisS"
      },
      "source": [
        "Padding adds a special padding token to ensure shorter sequences will have the same length as either the longest sequence in a batch or the maximum length accepted by the model. Truncation works in the other direction by truncating long sequences.\\\n",
        "The max_length argument controls the length of the padding and truncation. It can be an integer or None, in which case it will default to the maximum length the model can accept.\\\n",
        "I think here padding all to the longest sequence is more reasonable because by truncating, information from input or the label is removed. Furthermore, the longest sequence is just 103 tokens so padding shouldn't increase training time that much."
      ]
    },
    {
      "cell_type": "markdown",
      "metadata": {
        "id": "7hVKUSxK8MdD"
      },
      "source": [
        "c. ```**```When preparing the data, mask the instruction part of the data (set labels to -100 for the instruction tokens) before starting the training. Why is this a good idea?"
      ]
    },
    {
      "cell_type": "markdown",
      "metadata": {
        "id": "7Mverm_SwloH"
      },
      "source": [
        "This way we prevent the model from learning to generate instructions. The goal is to fine-tune the model to predict emotion labels, not to reproduce the instruction prompt.\\\n",
        "The model focuses loss computation on relevant tokens. In supervised fine-tuning, only the assistant's response (emotion label) should contribute to the loss. Masking prevents backpropagation on unnecessary tokens, improving efficiency."
      ]
    },
    {
      "cell_type": "code",
      "execution_count": null,
      "metadata": {
        "id": "gkwNaJCY8MdD"
      },
      "outputs": [],
      "source": [
        "### Already doing it in tokenize_and_label function"
      ]
    },
    {
      "cell_type": "markdown",
      "metadata": {
        "id": "_6BnCCXC8MdE"
      },
      "source": [
        "d. Run your verification function on the first sample of your training dataset to see everything is in order."
      ]
    },
    {
      "cell_type": "code",
      "execution_count": null,
      "metadata": {
        "colab": {
          "base_uri": "https://localhost:8080/"
        },
        "id": "WySUgurB8MdE",
        "outputId": "a4d4f71f-c793-4d0b-8515-a87b317110aa"
      },
      "outputs": [
        {
          "name": "stdout",
          "output_type": "stream",
          "text": [
            "Formatted Conversation:\n",
            "<|begin_of_text|>[INST] Analyse the emotions of the given text. Output a single label from: sadness, joy, love, anger, fear, surprise. [/INST] im feeling particularly dangerous a chocolate cookie [ASSISTANT] The emotion is: anger<|eot_id|><|eot_id|><|eot_id|><|eot_id|><|eot_id|><|eot_id|><|eot_id|><|eot_id|><|eot_id|><|eot_id|><|eot_id|><|eot_id|><|eot_id|><|eot_id|><|eot_id|><|eot_id|><|eot_id|><|eot_id|><|eot_id|><|eot_id|><|eot_id|><|eot_id|><|eot_id|><|eot_id|><|eot_id|><|eot_id|><|eot_id|><|eot_id|><|eot_id|><|eot_id|><|eot_id|><|eot_id|><|eot_id|><|eot_id|><|eot_id|><|eot_id|><|eot_id|><|eot_id|><|eot_id|><|eot_id|><|eot_id|><|eot_id|><|eot_id|><|eot_id|><|eot_id|><|eot_id|><|eot_id|><|eot_id|><|eot_id|><|eot_id|><|eot_id|><|eot_id|><|eot_id|><|eot_id|><|eot_id|><|eot_id|><|eot_id|><|eot_id|><|eot_id|><|eot_id|><|eot_id|><|eot_id|><|eot_id|><|eot_id|><|eot_id|><|eot_id|><|eot_id|><|eot_id|><|eot_id|><|eot_id|><|eot_id|><|eot_id|><|eot_id|><|eot_id|><|eot_id|><|eot_id|><|eot_id|>\n",
            "\n",
            "Tokenized Input:\n",
            "['<|begin_of_text|>', '[', 'INST', ']', 'ĠAnaly', 'se', 'Ġthe', 'Ġemotions', 'Ġof', 'Ġthe', 'Ġgiven', 'Ġtext', '.', 'ĠOutput', 'Ġa', 'Ġsingle', 'Ġlabel', 'Ġfrom', ':', 'Ġsadness', ',', 'Ġjoy', ',', 'Ġlove', ',', 'Ġanger', ',', 'Ġfear', ',', 'Ġsurprise', '.', 'Ġ[/', 'INST', ']', 'Ġim', 'Ġfeeling', 'Ġparticularly', 'Ġdangerous', 'Ġa', 'Ġchocolate', 'Ġcookie', 'Ġ[', 'ASS', 'IST', 'ANT', ']', 'ĠThe', 'Ġemotion', 'Ġis', ':', 'Ġanger', '<|eot_id|>', '<|eot_id|>', '<|eot_id|>', '<|eot_id|>', '<|eot_id|>', '<|eot_id|>', '<|eot_id|>', '<|eot_id|>', '<|eot_id|>', '<|eot_id|>', '<|eot_id|>', '<|eot_id|>', '<|eot_id|>', '<|eot_id|>', '<|eot_id|>', '<|eot_id|>', '<|eot_id|>', '<|eot_id|>', '<|eot_id|>', '<|eot_id|>', '<|eot_id|>', '<|eot_id|>', '<|eot_id|>', '<|eot_id|>', '<|eot_id|>', '<|eot_id|>', '<|eot_id|>', '<|eot_id|>', '<|eot_id|>', '<|eot_id|>', '<|eot_id|>', '<|eot_id|>', '<|eot_id|>', '<|eot_id|>', '<|eot_id|>', '<|eot_id|>', '<|eot_id|>', '<|eot_id|>', '<|eot_id|>', '<|eot_id|>', '<|eot_id|>', '<|eot_id|>', '<|eot_id|>', '<|eot_id|>', '<|eot_id|>', '<|eot_id|>', '<|eot_id|>', '<|eot_id|>', '<|eot_id|>', '<|eot_id|>', '<|eot_id|>', '<|eot_id|>', '<|eot_id|>', '<|eot_id|>', '<|eot_id|>', '<|eot_id|>', '<|eot_id|>', '<|eot_id|>', '<|eot_id|>', '<|eot_id|>', '<|eot_id|>', '<|eot_id|>', '<|eot_id|>', '<|eot_id|>', '<|eot_id|>', '<|eot_id|>', '<|eot_id|>', '<|eot_id|>', '<|eot_id|>', '<|eot_id|>', '<|eot_id|>', '<|eot_id|>', '<|eot_id|>', '<|eot_id|>', '<|eot_id|>', '<|eot_id|>', '<|eot_id|>']\n",
            "\n",
            "Labels:\n",
            " anger<|eot_id|><|eot_id|><|eot_id|><|eot_id|><|eot_id|><|eot_id|><|eot_id|><|eot_id|><|eot_id|><|eot_id|><|eot_id|><|eot_id|><|eot_id|><|eot_id|><|eot_id|><|eot_id|><|eot_id|><|eot_id|><|eot_id|><|eot_id|><|eot_id|><|eot_id|><|eot_id|><|eot_id|><|eot_id|><|eot_id|><|eot_id|><|eot_id|><|eot_id|><|eot_id|><|eot_id|><|eot_id|><|eot_id|><|eot_id|><|eot_id|><|eot_id|><|eot_id|><|eot_id|><|eot_id|><|eot_id|><|eot_id|><|eot_id|><|eot_id|><|eot_id|><|eot_id|><|eot_id|><|eot_id|><|eot_id|><|eot_id|><|eot_id|><|eot_id|><|eot_id|><|eot_id|><|eot_id|><|eot_id|><|eot_id|><|eot_id|><|eot_id|><|eot_id|><|eot_id|><|eot_id|><|eot_id|><|eot_id|><|eot_id|><|eot_id|><|eot_id|><|eot_id|><|eot_id|><|eot_id|><|eot_id|><|eot_id|><|eot_id|><|eot_id|><|eot_id|><|eot_id|><|eot_id|><|eot_id|>\n"
          ]
        }
      ],
      "source": [
        "verify_tokenization(formatted_train[0])"
      ]
    },
    {
      "cell_type": "markdown",
      "metadata": {
        "id": "IbkYwTvAR70S"
      },
      "source": [
        "### B. Fine-tune using LoRa (30 pts)"
      ]
    },
    {
      "cell_type": "code",
      "execution_count": null,
      "metadata": {
        "id": "v6aLrrmnR70S"
      },
      "outputs": [],
      "source": [
        "def print_trainable_parameters(model):\n",
        "    \"\"\"\n",
        "    Prints the number of trainable parameters in the model.\n",
        "    \"\"\"\n",
        "    trainable_params = 0\n",
        "    all_param = 0\n",
        "    for _, param in model.named_parameters():\n",
        "        all_param += param.numel()\n",
        "        if param.requires_grad:\n",
        "            trainable_params += param.numel()\n",
        "    print(\n",
        "        f\"trainable params: {trainable_params} || all params: {all_param} || trainable%: {100 * trainable_params / all_param}\"\n",
        "    )\n"
      ]
    },
    {
      "cell_type": "markdown",
      "metadata": {
        "id": "OmYqjqIJ8MdE"
      },
      "source": [
        "#### Q2.2: Experimenting with LoRA Configuration Parameters (3 pts)"
      ]
    },
    {
      "cell_type": "markdown",
      "metadata": {
        "id": "CxVKOKLP8MdE"
      },
      "source": [
        "In this section, you may explore the effect of different LoRA configuration parameters on the trainable parameter count:\n",
        "\n",
        "1. Try different rank values (`r`) - experiment with values like 8, 16, 32, and 64\n",
        "    - Higher rank allows for more expressive power but increases parameter count\n",
        "    \n",
        "2. Adjust the scaling factor (`lora_alpha`) - typically set to 2x the rank\n",
        "    - This affects the magnitude of updates during training\n",
        "    \n",
        "3. Modify target modules - test different combinations like:\n",
        "    - Only attention modules: `[\"q_proj\", \"v_proj\"]`\n",
        "    - All attention modules: `[\"q_proj\", \"k_proj\", \"v_proj\", \"o_proj\"]`\n",
        "    - Including feed-forward: `[\"q_proj\", \"k_proj\", \"v_proj\", \"o_proj\", \"gate_proj\", \"up_proj\", \"down_proj\"]`\n",
        "    \n",
        "4. Vary dropout rates (`lora_dropout`) - test values like 0.0, 0.05, 0.1\n",
        "    - Higher dropout can help with regularization\n",
        "\n",
        "You may use the `print_trainable_parameters()` function to observe how each change affects the number of trainable parameters.\n",
        "\n",
        "(We are not requiring you to print and explain everything, these are some values to help you out)\n",
        "\n",
        "a. Find a configuration that provides a good balance between parameter efficiency and model expressiveness. Explain your reasons in a concise manner.\n"
      ]
    },
    {
      "cell_type": "markdown",
      "metadata": {
        "id": "78-QYYMRx1kx"
      },
      "source": [
        "I've tried to keep the trainable parameters below 1% of full fine-tuning, ensuring cost-effectiveness. Choosing 0.05 as the drop out rate prevents overfitting without weakening the model's learning ability. Also by choosing r=16 I can target all the modules of the model while also keeping the overall percentage of trainable parameters low. Finally, I've also tried models with more parameters, but their performance didn't improve significantly while their training time increased very much."
      ]
    },
    {
      "cell_type": "code",
      "execution_count": 20,
      "metadata": {
        "colab": {
          "base_uri": "https://localhost:8080/",
          "height": 113,
          "referenced_widgets": [
            "652acd6006194e98b34a1358e1774613",
            "789641220d0f41778c08434f7affa0ca",
            "36993a244b7446edb0c967b3f1f30ff1",
            "6dd5f99c2c704bbe89dded7cb6109a57",
            "cb60e1c8d7a3404b8b0617619d6510e8",
            "87914646f9974d2aa4a4c17bc5df9a6c",
            "525f229fbf514058806c63c5c848b6ed",
            "29e444df39494a3e89f09bab6760ea9a",
            "3d58ff3cc0ef448b9a7d6c0647821257",
            "e5273dbd8dce40fb8eb2116695fbf564",
            "dab3bbb0a469463bb0875c7075ac3a13",
            "121c819db22544efb6d20ccfd6a99a3b",
            "c4382ab03c6b4b0d832c72c9a9dfc3c2",
            "a5dfa27eff764f22a221284b58cdb368",
            "40563b42c1d44bffa881626b352a4471",
            "83b50c9cd5564d61869c20a06c04d813",
            "05a67b83dcf34882ae6dd120ed3bb560",
            "171a0d4e9cd5471a96723b372a21154b",
            "86b206a732634bf3a56285022af62e1f",
            "81673cc74cf24b519e4cec159a9cae9c",
            "22fef8db60ea44d38f33a2f305c3096c",
            "eee2560a94264fb4ad8e5b1e897d9831",
            "c68b80d81ffa45a9b1a65862784463bd",
            "b511f3187c8b436fb8ca333f0feeda9c",
            "e36e56b5499542bcb6a5fcb48a8748d2",
            "7c4dc9adb8fc42c4b5ce66962238c48b",
            "cb70a93ef19d48fda6c411fec0facdd8",
            "5d3ffc07da15456eb9d04b6ff0267681",
            "7bc74f632366416181defb3229e684cc",
            "4c46c020f7c54f7b8b6b02ff3b4eae6b",
            "253de45c1e4a43ac8c325b9fabb4c3f1",
            "a785ea1e1c0d432a86db3f35a326e8a7",
            "9e8a46ae8b9c4afeb8f54f2b2f914563"
          ]
        },
        "id": "OZ4BEw9FyXWn",
        "outputId": "9a25e9a0-1c38-4d37-ee83-ef1b3e926bed"
      },
      "outputs": [
        {
          "data": {
            "application/vnd.jupyter.widget-view+json": {
              "model_id": "652acd6006194e98b34a1358e1774613",
              "version_major": 2,
              "version_minor": 0
            },
            "text/plain": [
              "config.json:   0%|          | 0.00/877 [00:00<?, ?B/s]"
            ]
          },
          "metadata": {},
          "output_type": "display_data"
        },
        {
          "data": {
            "application/vnd.jupyter.widget-view+json": {
              "model_id": "121c819db22544efb6d20ccfd6a99a3b",
              "version_major": 2,
              "version_minor": 0
            },
            "text/plain": [
              "model.safetensors:   0%|          | 0.00/2.47G [00:00<?, ?B/s]"
            ]
          },
          "metadata": {},
          "output_type": "display_data"
        },
        {
          "data": {
            "application/vnd.jupyter.widget-view+json": {
              "model_id": "c68b80d81ffa45a9b1a65862784463bd",
              "version_major": 2,
              "version_minor": 0
            },
            "text/plain": [
              "generation_config.json:   0%|          | 0.00/189 [00:00<?, ?B/s]"
            ]
          },
          "metadata": {},
          "output_type": "display_data"
        }
      ],
      "source": [
        "model_id = INSTRUCT_MODEL\n",
        "instruction_model = AutoModelForCausalLM.from_pretrained(\n",
        "    model_id,\n",
        "    device_map=DEVICE,\n",
        ")"
      ]
    },
    {
      "cell_type": "code",
      "execution_count": null,
      "metadata": {
        "colab": {
          "base_uri": "https://localhost:8080/"
        },
        "id": "Ze-b5eU7yj2A",
        "outputId": "78e09152-2ff1-4874-b01e-a8a03699606f"
      },
      "outputs": [
        {
          "name": "stdout",
          "output_type": "stream",
          "text": [
            "trainable params: 1235814400 || all params: 1235814400 || trainable%: 100.0\n"
          ]
        }
      ],
      "source": [
        "print_trainable_parameters(instruction_model)"
      ]
    },
    {
      "cell_type": "code",
      "execution_count": null,
      "metadata": {
        "colab": {
          "base_uri": "https://localhost:8080/"
        },
        "id": "b42nIsQs8MdE",
        "outputId": "89534850-55ce-4673-fb52-9809db9ff38d"
      },
      "outputs": [
        {
          "name": "stdout",
          "output_type": "stream",
          "text": [
            "trainable params: 11272192 || all params: 1247086592 || trainable%: 0.9038820617838861\n"
          ]
        }
      ],
      "source": [
        "lora_config = LoraConfig(\n",
        "    r=16,\n",
        "    lora_alpha=32,\n",
        "    target_modules=[\"q_proj\", \"k_proj\", \"v_proj\", \"o_proj\", \"gate_proj\", \"up_proj\", \"down_proj\"],\n",
        "    lora_dropout=0.05,\n",
        ")\n",
        "peft_model = get_peft_model(instruction_model, lora_config)\n",
        "print_trainable_parameters(peft_model)"
      ]
    },
    {
      "cell_type": "markdown",
      "metadata": {
        "id": "9sqV1RFl8MdE"
      },
      "source": [
        "#### Q2.3: Training Callbacks and Early Stopping (10 pts)"
      ]
    },
    {
      "cell_type": "markdown",
      "metadata": {
        "id": "xHORrpBU8MdE"
      },
      "source": [
        "\n",
        "**Understanding Training Callbacks**\n",
        "\n",
        "Generally speaking, in deep learning, callbacks are functions that can be applied at various stages of training\n",
        "(start/end of training, epoch, or batch) to modify the training process. They're powerful\n",
        "tools that allow you to:\n",
        "\n",
        "- Monitor training metrics in real-time\n",
        "- Add custom logging\n",
        "- Save model checkpoints\n",
        "- Implement early stopping\n",
        "- Adjust learning rates dynamically\n",
        "\n",
        "**Early Stopping**\n",
        "\n",
        "Early stopping is a regularization technique that prevents overfitting by stopping training\n",
        "when a monitored metric stops improving. Benefits include:\n",
        "\n",
        "- Reduced training time\n",
        "- Better generalization\n",
        "- Prevention of overfitting\n",
        "\n",
        "**Your Task**\n",
        "\n",
        "a. Implement a custom callback class that:\n",
        "1. Tracks the best loss value during training\n",
        "2. Calculates perplexity in steps\n",
        "3. Adds perplexity to the training logs\n",
        "4. Implements early stopping if the loss doesn't improve for several steps (This is called patience)\n",
        "5. (In your final project it is a good idea to use the big enough validation set to better monitor the training process. Given the time constraints for this assignment, we are not requiring you to do that.)\n",
        "\n",
        "***NOTE:*** You should inherit from the TrainerCallback class implemented in transformers\n"
      ]
    },
    {
      "cell_type": "code",
      "execution_count": 21,
      "metadata": {
        "id": "foHcbMhv7bJf"
      },
      "outputs": [],
      "source": [
        "from transformers import TrainerCallback,TrainingArguments,TrainerState,TrainerControl"
      ]
    },
    {
      "cell_type": "code",
      "execution_count": null,
      "metadata": {
        "id": "qSuqk1iT8MdE"
      },
      "outputs": [],
      "source": [
        "class PerplexityEarlyStoppingCallback(TrainerCallback):\n",
        "    def __init__(self, patience=5):\n",
        "        self.best_loss = float(\"inf\")\n",
        "        self.patience = patience\n",
        "        self.steps_without_improvement = 0\n",
        "\n",
        "    def on_evaluate(self, args: TrainingArguments, state: TrainerState, control: TrainerControl, **kwargs):\n",
        "      if not state.log_history:\n",
        "        return\n",
        "      loss = state.log_history[-2][\"loss\"]\n",
        "      perplexity = torch.exp(torch.tensor(loss))\n",
        "      state.log_history[-2][\"perplexity\"] = perplexity.item()\n",
        "      print(state.log_history[-2])\n",
        "\n",
        "      if loss < self.best_loss:\n",
        "          self.best_loss = loss\n",
        "          self.steps_without_improvement = 0\n",
        "      else:\n",
        "          self.steps_without_improvement += 1\n",
        "\n",
        "      if self.steps_without_improvement >= self.patience:\n",
        "          print(f\"Early stopping triggered after {self.patience} steps without improvement!\")\n",
        "          control.should_training_stop = True"
      ]
    },
    {
      "cell_type": "markdown",
      "metadata": {
        "id": "b4jDQHHI8MdE"
      },
      "source": [
        "#### Q2.4: TrainingArgs (7 pts)"
      ]
    },
    {
      "cell_type": "markdown",
      "metadata": {
        "id": "t9z_s_di8MdE"
      },
      "source": [
        "b. Explain the purpose of a minimum of 5 of the following TrainingArguments parameters in ```at most two sentences.```\n",
        "For each parameter, suggest a good value for our emotion classification problem,\n",
        "considering we are using a Llama-3.2-1B model and training in a Colab/Kaggle environment.\n",
        "Explain why you chose that value.\n",
        "\n",
        "1.  `lr_scheduler_type`\n",
        "2.  `per_device_train_batch_size`\n",
        "3.  `gradient_accumulation_steps`\n",
        "4.  `learning_rate`\n",
        "5.  `weight_decay`\n",
        "6.  `bf16`\n",
        "7.  `max_grad_norm`\n",
        "8.  `warmup_ratio`\n",
        "9.  `group_by_length`"
      ]
    },
    {
      "cell_type": "markdown",
      "metadata": {
        "id": "-WCOZSury8Nb"
      },
      "source": [
        "lr_scheduler_type: Determines how the learning rate will change during training (e.g., decaying over time).\\\n",
        "\"linear\": This scheduler gradually reduces the learning rate, which helps prevent overshooting the optimal weights as training progresses.\\\n",
        "\n",
        "per_device_train_batch_size: Specifies the batch size per GPU/TPU core/CPU for training.\\\n",
        "8: Given the limited GPU memory in Colab/Kaggle, a batch size of 8 strikes a balance between memory usage and performance.\\\n",
        "\n",
        "gradient_accumulation_steps: Number of updates steps to accumulate the gradients for, before performing a backward/update pass.\\\n",
        "4: Since we are likely to face memory constraints in Colab/Kaggle, setting this to 4 allows the effective batch size to be increased without running out of memory.\\\n",
        "\n",
        "learning_rate: The initial learning rate for Adam. Controls how large a step the optimizer takes in the direction of the gradient.\\\n",
        "5e-5: It provides a good trade-off between convergence speed and stability without causing large updates that could destabilize training.\\\n",
        "\n",
        "weight_decay: Regularization term that penalizes large weights to prevent overfitting.\\\n",
        "0.01: A value of 0.01 is a typical starting point for Llama-based models, helping to reduce overfitting.\\\n",
        "\n",
        "bf16: Enables training using bfloat16 precision for faster computations and reduced memory usage.\\\n",
        "True: Using bf16 in Colab/Kaggle will speed up training, reduce memory usage, and improve computational efficiency.\\\n",
        "\n",
        "max_grad_norm: Clipping the gradients to a specified norm value to prevent exploding gradients.\\\n",
        "1.0: It prevents excessively large gradient updates while maintaining training stability.\\\n",
        "\n",
        "warmup_ratio: Sets the proportion of training steps during which the learning rate increases from zero to the specified learning rate.\\\n",
        "0.1: It helps prevent sudden updates at the beginning of training, which can destabilize the optimization process.\\\n",
        "\n",
        "group_by_length: When enabled, batches are grouped by sequence length to reduce padding and improve efficiency.\\\n",
        "False: Since I've already padded the sequences, there is no need for setting this to true."
      ]
    },
    {
      "cell_type": "markdown",
      "metadata": {
        "id": "f7mjEtzp8MdE"
      },
      "source": [
        "b. Define your trainings args"
      ]
    },
    {
      "cell_type": "code",
      "execution_count": null,
      "metadata": {
        "id": "xKEXnRnV8MdE"
      },
      "outputs": [],
      "source": [
        "from transformers import TrainingArguments,Trainer\n",
        "from peft import PeftModel"
      ]
    },
    {
      "cell_type": "code",
      "execution_count": null,
      "metadata": {
        "id": "A_PP6G8CFxDV"
      },
      "outputs": [],
      "source": [
        "training_args = TrainingArguments(\n",
        "    lr_scheduler_type='linear',\n",
        "    per_device_train_batch_size=8,\n",
        "    gradient_accumulation_steps=4,\n",
        "    learning_rate=5e-5,\n",
        "    weight_decay=0.01,\n",
        "    bf16=True,\n",
        "    max_grad_norm=1.0,\n",
        "    warmup_ratio=0.1,\n",
        "    group_by_length=False,\n",
        "    output_dir='./results',\n",
        "    num_train_epochs=5,\n",
        "    report_to=\"none\",\n",
        "    logging_strategy=\"steps\",\n",
        "    logging_steps=10,\n",
        "    eval_strategy=\"steps\",\n",
        "    eval_steps=10,\n",
        "    save_strategy=\"steps\",\n",
        "    save_steps=10,\n",
        ")"
      ]
    },
    {
      "cell_type": "markdown",
      "metadata": {
        "id": "oesSgQLnleqH"
      },
      "source": [
        "#### Q2.5: Memory usage (8 points)"
      ]
    },
    {
      "cell_type": "markdown",
      "metadata": {
        "id": "fj_Fk88wlvbN"
      },
      "source": [
        "Now, we want to determine the memory required to **load and train** the LLM in different fine-tuning scenarios.  \n",
        "\n",
        "- **Full Fine-Tuning:** Calculate the total memory needed when updating all model parameters.  \n",
        "- **LoRA Fine-Tuning:** Calculate the memory needed based on your LoRA configuration.  \n",
        "- Use your current settings for the calculations.  \n",
        "- Refer to [this resource](https://blog.eleuther.ai/transformer-math/) for guidance."
      ]
    },
    {
      "cell_type": "code",
      "execution_count": null,
      "metadata": {
        "colab": {
          "base_uri": "https://localhost:8080/"
        },
        "id": "D0xgOgx8Q8aE",
        "outputId": "174ee4a8-0d1b-4a09-ca18-565ee8803aba"
      },
      "outputs": [
        {
          "data": {
            "text/plain": [
              "LlamaConfig {\n",
              "  \"_attn_implementation_autoset\": true,\n",
              "  \"_name_or_path\": \"meta-llama/Llama-3.2-1B-Instruct\",\n",
              "  \"architectures\": [\n",
              "    \"LlamaForCausalLM\"\n",
              "  ],\n",
              "  \"attention_bias\": false,\n",
              "  \"attention_dropout\": 0.0,\n",
              "  \"bos_token_id\": 128000,\n",
              "  \"eos_token_id\": [\n",
              "    128001,\n",
              "    128008,\n",
              "    128009\n",
              "  ],\n",
              "  \"head_dim\": 64,\n",
              "  \"hidden_act\": \"silu\",\n",
              "  \"hidden_size\": 2048,\n",
              "  \"initializer_range\": 0.02,\n",
              "  \"intermediate_size\": 8192,\n",
              "  \"max_position_embeddings\": 131072,\n",
              "  \"mlp_bias\": false,\n",
              "  \"model_type\": \"llama\",\n",
              "  \"num_attention_heads\": 32,\n",
              "  \"num_hidden_layers\": 16,\n",
              "  \"num_key_value_heads\": 8,\n",
              "  \"pretraining_tp\": 1,\n",
              "  \"rms_norm_eps\": 1e-05,\n",
              "  \"rope_scaling\": {\n",
              "    \"factor\": 32.0,\n",
              "    \"high_freq_factor\": 4.0,\n",
              "    \"low_freq_factor\": 1.0,\n",
              "    \"original_max_position_embeddings\": 8192,\n",
              "    \"rope_type\": \"llama3\"\n",
              "  },\n",
              "  \"rope_theta\": 500000.0,\n",
              "  \"tie_word_embeddings\": true,\n",
              "  \"torch_dtype\": \"bfloat16\",\n",
              "  \"transformers_version\": \"4.48.3\",\n",
              "  \"use_cache\": true,\n",
              "  \"vocab_size\": 128256\n",
              "}"
            ]
          },
          "execution_count": 33,
          "metadata": {},
          "output_type": "execute_result"
        }
      ],
      "source": [
        "instruction_model.config"
      ]
    },
    {
      "cell_type": "markdown",
      "metadata": {
        "id": "QVmS5BKyoj0p"
      },
      "source": [
        "Full Fine-Tuning: \\\n",
        "Model Parameters = 2 * 1235814400 ≈ 2.5GB\\\n",
        "Optimizer States = 12 * 1235814400 ≈ 15GB\\\n",
        "Gradients = 2 * 1235814400 ≈ 2.5GB\\\n",
        "Activations and Batch Size = 128 * 8 * 2048 * 16 * 2 = 67MB\\\n",
        "Total memory ≈ 20GB\\\n",
        "LoRA Fine-Tuning:\\\n",
        "Model Parameters = 2 * 1247086592 ≈ 2.5GB\\\n",
        "Optimizer States = 12 * 11272192 ≈ 135MB\\\n",
        "Gradients = 2 * 11272192 ≈ 22MB\\\n",
        "Activations and Batch Size = 128 * 8 * 2048 * 16 * 2 = 67MB\\\n",
        "Total memory ≈ 2.7GB"
      ]
    },
    {
      "cell_type": "markdown",
      "metadata": {
        "id": "YYso3Xrn8MdF"
      },
      "source": [
        "#### Q2.6: Training the model (2 pts)"
      ]
    },
    {
      "cell_type": "markdown",
      "metadata": {
        "id": "qV_wnGtE8MdF"
      },
      "source": [
        "Train and save the model. Your training should take at most 10 minutes on a Google colab notebook.\n",
        "\n",
        "***PRO-TIP:*** If you want to go a step further on a good training task, you may research and use model checkpointing and monitoring tools (like weights and biases and tensorboard) But it's not required here."
      ]
    },
    {
      "cell_type": "code",
      "execution_count": null,
      "metadata": {
        "colab": {
          "base_uri": "https://localhost:8080/"
        },
        "id": "BwHFaAEKUk8L",
        "outputId": "dce1e6c2-4471-43a4-b718-ffc47a62fd87"
      },
      "outputs": [
        {
          "name": "stderr",
          "output_type": "stream",
          "text": [
            "<ipython-input-34-d129cb3cf9f9>:1: FutureWarning: `tokenizer` is deprecated and will be removed in version 5.0.0 for `Trainer.__init__`. Use `processing_class` instead.\n",
            "  trainer = Trainer(\n"
          ]
        }
      ],
      "source": [
        "trainer = Trainer(\n",
        "    model=peft_model,\n",
        "    args=training_args,\n",
        "    train_dataset=formatted_train,\n",
        "    eval_dataset=formatted_val,\n",
        "    tokenizer=tokenizer,\n",
        "    callbacks=[PerplexityEarlyStoppingCallback(patience=3)],\n",
        ")"
      ]
    },
    {
      "cell_type": "code",
      "execution_count": null,
      "metadata": {
        "colab": {
          "base_uri": "https://localhost:8080/",
          "height": 1000
        },
        "id": "9ryWRwpt9ZWN",
        "outputId": "6c527f06-d6ee-4681-c5fa-ce9e4aa0cac1"
      },
      "outputs": [
        {
          "data": {
            "text/html": [
              "\n",
              "    <div>\n",
              "      \n",
              "      <progress value='220' max='235' style='width:300px; height:20px; vertical-align: middle;'></progress>\n",
              "      [220/235 38:46 < 02:40, 0.09 it/s, Epoch 4/5]\n",
              "    </div>\n",
              "    <table border=\"1\" class=\"dataframe\">\n",
              "  <thead>\n",
              " <tr style=\"text-align: left;\">\n",
              "      <th>Step</th>\n",
              "      <th>Training Loss</th>\n",
              "      <th>Validation Loss</th>\n",
              "    </tr>\n",
              "  </thead>\n",
              "  <tbody>\n",
              "    <tr>\n",
              "      <td>10</td>\n",
              "      <td>8.936100</td>\n",
              "      <td>No log</td>\n",
              "    </tr>\n",
              "    <tr>\n",
              "      <td>20</td>\n",
              "      <td>1.441400</td>\n",
              "      <td>No log</td>\n",
              "    </tr>\n",
              "    <tr>\n",
              "      <td>30</td>\n",
              "      <td>0.027500</td>\n",
              "      <td>No log</td>\n",
              "    </tr>\n",
              "    <tr>\n",
              "      <td>40</td>\n",
              "      <td>0.019600</td>\n",
              "      <td>No log</td>\n",
              "    </tr>\n",
              "    <tr>\n",
              "      <td>50</td>\n",
              "      <td>0.019500</td>\n",
              "      <td>No log</td>\n",
              "    </tr>\n",
              "    <tr>\n",
              "      <td>60</td>\n",
              "      <td>0.017700</td>\n",
              "      <td>No log</td>\n",
              "    </tr>\n",
              "    <tr>\n",
              "      <td>70</td>\n",
              "      <td>0.018000</td>\n",
              "      <td>No log</td>\n",
              "    </tr>\n",
              "    <tr>\n",
              "      <td>80</td>\n",
              "      <td>0.016500</td>\n",
              "      <td>No log</td>\n",
              "    </tr>\n",
              "    <tr>\n",
              "      <td>90</td>\n",
              "      <td>0.015000</td>\n",
              "      <td>No log</td>\n",
              "    </tr>\n",
              "    <tr>\n",
              "      <td>100</td>\n",
              "      <td>0.014100</td>\n",
              "      <td>No log</td>\n",
              "    </tr>\n",
              "    <tr>\n",
              "      <td>110</td>\n",
              "      <td>0.017300</td>\n",
              "      <td>No log</td>\n",
              "    </tr>\n",
              "    <tr>\n",
              "      <td>120</td>\n",
              "      <td>0.014000</td>\n",
              "      <td>No log</td>\n",
              "    </tr>\n",
              "    <tr>\n",
              "      <td>130</td>\n",
              "      <td>0.012600</td>\n",
              "      <td>No log</td>\n",
              "    </tr>\n",
              "    <tr>\n",
              "      <td>140</td>\n",
              "      <td>0.013000</td>\n",
              "      <td>No log</td>\n",
              "    </tr>\n",
              "    <tr>\n",
              "      <td>150</td>\n",
              "      <td>0.012700</td>\n",
              "      <td>No log</td>\n",
              "    </tr>\n",
              "    <tr>\n",
              "      <td>160</td>\n",
              "      <td>0.011600</td>\n",
              "      <td>No log</td>\n",
              "    </tr>\n",
              "    <tr>\n",
              "      <td>170</td>\n",
              "      <td>0.012800</td>\n",
              "      <td>No log</td>\n",
              "    </tr>\n",
              "    <tr>\n",
              "      <td>180</td>\n",
              "      <td>0.012300</td>\n",
              "      <td>No log</td>\n",
              "    </tr>\n",
              "    <tr>\n",
              "      <td>190</td>\n",
              "      <td>0.010600</td>\n",
              "      <td>No log</td>\n",
              "    </tr>\n",
              "    <tr>\n",
              "      <td>200</td>\n",
              "      <td>0.011800</td>\n",
              "      <td>No log</td>\n",
              "    </tr>\n",
              "    <tr>\n",
              "      <td>210</td>\n",
              "      <td>0.011200</td>\n",
              "      <td>No log</td>\n",
              "    </tr>\n",
              "    <tr>\n",
              "      <td>220</td>\n",
              "      <td>0.010600</td>\n",
              "      <td>No log</td>\n",
              "    </tr>\n",
              "  </tbody>\n",
              "</table><p>"
            ],
            "text/plain": [
              "<IPython.core.display.HTML object>"
            ]
          },
          "metadata": {},
          "output_type": "display_data"
        },
        {
          "name": "stdout",
          "output_type": "stream",
          "text": [
            "{'loss': 8.9361, 'grad_norm': 61.4827880859375, 'learning_rate': 2.0833333333333336e-05, 'epoch': 0.2127659574468085, 'step': 10, 'perplexity': 7601.4931640625}\n",
            "{'loss': 1.4414, 'grad_norm': 0.2908584177494049, 'learning_rate': 4.166666666666667e-05, 'epoch': 0.425531914893617, 'step': 20, 'perplexity': 4.226609230041504}\n",
            "{'loss': 0.0275, 'grad_norm': 0.07616879791021347, 'learning_rate': 4.857819905213271e-05, 'epoch': 0.6382978723404256, 'step': 30, 'perplexity': 1.0278816223144531}\n",
            "{'loss': 0.0196, 'grad_norm': 0.1016719788312912, 'learning_rate': 4.620853080568721e-05, 'epoch': 0.851063829787234, 'step': 40, 'perplexity': 1.0197933912277222}\n",
            "{'loss': 0.0195, 'grad_norm': 0.1366051584482193, 'learning_rate': 4.383886255924171e-05, 'epoch': 1.0638297872340425, 'step': 50, 'perplexity': 1.0196913480758667}\n",
            "{'loss': 0.0177, 'grad_norm': 0.10408969223499298, 'learning_rate': 4.146919431279621e-05, 'epoch': 1.2765957446808511, 'step': 60, 'perplexity': 1.017857551574707}\n",
            "{'loss': 0.018, 'grad_norm': 0.09509634971618652, 'learning_rate': 3.909952606635071e-05, 'epoch': 1.4893617021276595, 'step': 70, 'perplexity': 1.0181629657745361}\n",
            "{'loss': 0.0165, 'grad_norm': 0.14135664701461792, 'learning_rate': 3.672985781990522e-05, 'epoch': 1.702127659574468, 'step': 80, 'perplexity': 1.016636848449707}\n",
            "{'loss': 0.015, 'grad_norm': 0.05692338943481445, 'learning_rate': 3.4360189573459716e-05, 'epoch': 1.9148936170212765, 'step': 90, 'perplexity': 1.015113115310669}\n",
            "{'loss': 0.0141, 'grad_norm': 0.07425765693187714, 'learning_rate': 3.1990521327014215e-05, 'epoch': 2.127659574468085, 'step': 100, 'perplexity': 1.0141998529434204}\n",
            "{'loss': 0.0173, 'grad_norm': 0.1983204334974289, 'learning_rate': 2.962085308056872e-05, 'epoch': 2.3404255319148937, 'step': 110, 'perplexity': 1.0174505710601807}\n",
            "{'loss': 0.014, 'grad_norm': 0.14264793694019318, 'learning_rate': 2.7251184834123224e-05, 'epoch': 2.5531914893617023, 'step': 120, 'perplexity': 1.0140984058380127}\n",
            "{'loss': 0.0126, 'grad_norm': 0.1259327083826065, 'learning_rate': 2.4881516587677726e-05, 'epoch': 2.7659574468085104, 'step': 130, 'perplexity': 1.0126796960830688}\n",
            "{'loss': 0.013, 'grad_norm': 0.1126934364438057, 'learning_rate': 2.251184834123223e-05, 'epoch': 2.978723404255319, 'step': 140, 'perplexity': 1.013084888458252}\n",
            "{'loss': 0.0127, 'grad_norm': 0.13080574572086334, 'learning_rate': 2.014218009478673e-05, 'epoch': 3.1914893617021276, 'step': 150, 'perplexity': 1.012781023979187}\n",
            "{'loss': 0.0116, 'grad_norm': 0.14638037979602814, 'learning_rate': 1.7772511848341233e-05, 'epoch': 3.404255319148936, 'step': 160, 'perplexity': 1.0116674900054932}\n",
            "{'loss': 0.0128, 'grad_norm': 0.12999533116817474, 'learning_rate': 1.5402843601895736e-05, 'epoch': 3.617021276595745, 'step': 170, 'perplexity': 1.0128822326660156}\n",
            "{'loss': 0.0123, 'grad_norm': 0.12815944850444794, 'learning_rate': 1.3033175355450238e-05, 'epoch': 3.829787234042553, 'step': 180, 'perplexity': 1.0123759508132935}\n",
            "{'loss': 0.0106, 'grad_norm': 0.10679667443037033, 'learning_rate': 1.066350710900474e-05, 'epoch': 4.042553191489362, 'step': 190, 'perplexity': 1.0106563568115234}\n",
            "{'loss': 0.0118, 'grad_norm': 0.16375547647476196, 'learning_rate': 8.293838862559241e-06, 'epoch': 4.25531914893617, 'step': 200, 'perplexity': 1.0118699073791504}\n",
            "{'loss': 0.0112, 'grad_norm': 0.12420753389596939, 'learning_rate': 5.924170616113745e-06, 'epoch': 4.468085106382979, 'step': 210, 'perplexity': 1.0112630128860474}\n",
            "{'loss': 0.0106, 'grad_norm': 0.10400469601154327, 'learning_rate': 3.5545023696682464e-06, 'epoch': 4.680851063829787, 'step': 220, 'perplexity': 1.0106563568115234}\n",
            "Early stopping triggered after 3 steps without improvement!\n"
          ]
        },
        {
          "data": {
            "text/plain": [
              "TrainOutput(global_step=220, training_loss=0.4852625687013973, metrics={'train_runtime': 2337.6328, 'train_samples_per_second': 3.208, 'train_steps_per_second': 0.101, 'total_flos': 5310377600483328.0, 'train_loss': 0.4852625687013973, 'epoch': 4.680851063829787})"
            ]
          },
          "execution_count": 35,
          "metadata": {},
          "output_type": "execute_result"
        }
      ],
      "source": [
        "trainer.train()"
      ]
    },
    {
      "cell_type": "code",
      "execution_count": null,
      "metadata": {
        "colab": {
          "base_uri": "https://localhost:8080/",
          "height": 449
        },
        "id": "MJTuqywqH4ua",
        "outputId": "0a3243e3-238d-447f-e9b4-16fb94823047"
      },
      "outputs": [
        {
          "data": {
            "image/png": "[encoded data removed]",
            "text/plain": [
              "<Figure size 640x480 with 1 Axes>"
            ]
          },
          "metadata": {},
          "output_type": "display_data"
        }
      ],
      "source": [
        "history = trainer.state.log_history[:-1:2]\n",
        "loss_hist = [hist[\"loss\"] for hist in history]\n",
        "x = [hist[\"step\"] for hist in history]\n",
        "plt.plot(x,loss_hist)\n",
        "plt.xlabel(\"steps\")\n",
        "plt.ylabel(\"loss\")\n",
        "plt.show()"
      ]
    },
    {
      "cell_type": "code",
      "execution_count": null,
      "metadata": {
        "colab": {
          "base_uri": "https://localhost:8080/",
          "height": 449
        },
        "id": "coBCdpT8tDcT",
        "outputId": "da322423-a8ad-4947-887d-14961333f010"
      },
      "outputs": [
        {
          "data": {
            "image/png": "[encoded data removed]",
            "text/plain": [
              "<Figure size 640x480 with 1 Axes>"
            ]
          },
          "metadata": {},
          "output_type": "display_data"
        }
      ],
      "source": [
        "loss_hist = [hist[\"perplexity\"] for hist in history]\n",
        "x = [hist[\"step\"] for hist in history]\n",
        "plt.plot(x,loss_hist)\n",
        "plt.xlabel(\"steps\")\n",
        "plt.ylabel(\"perplexity\")\n",
        "plt.show()"
      ]
    },
    {
      "cell_type": "code",
      "execution_count": null,
      "metadata": {
        "id": "-pNXSnxO0QrG"
      },
      "outputs": [],
      "source": [
        "trainer.model.save_pretrained(\"my_model\")"
      ]
    },
    {
      "cell_type": "code",
      "execution_count": 17,
      "metadata": {
        "id": "DkYd73OD0bl0"
      },
      "outputs": [],
      "source": [
        "model_id = INSTRUCT_MODEL\n",
        "model = AutoModelForCausalLM.from_pretrained(\n",
        "    model_id,\n",
        "    device_map=DEVICE,\n",
        ")"
      ]
    },
    {
      "cell_type": "code",
      "execution_count": 18,
      "metadata": {
        "id": "lzLqI3JQxffG"
      },
      "outputs": [],
      "source": [
        "peft_model = PeftModel.from_pretrained(model, \"my_model\")"
      ]
    },
    {
      "cell_type": "markdown",
      "metadata": {
        "id": "vyY2GI_JTw3r"
      },
      "source": [
        "### C. Some other PEFT methods (6 pts)"
      ]
    },
    {
      "cell_type": "markdown",
      "metadata": {
        "id": "HosLXDArT7MT"
      },
      "source": [
        "#### Q2.7: IA3 method (2 points)"
      ]
    },
    {
      "cell_type": "markdown",
      "metadata": {
        "id": "fz5hBZTedXc2"
      },
      "source": [
        "IA3 ([Liu et al., 2022](https://openreview.net/pdf?id=rBCvMG-JsPd)) is another PEFT method. Briefly explain how it works."
      ]
    },
    {
      "cell_type": "markdown",
      "metadata": {
        "id": "4oi-m6r2c9kW"
      },
      "source": [
        "IA3 introduces the learned vectors lk, lv, and lff which respectively rescale (via element-wise multiplication) the keys and values in attention mechanisms and the inner activations in position-wise feed-forward networks. In addition to a standard cross-entropy loss LLM, they introduce an unlikelihood loss\n",
        "LUL that lowers the probability of incorrect outputs and a length-normalized loss LLN that applies a standard softmax cross-entropy loss to length-normalized log-probabilities of all output choices."
      ]
    },
    {
      "cell_type": "markdown",
      "metadata": {
        "id": "HUnIbezUr8Qo"
      },
      "source": [
        "#### Q2.8: Soft Prompt methods (4 points)"
      ]
    },
    {
      "cell_type": "markdown",
      "metadata": {
        "id": "ZEoBfkeNz0hd"
      },
      "source": [
        "Instead of fine-tuning all model parameters, prompting uses additional input text to guide a frozen model toward a specific task.  \n",
        "\n",
        "There are two types of prompts [(Hugging Face, PEFT)](https://huggingface.co/docs/peft/en/conceptual_guides/prompting):  \n",
        "- **Hard prompts**: Manually crafted text prompts using discrete tokens, but designing them is labor-intensive.  \n",
        "- **Soft prompts**: Learnable tensors concatenated with input embeddings and optimized for a dataset, but they are not human-readable.  \n",
        "\n",
        "In this section, you will explore how soft prompts are implemented and fine-tuned using PEFT.\n"
      ]
    },
    {
      "cell_type": "markdown",
      "metadata": {
        "id": "8csZKx8is7y-"
      },
      "source": [
        "Briefly explain the following soft prompt methods and highlight their key differences:  \n",
        "- **Prompt Tuning** [(Lester et al., 2021)](https://aclanthology.org/2021.emnlp-main.243.pdf)  \n",
        "- **Prefix Tuning** [(Li & Liang, 2021)](https://aclanthology.org/2021.acl-long.353.pdf)  \n",
        "- **P-Tuning** [(Liu et al., 2021)](https://arxiv.org/pdf/2103.10385)  "
      ]
    },
    {
      "cell_type": "markdown",
      "metadata": {
        "id": "uNEv3hjgiJJC"
      },
      "source": [
        "**Prompt Tuning:** Before the input, a set of virtual tokens (randomly initialized) is added. These tokens don’t map to real words but are optimized during training. The frozen LLM processes both soft prompts and the main input. Backpropagation only updates the prompt embeddings.\\\n",
        "**Prefix Tuning:** It is very similar to prompt tuning; prefix tuning also prepends a sequence of task-specific vectors to the input that can be trained. The main difference is that the prefix parameters are inserted in all of the model layers, whereas prompt tuning only adds the prompt parameters to the model input embeddings. The prefix parameters are also optimized by a separate feed-forward network (FFN) instead of training directly on the soft prompts because it causes instability and hurts performance. The FFN is discarded after updating the soft prompts.\\\n",
        "**P-Tuning:** P-tuning also adds a trainable embedding tensor that can be optimized to find better prompts, and it uses a prompt encoder (a bidirectional long-short term memory network or LSTM) to optimize the prompt parameters. Unlike prefix tuning though:\n",
        "*   The prompt tokens can be inserted anywhere in the input sequence, and it isn’t restricted to only the beginning.\n",
        "*   Like prompt tuning the prompt tokens are only added to the input instead of adding them to every layer of the model.\n",
        "*   Introducing anchor tokens can improve performance because they indicate characteristics of a component in the input sequence."
      ]
    },
    {
      "cell_type": "markdown",
      "metadata": {
        "id": "1grzEyrLR70S"
      },
      "source": [
        "### D. Evaluate and Comparison (24 pts)"
      ]
    },
    {
      "cell_type": "markdown",
      "metadata": {
        "id": "caOaDYb9t-1d"
      },
      "source": [
        "#### Q2.9: Generating Output from Models (10 pts)"
      ]
    },
    {
      "cell_type": "markdown",
      "metadata": {
        "id": "rv2Fo5R18MdF"
      },
      "source": [
        "Generate the output of models on the task of emotion detection using:\n",
        "\n",
        "- LoRa fine-tuned Model by you\n",
        "- Instruction tuned model by Meta\n",
        "- Base model by Meta\n",
        "\n",
        "You may use ```Regex``` or simply looking for label names in model outputs to do obtain the classification repots. Looking at the results generated by models can help you greatly to find the best way to parse the output.\n",
        "\n",
        "***NOTE:*** Your fine-tuned model MUST outperform the base model, but outperforming the instruction tuned model is optional and has extra points. (5 pts)"
      ]
    },
    {
      "cell_type": "code",
      "execution_count": 19,
      "metadata": {
        "id": "hCQSghHgzTTj"
      },
      "outputs": [],
      "source": [
        "model_id = INSTRUCT_MODEL\n",
        "instruction_model = AutoModelForCausalLM.from_pretrained(\n",
        "    model_id,\n",
        "    device_map=DEVICE,\n",
        ")"
      ]
    },
    {
      "cell_type": "code",
      "execution_count": 20,
      "metadata": {
        "id": "OKkUoUKjtX87"
      },
      "outputs": [],
      "source": [
        "model_id = BASE_MODEL\n",
        "base_tokenizer = AutoTokenizer.from_pretrained(model_id)\n",
        "base_model = AutoModelForCausalLM.from_pretrained(\n",
        "    model_id,\n",
        "    device_map=DEVICE,\n",
        ")"
      ]
    },
    {
      "cell_type": "code",
      "execution_count": 21,
      "metadata": {
        "id": "cwV0CSYxgpr5"
      },
      "outputs": [],
      "source": [
        "def format_conversation_test(data):\n",
        "    conversation = format_conversation(data[\"text\"],data[\"label\"])\n",
        "    new_data = data\n",
        "    new_data[\"text\"] = conversation[:conversation.rfind(':')+1]\n",
        "\n",
        "    emotions = [\"sadness\", \"joy\", \"love\", \"anger\", \"fear\", \"surprise\"]\n",
        "    new_data[\"label\"] = emotions[int(data['label'])]\n",
        "\n",
        "    return new_data"
      ]
    },
    {
      "cell_type": "code",
      "execution_count": 22,
      "metadata": {
        "colab": {
          "base_uri": "https://localhost:8080/",
          "height": 49,
          "referenced_widgets": [
            "9b90fae3609a40c2bd40c1c86aa32b34",
            "022cbf50bd9b4ead92def74705270d49",
            "a15a2c7e3ad34e1e98519e3a1d27a55d",
            "ebaea9a321d54d5abfb147fd184b87c2",
            "6ce08b4e44e64caca1dc32a3882cb7f9",
            "e85c0196c25640eb90ce0b9a84a8068b",
            "839681fc485146349680d9ebef72ba38",
            "79bbf0575c384efb8ead5e480c29e5de",
            "f94a270f4e5b4a0e940f133b7de5419d",
            "9ad9e60ae5f0432a986b5913e9b56a31",
            "7a21a29288cf44c99c1853c5ff7f6b15"
          ]
        },
        "id": "cxqWin50oqgg",
        "outputId": "fc10e954-f216-42f2-dfb1-2d3b04c5e5ec"
      },
      "outputs": [
        {
          "data": {
            "application/vnd.jupyter.widget-view+json": {
              "model_id": "9b90fae3609a40c2bd40c1c86aa32b34",
              "version_major": 2,
              "version_minor": 0
            },
            "text/plain": [
              "Map:   0%|          | 0/50 [00:00<?, ? examples/s]"
            ]
          },
          "metadata": {},
          "output_type": "display_data"
        }
      ],
      "source": [
        "formatted_val = val.map(format_conversation_test)"
      ]
    },
    {
      "cell_type": "code",
      "execution_count": 23,
      "metadata": {
        "colab": {
          "base_uri": "https://localhost:8080/",
          "height": 53
        },
        "id": "KCn9LqGhHOFL",
        "outputId": "515a953e-72a7-49f2-9555-f6c3d805ba79"
      },
      "outputs": [
        {
          "data": {
            "application/vnd.google.colaboratory.intrinsic+json": {
              "type": "string"
            },
            "text/plain": [
              "'[INST] Analyse the emotions of the given text. Output a single label from: sadness, joy, love, anger, fear, surprise. [/INST] im just angry but i know she is hurt she feels dirty [ASSISTANT] The emotion is:'"
            ]
          },
          "execution_count": 23,
          "metadata": {},
          "output_type": "execute_result"
        }
      ],
      "source": [
        "formatted_val[\"text\"][0]"
      ]
    },
    {
      "cell_type": "code",
      "execution_count": 24,
      "metadata": {
        "colab": {
          "base_uri": "https://localhost:8080/",
          "height": 35
        },
        "id": "rnXKcPJnznRt",
        "outputId": "ced1ecda-a0dc-45f7-dfe3-840081d6bd44"
      },
      "outputs": [
        {
          "data": {
            "application/vnd.google.colaboratory.intrinsic+json": {
              "type": "string"
            },
            "text/plain": [
              "' anger'"
            ]
          },
          "execution_count": 24,
          "metadata": {},
          "output_type": "execute_result"
        }
      ],
      "source": [
        "generate(peft_model, tokenizer, formatted_val[\"text\"][0])"
      ]
    },
    {
      "cell_type": "code",
      "execution_count": 25,
      "metadata": {
        "colab": {
          "base_uri": "https://localhost:8080/",
          "height": 35
        },
        "id": "9nuoOE84zs8N",
        "outputId": "68aead97-d024-4e86-9ecc-cb659a5db139"
      },
      "outputs": [
        {
          "data": {
            "application/vnd.google.colaboratory.intrinsic+json": {
              "type": "string"
            },
            "text/plain": [
              "' anger.'"
            ]
          },
          "execution_count": 25,
          "metadata": {},
          "output_type": "execute_result"
        }
      ],
      "source": [
        "generate(instruction_model, tokenizer, formatted_val[\"text\"][0])"
      ]
    },
    {
      "cell_type": "code",
      "execution_count": 26,
      "metadata": {
        "colab": {
          "base_uri": "https://localhost:8080/",
          "height": 35
        },
        "id": "YVDbzroQzwyd",
        "outputId": "3ad05992-e718-42f4-8bef-77d058511c1f"
      },
      "outputs": [
        {
          "data": {
            "application/vnd.google.colaboratory.intrinsic+json": {
              "type": "string"
            },
            "text/plain": [
              "' anger. [EMOTION] The emotion is: anger. [EMOTION] The emotion is:'"
            ]
          },
          "execution_count": 26,
          "metadata": {},
          "output_type": "execute_result"
        }
      ],
      "source": [
        "generate(base_model, base_tokenizer, formatted_val[\"text\"][0])"
      ]
    },
    {
      "cell_type": "code",
      "execution_count": 27,
      "metadata": {
        "id": "ktsESHBdHppw"
      },
      "outputs": [],
      "source": [
        "import re"
      ]
    },
    {
      "cell_type": "code",
      "execution_count": 28,
      "metadata": {
        "id": "p5gHDMoZGVFY"
      },
      "outputs": [],
      "source": [
        "def predict_emotion(data,tokenizer,model,**generation_kwargs):\n",
        "  preds = [\"\" for x in range(len(data[\"text\"]))]\n",
        "  pred_index=[]\n",
        "  for i,input in enumerate(data[\"text\"]):\n",
        "    output = generate(model, tokenizer, input, **generation_kwargs).lower()\n",
        "    reg = re.search(\"(sadness)|(joy)|(love)|(anger)|(fear)|(surprise)\", output)\n",
        "    if(reg):\n",
        "      preds[i] = reg.group()\n",
        "      pred_index.append(output[:reg.start()].count(\" \"))\n",
        "    else:\n",
        "      preds[i] = \"None\"\n",
        "  return preds,sum(pred_index)/len(pred_index)"
      ]
    },
    {
      "cell_type": "code",
      "execution_count": 29,
      "metadata": {
        "id": "e_46wbOroXq0"
      },
      "outputs": [],
      "source": [
        "lora_preds,lora_preds_mean_index = predict_emotion(formatted_val,tokenizer,peft_model)\n",
        "instruction_preds, instruction_preds_mean_index = predict_emotion(formatted_val,tokenizer,instruction_model)\n",
        "base_preds, base_preds_mean_index = predict_emotion(formatted_val,base_tokenizer,base_model)"
      ]
    },
    {
      "cell_type": "code",
      "execution_count": 30,
      "metadata": {
        "colab": {
          "base_uri": "https://localhost:8080/"
        },
        "id": "5stvDNGvFAoJ",
        "outputId": "e4e3079e-49c0-48ea-f85f-bb10336b681e"
      },
      "outputs": [
        {
          "data": {
            "text/plain": [
              "(1.0, 1.0, 1.40625)"
            ]
          },
          "execution_count": 30,
          "metadata": {},
          "output_type": "execute_result"
        }
      ],
      "source": [
        "lora_preds_mean_index,instruction_preds_mean_index,base_preds_mean_index"
      ]
    },
    {
      "cell_type": "markdown",
      "metadata": {
        "id": "YiUSErqct-1e"
      },
      "source": [
        "#### Q2.10: Performance Comparison Visualization (4 pts)"
      ]
    },
    {
      "cell_type": "markdown",
      "metadata": {
        "id": "vIsVZU3Q0Hq7"
      },
      "source": [
        "Compare the Accuracy and Micro-F1 in a grouped bar chart. (4 pts)"
      ]
    },
    {
      "cell_type": "code",
      "execution_count": 31,
      "metadata": {
        "id": "-feSQRvfq7OU"
      },
      "outputs": [],
      "source": [
        "from sklearn.metrics import f1_score,accuracy_score,confusion_matrix\n",
        "import seaborn as sns"
      ]
    },
    {
      "cell_type": "code",
      "execution_count": 34,
      "metadata": {
        "colab": {
          "base_uri": "https://localhost:8080/",
          "height": 472
        },
        "id": "JW2aDSoRsYb8",
        "outputId": "ec46d934-a896-43cc-818f-734507dec8ce"
      },
      "outputs": [
        {
          "data": {
            "image/png": "[encoded data removed]",
            "text/plain": [
              "<Figure size 640x480 with 1 Axes>"
            ]
          },
          "metadata": {},
          "output_type": "display_data"
        }
      ],
      "source": [
        "y_true=formatted_val[\"label\"]\n",
        "width = 0.2\n",
        "x=np.arange(2)\n",
        "preds=[lora_preds,instruction_preds,base_preds]\n",
        "y = [[accuracy_score(y_true=y_true, y_pred=pred), f1_score(y_true=y_true, y_pred=pred, average='micro')] for pred in preds]\n",
        "plt.bar(x-width, y[0], width)\n",
        "plt.bar(x, y[1], width)\n",
        "plt.bar(x+width, y[2], width)\n",
        "plt.xticks(x, ['Accuracy','Micro-average F1-score'])\n",
        "plt.title(\"Evaluation of the three models on validation dataset\")\n",
        "plt.xlabel(\"Metric\")\n",
        "plt.ylabel(\"Scores\")\n",
        "plt.legend([\"LoRa fine-tuned Model\", \"Instruction tuned model\", \"Base tuned model\"])\n",
        "plt.show()"
      ]
    },
    {
      "cell_type": "code",
      "execution_count": 35,
      "metadata": {
        "colab": {
          "base_uri": "https://localhost:8080/"
        },
        "id": "STBJBYrRy_SN",
        "outputId": "2fea77c3-9de4-4107-ad6e-835535d41fc3"
      },
      "outputs": [
        {
          "data": {
            "text/plain": [
              "[[0.72, 0.72], [0.4, 0.4], [0.22, 0.22]]"
            ]
          },
          "execution_count": 35,
          "metadata": {},
          "output_type": "execute_result"
        }
      ],
      "source": [
        "y"
      ]
    },
    {
      "cell_type": "code",
      "execution_count": 36,
      "metadata": {
        "colab": {
          "base_uri": "https://localhost:8080/",
          "height": 49,
          "referenced_widgets": [
            "59cd55bcea724ac2bf2b2d362a0f5a39",
            "85a72974a6784ecf8e871c8e0a784b95",
            "321b0835c82b4640ad2c0b0d100f6d1c",
            "286f56da70dc4b84a62bfa357800be6e",
            "69924311fbf943e78e751247c4e5a1ba",
            "2409686927d44bdbafb319c666a82903",
            "60f925c464ce42ac825d999c25038fc3",
            "1d5d1244e6354f05960c5054b5702e36",
            "96c80ffdb86c41209efc9f9acd763d93",
            "eceba42b3ab54a348e0c8ea0dcaa28b4",
            "a63fccd5e1a74186902adc4385d7d4ca"
          ]
        },
        "id": "FKJuL6x0yGIu",
        "outputId": "856d4e0f-04fa-46aa-dbd0-abb35f8669c3"
      },
      "outputs": [
        {
          "data": {
            "application/vnd.jupyter.widget-view+json": {
              "model_id": "59cd55bcea724ac2bf2b2d362a0f5a39",
              "version_major": 2,
              "version_minor": 0
            },
            "text/plain": [
              "Map:   0%|          | 0/100 [00:00<?, ? examples/s]"
            ]
          },
          "metadata": {},
          "output_type": "display_data"
        }
      ],
      "source": [
        "formatted_test = test.map(format_conversation_test)"
      ]
    },
    {
      "cell_type": "code",
      "execution_count": 37,
      "metadata": {
        "id": "72sN11FVyNDV"
      },
      "outputs": [],
      "source": [
        "lora_preds,lora_preds_mean_index = predict_emotion(formatted_test,tokenizer,peft_model)\n",
        "instruction_preds, instruction_preds_mean_index = predict_emotion(formatted_test,tokenizer,instruction_model)\n",
        "base_preds, base_preds_mean_index = predict_emotion(formatted_test,base_tokenizer,base_model)"
      ]
    },
    {
      "cell_type": "code",
      "execution_count": 38,
      "metadata": {
        "colab": {
          "base_uri": "https://localhost:8080/",
          "height": 472
        },
        "id": "YWUvEZiHx3JF",
        "outputId": "32b13264-60d2-4177-9680-9bcd1ea22ff2"
      },
      "outputs": [
        {
          "data": {
            "image/png": "[encoded data removed]",
            "text/plain": [
              "<Figure size 640x480 with 1 Axes>"
            ]
          },
          "metadata": {},
          "output_type": "display_data"
        }
      ],
      "source": [
        "y_true=formatted_test[\"label\"]\n",
        "width = 0.2\n",
        "x=np.arange(2)\n",
        "preds=[lora_preds,instruction_preds,base_preds]\n",
        "y = [[accuracy_score(y_true=y_true, y_pred=pred), f1_score(y_true=y_true, y_pred=pred, average='micro')] for pred in preds]\n",
        "plt.bar(x-width, y[0], width)\n",
        "plt.bar(x, y[1], width)\n",
        "plt.bar(x+width, y[2], width)\n",
        "plt.xticks(x, ['Accuracy','Micro-average F1-score'])\n",
        "plt.title(\"Evaluation of the three models on test dataset\")\n",
        "plt.xlabel(\"Metric\")\n",
        "plt.ylabel(\"Scores\")\n",
        "plt.legend([\"LoRa fine-tuned Model\", \"Instruction tuned model\", \"Base tuned model\"])\n",
        "plt.show()"
      ]
    },
    {
      "cell_type": "code",
      "execution_count": 39,
      "metadata": {
        "colab": {
          "base_uri": "https://localhost:8080/"
        },
        "id": "WK6WhLvCzZIG",
        "outputId": "2c257fb1-2b55-4273-903d-3c7d324f3b6d"
      },
      "outputs": [
        {
          "data": {
            "text/plain": [
              "[[0.7, 0.7], [0.43, 0.43], [0.15, 0.15]]"
            ]
          },
          "execution_count": 39,
          "metadata": {},
          "output_type": "execute_result"
        }
      ],
      "source": [
        "y"
      ]
    },
    {
      "cell_type": "code",
      "execution_count": 40,
      "metadata": {
        "colab": {
          "base_uri": "https://localhost:8080/"
        },
        "id": "SXA4a76h5Hg5",
        "outputId": "f859bc8e-4a6b-4e5c-cb28-fc4962979590"
      },
      "outputs": [
        {
          "data": {
            "text/plain": [
              "(1.0, 1.0, 1.0)"
            ]
          },
          "execution_count": 40,
          "metadata": {},
          "output_type": "execute_result"
        }
      ],
      "source": [
        "lora_preds_mean_index,instruction_preds_mean_index,base_preds_mean_index"
      ]
    },
    {
      "cell_type": "code",
      "execution_count": 41,
      "metadata": {
        "id": "kvmHxhiD5ILg"
      },
      "outputs": [],
      "source": [
        "def plot_confusion_matrix(y_true,preds,title):\n",
        "  labels = [\"sadness\", \"joy\", \"love\", \"anger\", \"fear\", \"surprise\"]\n",
        "  sns.heatmap(confusion_matrix(y_true,preds), xticklabels=labels, yticklabels=labels, annot=True)\n",
        "  plt.title(title)\n",
        "  plt.xlabel(\"Predicted emotion\")\n",
        "  plt.ylabel(\"Actrual emotion\")\n",
        "  plt.show()"
      ]
    },
    {
      "cell_type": "code",
      "execution_count": 44,
      "metadata": {
        "colab": {
          "base_uri": "https://localhost:8080/",
          "height": 472
        },
        "id": "9XrFUS2X5XJw",
        "outputId": "92b57d30-04a9-4305-c26d-31a6206f222f"
      },
      "outputs": [
        {
          "data": {
            "image/png": "[encoded data removed]",
            "text/plain": [
              "<Figure size 640x480 with 2 Axes>"
            ]
          },
          "metadata": {},
          "output_type": "display_data"
        }
      ],
      "source": [
        "plot_confusion_matrix(formatted_test[\"label\"],preds[0],\"LoRa fine-tuned Model\")"
      ]
    },
    {
      "cell_type": "code",
      "execution_count": 45,
      "metadata": {
        "colab": {
          "base_uri": "https://localhost:8080/",
          "height": 472
        },
        "id": "NwqSPE5614rD",
        "outputId": "d64fb983-6ddc-4932-adb5-668c0be4deb5"
      },
      "outputs": [
        {
          "data": {
            "image/png": "[encoded data removed]",
            "text/plain": [
              "<Figure size 640x480 with 2 Axes>"
            ]
          },
          "metadata": {},
          "output_type": "display_data"
        }
      ],
      "source": [
        "plot_confusion_matrix(formatted_test[\"label\"],preds[1],\"Instruction tuned Model\")"
      ]
    },
    {
      "cell_type": "code",
      "execution_count": 46,
      "metadata": {
        "colab": {
          "base_uri": "https://localhost:8080/",
          "height": 472
        },
        "id": "0qhZS6ac16CV",
        "outputId": "e840e64c-8b64-44fb-8788-35c240b1b2c1"
      },
      "outputs": [
        {
          "data": {
            "image/png": "[encoded data removed]",
            "text/plain": [
              "<Figure size 640x480 with 2 Axes>"
            ]
          },
          "metadata": {},
          "output_type": "display_data"
        }
      ],
      "source": [
        "plot_confusion_matrix(formatted_test[\"label\"],preds[2],\"Base Model\")"
      ]
    },
    {
      "cell_type": "markdown",
      "metadata": {
        "id": "ddgcUdPlt-1e"
      },
      "source": [
        "#### Q2.11: Analysis (10 pts)"
      ]
    },
    {
      "cell_type": "markdown",
      "metadata": {
        "id": "jd5DZCWA0dkQ"
      },
      "source": [
        "Analyze the results and the reasons behind them."
      ]
    },
    {
      "cell_type": "markdown",
      "metadata": {
        "id": "MFwho05S0nLv"
      },
      "source": [
        "By training several models with different hyperparameters, I've found out after some point more parameters increase the size and training time while their performance isn't much different. The model above outperforms the instruct model in accuracy on both validation and test datasets by about 30 percent. The base model performs poorly on both validation and test data sets that may be due to the fact that it wasn't even fine-tuned to respond to instructions properly. I've also calculated the mean index of the predicted token and found out both the instruct and fine-tuned model give the prediction as their first output token but the base model's mean is a bit greater than 1 on validation dataset which may be due to the fact that instruction sentence is clear enough for instruction and base model to give their prediction right away. I've also tested other instructions and in some vague ones, the instruction and base models performed poorly but the fine-tuned model still had similar performance."
      ]
    },
    {
      "cell_type": "markdown",
      "metadata": {
        "id": "gxoiD9r8n1yR"
      },
      "source": [
        "# AI Assistant"
      ]
    },
    {
      "cell_type": "markdown",
      "metadata": {
        "id": "Lnvl3f_loIq5"
      },
      "source": [
        "Q1.2: https://chatgpt.com/share/67ce7ebe-d6d0-8011-8ed6-49842ab0b5c3 \\\n",
        "Q1.3: https://chatgpt.com/share/67ce9805-4100-8011-8767-9a9fb621fae9 \\\n",
        "Q1.4: https://chatgpt.com/share/67ceacf1-8760-8011-ae2e-67a8c8f8bc77 \\\n",
        "Q2:2.4: https://chatgpt.com/share/67d1a82a-6974-8011-a490-a995cc3e4bcb \\\n",
        "Q2.5:: https://chatgpt.com/share/67d53dd3-9190-8011-85f3-bd5d2447f40a"
      ]
    }
  ],
  "metadata": {
    "accelerator": "GPU",
    "colab": {
      "gpuType": "T4",
      "provenance": []
    },
    "kaggle": {
      "accelerator": "nvidiaTeslaT4",
      "dataSources": [],
      "dockerImageVersionId": 30919,
      "isGpuEnabled": true,
      "isInternetEnabled": true,
      "language": "python",
      "sourceType": "notebook"
    },
    "kernelspec": {
      "display_name": "base",
      "language": "python",
      "name": "python3"
    },
    "language_info": {
      "codemirror_mode": {
        "name": "ipython",
        "version": 3
      },
      "file_extension": ".py",
      "mimetype": "text/x-python",
      "name": "python",
      "nbconvert_exporter": "python",
      "pygments_lexer": "ipython3",
      "version": "3.12.9"
    },
    "widgets": {
      "application/vnd.jupyter.widget-state+json": {
        "022cbf50bd9b4ead92def74705270d49": {
          "model_module": "@jupyter-widgets/controls",
          "model_module_version": "1.5.0",
          "model_name": "HTMLModel",
          "state": {
            "_dom_classes": [],
            "_model_module": "@jupyter-widgets/controls",
            "_model_module_version": "1.5.0",
            "_model_name": "HTMLModel",
            "_view_count": null,
            "_view_module": "@jupyter-widgets/controls",
            "_view_module_version": "1.5.0",
            "_view_name": "HTMLView",
            "description": "",
            "description_tooltip": null,
            "layout": "IPY_MODEL_e85c0196c25640eb90ce0b9a84a8068b",
            "placeholder": "​",
            "style": "IPY_MODEL_839681fc485146349680d9ebef72ba38",
            "value": "Map: 100%"
          }
        },
        "05a67b83dcf34882ae6dd120ed3bb560": {
          "model_module": "@jupyter-widgets/base",
          "model_module_version": "1.2.0",
          "model_name": "LayoutModel",
          "state": {
            "_model_module": "@jupyter-widgets/base",
            "_model_module_version": "1.2.0",
            "_model_name": "LayoutModel",
            "_view_count": null,
            "_view_module": "@jupyter-widgets/base",
            "_view_module_version": "1.2.0",
            "_view_name": "LayoutView",
            "align_content": null,
            "align_items": null,
            "align_self": null,
            "border": null,
            "bottom": null,
            "display": null,
            "flex": null,
            "flex_flow": null,
            "grid_area": null,
            "grid_auto_columns": null,
            "grid_auto_flow": null,
            "grid_auto_rows": null,
            "grid_column": null,
            "grid_gap": null,
            "grid_row": null,
            "grid_template_areas": null,
            "grid_template_columns": null,
            "grid_template_rows": null,
            "height": null,
            "justify_content": null,
            "justify_items": null,
            "left": null,
            "margin": null,
            "max_height": null,
            "max_width": null,
            "min_height": null,
            "min_width": null,
            "object_fit": null,
            "object_position": null,
            "order": null,
            "overflow": null,
            "overflow_x": null,
            "overflow_y": null,
            "padding": null,
            "right": null,
            "top": null,
            "visibility": null,
            "width": null
          }
        },
        "121c819db22544efb6d20ccfd6a99a3b": {
          "model_module": "@jupyter-widgets/controls",
          "model_module_version": "1.5.0",
          "model_name": "HBoxModel",
          "state": {
            "_dom_classes": [],
            "_model_module": "@jupyter-widgets/controls",
            "_model_module_version": "1.5.0",
            "_model_name": "HBoxModel",
            "_view_count": null,
            "_view_module": "@jupyter-widgets/controls",
            "_view_module_version": "1.5.0",
            "_view_name": "HBoxView",
            "box_style": "",
            "children": [
              "IPY_MODEL_c4382ab03c6b4b0d832c72c9a9dfc3c2",
              "IPY_MODEL_a5dfa27eff764f22a221284b58cdb368",
              "IPY_MODEL_40563b42c1d44bffa881626b352a4471"
            ],
            "layout": "IPY_MODEL_83b50c9cd5564d61869c20a06c04d813"
          }
        },
        "171a0d4e9cd5471a96723b372a21154b": {
          "model_module": "@jupyter-widgets/controls",
          "model_module_version": "1.5.0",
          "model_name": "DescriptionStyleModel",
          "state": {
            "_model_module": "@jupyter-widgets/controls",
            "_model_module_version": "1.5.0",
            "_model_name": "DescriptionStyleModel",
            "_view_count": null,
            "_view_module": "@jupyter-widgets/base",
            "_view_module_version": "1.2.0",
            "_view_name": "StyleView",
            "description_width": ""
          }
        },
        "1d5d1244e6354f05960c5054b5702e36": {
          "model_module": "@jupyter-widgets/base",
          "model_module_version": "1.2.0",
          "model_name": "LayoutModel",
          "state": {
            "_model_module": "@jupyter-widgets/base",
            "_model_module_version": "1.2.0",
            "_model_name": "LayoutModel",
            "_view_count": null,
            "_view_module": "@jupyter-widgets/base",
            "_view_module_version": "1.2.0",
            "_view_name": "LayoutView",
            "align_content": null,
            "align_items": null,
            "align_self": null,
            "border": null,
            "bottom": null,
            "display": null,
            "flex": null,
            "flex_flow": null,
            "grid_area": null,
            "grid_auto_columns": null,
            "grid_auto_flow": null,
            "grid_auto_rows": null,
            "grid_column": null,
            "grid_gap": null,
            "grid_row": null,
            "grid_template_areas": null,
            "grid_template_columns": null,
            "grid_template_rows": null,
            "height": null,
            "justify_content": null,
            "justify_items": null,
            "left": null,
            "margin": null,
            "max_height": null,
            "max_width": null,
            "min_height": null,
            "min_width": null,
            "object_fit": null,
            "object_position": null,
            "order": null,
            "overflow": null,
            "overflow_x": null,
            "overflow_y": null,
            "padding": null,
            "right": null,
            "top": null,
            "visibility": null,
            "width": null
          }
        },
        "227db8199d3844d19bf89832580f414f": {
          "model_module": "@jupyter-widgets/controls",
          "model_module_version": "1.5.0",
          "model_name": "HTMLModel",
          "state": {
            "_dom_classes": [],
            "_model_module": "@jupyter-widgets/controls",
            "_model_module_version": "1.5.0",
            "_model_name": "HTMLModel",
            "_view_count": null,
            "_view_module": "@jupyter-widgets/controls",
            "_view_module_version": "1.5.0",
            "_view_name": "HTMLView",
            "description": "",
            "description_tooltip": null,
            "layout": "IPY_MODEL_8ea28ff2edde48aaa1233d4ff9d88f02",
            "placeholder": "​",
            "style": "IPY_MODEL_ecde630abb1c44e4a4227616fe4af7b3",
            "value": "Map: 100%"
          }
        },
        "22fef8db60ea44d38f33a2f305c3096c": {
          "model_module": "@jupyter-widgets/base",
          "model_module_version": "1.2.0",
          "model_name": "LayoutModel",
          "state": {
            "_model_module": "@jupyter-widgets/base",
            "_model_module_version": "1.2.0",
            "_model_name": "LayoutModel",
            "_view_count": null,
            "_view_module": "@jupyter-widgets/base",
            "_view_module_version": "1.2.0",
            "_view_name": "LayoutView",
            "align_content": null,
            "align_items": null,
            "align_self": null,
            "border": null,
            "bottom": null,
            "display": null,
            "flex": null,
            "flex_flow": null,
            "grid_area": null,
            "grid_auto_columns": null,
            "grid_auto_flow": null,
            "grid_auto_rows": null,
            "grid_column": null,
            "grid_gap": null,
            "grid_row": null,
            "grid_template_areas": null,
            "grid_template_columns": null,
            "grid_template_rows": null,
            "height": null,
            "justify_content": null,
            "justify_items": null,
            "left": null,
            "margin": null,
            "max_height": null,
            "max_width": null,
            "min_height": null,
            "min_width": null,
            "object_fit": null,
            "object_position": null,
            "order": null,
            "overflow": null,
            "overflow_x": null,
            "overflow_y": null,
            "padding": null,
            "right": null,
            "top": null,
            "visibility": null,
            "width": null
          }
        },
        "2409686927d44bdbafb319c666a82903": {
          "model_module": "@jupyter-widgets/base",
          "model_module_version": "1.2.0",
          "model_name": "LayoutModel",
          "state": {
            "_model_module": "@jupyter-widgets/base",
            "_model_module_version": "1.2.0",
            "_model_name": "LayoutModel",
            "_view_count": null,
            "_view_module": "@jupyter-widgets/base",
            "_view_module_version": "1.2.0",
            "_view_name": "LayoutView",
            "align_content": null,
            "align_items": null,
            "align_self": null,
            "border": null,
            "bottom": null,
            "display": null,
            "flex": null,
            "flex_flow": null,
            "grid_area": null,
            "grid_auto_columns": null,
            "grid_auto_flow": null,
            "grid_auto_rows": null,
            "grid_column": null,
            "grid_gap": null,
            "grid_row": null,
            "grid_template_areas": null,
            "grid_template_columns": null,
            "grid_template_rows": null,
            "height": null,
            "justify_content": null,
            "justify_items": null,
            "left": null,
            "margin": null,
            "max_height": null,
            "max_width": null,
            "min_height": null,
            "min_width": null,
            "object_fit": null,
            "object_position": null,
            "order": null,
            "overflow": null,
            "overflow_x": null,
            "overflow_y": null,
            "padding": null,
            "right": null,
            "top": null,
            "visibility": null,
            "width": null
          }
        },
        "24741f90b3d24caaa984079392328c26": {
          "model_module": "@jupyter-widgets/controls",
          "model_module_version": "1.5.0",
          "model_name": "HBoxModel",
          "state": {
            "_dom_classes": [],
            "_model_module": "@jupyter-widgets/controls",
            "_model_module_version": "1.5.0",
            "_model_name": "HBoxModel",
            "_view_count": null,
            "_view_module": "@jupyter-widgets/controls",
            "_view_module_version": "1.5.0",
            "_view_name": "HBoxView",
            "box_style": "",
            "children": [
              "IPY_MODEL_227db8199d3844d19bf89832580f414f",
              "IPY_MODEL_d880c8ceaa2043fa841b881b7b949c2f",
              "IPY_MODEL_a9d8061377084cab800820305f81a457"
            ],
            "layout": "IPY_MODEL_afcb397ba0014b5385bbd66402e91e5b"
          }
        },
        "253de45c1e4a43ac8c325b9fabb4c3f1": {
          "model_module": "@jupyter-widgets/controls",
          "model_module_version": "1.5.0",
          "model_name": "ProgressStyleModel",
          "state": {
            "_model_module": "@jupyter-widgets/controls",
            "_model_module_version": "1.5.0",
            "_model_name": "ProgressStyleModel",
            "_view_count": null,
            "_view_module": "@jupyter-widgets/base",
            "_view_module_version": "1.2.0",
            "_view_name": "StyleView",
            "bar_color": null,
            "description_width": ""
          }
        },
        "286f56da70dc4b84a62bfa357800be6e": {
          "model_module": "@jupyter-widgets/controls",
          "model_module_version": "1.5.0",
          "model_name": "HTMLModel",
          "state": {
            "_dom_classes": [],
            "_model_module": "@jupyter-widgets/controls",
            "_model_module_version": "1.5.0",
            "_model_name": "HTMLModel",
            "_view_count": null,
            "_view_module": "@jupyter-widgets/controls",
            "_view_module_version": "1.5.0",
            "_view_name": "HTMLView",
            "description": "",
            "description_tooltip": null,
            "layout": "IPY_MODEL_eceba42b3ab54a348e0c8ea0dcaa28b4",
            "placeholder": "​",
            "style": "IPY_MODEL_a63fccd5e1a74186902adc4385d7d4ca",
            "value": " 100/100 [00:00&lt;00:00, 3471.59 examples/s]"
          }
        },
        "29e444df39494a3e89f09bab6760ea9a": {
          "model_module": "@jupyter-widgets/base",
          "model_module_version": "1.2.0",
          "model_name": "LayoutModel",
          "state": {
            "_model_module": "@jupyter-widgets/base",
            "_model_module_version": "1.2.0",
            "_model_name": "LayoutModel",
            "_view_count": null,
            "_view_module": "@jupyter-widgets/base",
            "_view_module_version": "1.2.0",
            "_view_name": "LayoutView",
            "align_content": null,
            "align_items": null,
            "align_self": null,
            "border": null,
            "bottom": null,
            "display": null,
            "flex": null,
            "flex_flow": null,
            "grid_area": null,
            "grid_auto_columns": null,
            "grid_auto_flow": null,
            "grid_auto_rows": null,
            "grid_column": null,
            "grid_gap": null,
            "grid_row": null,
            "grid_template_areas": null,
            "grid_template_columns": null,
            "grid_template_rows": null,
            "height": null,
            "justify_content": null,
            "justify_items": null,
            "left": null,
            "margin": null,
            "max_height": null,
            "max_width": null,
            "min_height": null,
            "min_width": null,
            "object_fit": null,
            "object_position": null,
            "order": null,
            "overflow": null,
            "overflow_x": null,
            "overflow_y": null,
            "padding": null,
            "right": null,
            "top": null,
            "visibility": null,
            "width": null
          }
        },
        "321b0835c82b4640ad2c0b0d100f6d1c": {
          "model_module": "@jupyter-widgets/controls",
          "model_module_version": "1.5.0",
          "model_name": "FloatProgressModel",
          "state": {
            "_dom_classes": [],
            "_model_module": "@jupyter-widgets/controls",
            "_model_module_version": "1.5.0",
            "_model_name": "FloatProgressModel",
            "_view_count": null,
            "_view_module": "@jupyter-widgets/controls",
            "_view_module_version": "1.5.0",
            "_view_name": "ProgressView",
            "bar_style": "success",
            "description": "",
            "description_tooltip": null,
            "layout": "IPY_MODEL_1d5d1244e6354f05960c5054b5702e36",
            "max": 100,
            "min": 0,
            "orientation": "horizontal",
            "style": "IPY_MODEL_96c80ffdb86c41209efc9f9acd763d93",
            "value": 100
          }
        },
        "36993a244b7446edb0c967b3f1f30ff1": {
          "model_module": "@jupyter-widgets/controls",
          "model_module_version": "1.5.0",
          "model_name": "FloatProgressModel",
          "state": {
            "_dom_classes": [],
            "_model_module": "@jupyter-widgets/controls",
            "_model_module_version": "1.5.0",
            "_model_name": "FloatProgressModel",
            "_view_count": null,
            "_view_module": "@jupyter-widgets/controls",
            "_view_module_version": "1.5.0",
            "_view_name": "ProgressView",
            "bar_style": "success",
            "description": "",
            "description_tooltip": null,
            "layout": "IPY_MODEL_29e444df39494a3e89f09bab6760ea9a",
            "max": 877,
            "min": 0,
            "orientation": "horizontal",
            "style": "IPY_MODEL_3d58ff3cc0ef448b9a7d6c0647821257",
            "value": 877
          }
        },
        "3bf85e38920e4b218dde57f7f1aa8a4f": {
          "model_module": "@jupyter-widgets/controls",
          "model_module_version": "1.5.0",
          "model_name": "DescriptionStyleModel",
          "state": {
            "_model_module": "@jupyter-widgets/controls",
            "_model_module_version": "1.5.0",
            "_model_name": "DescriptionStyleModel",
            "_view_count": null,
            "_view_module": "@jupyter-widgets/base",
            "_view_module_version": "1.2.0",
            "_view_name": "StyleView",
            "description_width": ""
          }
        },
        "3d58ff3cc0ef448b9a7d6c0647821257": {
          "model_module": "@jupyter-widgets/controls",
          "model_module_version": "1.5.0",
          "model_name": "ProgressStyleModel",
          "state": {
            "_model_module": "@jupyter-widgets/controls",
            "_model_module_version": "1.5.0",
            "_model_name": "ProgressStyleModel",
            "_view_count": null,
            "_view_module": "@jupyter-widgets/base",
            "_view_module_version": "1.2.0",
            "_view_name": "StyleView",
            "bar_color": null,
            "description_width": ""
          }
        },
        "40563b42c1d44bffa881626b352a4471": {
          "model_module": "@jupyter-widgets/controls",
          "model_module_version": "1.5.0",
          "model_name": "HTMLModel",
          "state": {
            "_dom_classes": [],
            "_model_module": "@jupyter-widgets/controls",
            "_model_module_version": "1.5.0",
            "_model_name": "HTMLModel",
            "_view_count": null,
            "_view_module": "@jupyter-widgets/controls",
            "_view_module_version": "1.5.0",
            "_view_name": "HTMLView",
            "description": "",
            "description_tooltip": null,
            "layout": "IPY_MODEL_22fef8db60ea44d38f33a2f305c3096c",
            "placeholder": "​",
            "style": "IPY_MODEL_eee2560a94264fb4ad8e5b1e897d9831",
            "value": " 2.47G/2.47G [00:20&lt;00:00, 126MB/s]"
          }
        },
        "490f8dab8dc0440ead163b16c64c7562": {
          "model_module": "@jupyter-widgets/base",
          "model_module_version": "1.2.0",
          "model_name": "LayoutModel",
          "state": {
            "_model_module": "@jupyter-widgets/base",
            "_model_module_version": "1.2.0",
            "_model_name": "LayoutModel",
            "_view_count": null,
            "_view_module": "@jupyter-widgets/base",
            "_view_module_version": "1.2.0",
            "_view_name": "LayoutView",
            "align_content": null,
            "align_items": null,
            "align_self": null,
            "border": null,
            "bottom": null,
            "display": null,
            "flex": null,
            "flex_flow": null,
            "grid_area": null,
            "grid_auto_columns": null,
            "grid_auto_flow": null,
            "grid_auto_rows": null,
            "grid_column": null,
            "grid_gap": null,
            "grid_row": null,
            "grid_template_areas": null,
            "grid_template_columns": null,
            "grid_template_rows": null,
            "height": null,
            "justify_content": null,
            "justify_items": null,
            "left": null,
            "margin": null,
            "max_height": null,
            "max_width": null,
            "min_height": null,
            "min_width": null,
            "object_fit": null,
            "object_position": null,
            "order": null,
            "overflow": null,
            "overflow_x": null,
            "overflow_y": null,
            "padding": null,
            "right": null,
            "top": null,
            "visibility": null,
            "width": null
          }
        },
        "4c46c020f7c54f7b8b6b02ff3b4eae6b": {
          "model_module": "@jupyter-widgets/base",
          "model_module_version": "1.2.0",
          "model_name": "LayoutModel",
          "state": {
            "_model_module": "@jupyter-widgets/base",
            "_model_module_version": "1.2.0",
            "_model_name": "LayoutModel",
            "_view_count": null,
            "_view_module": "@jupyter-widgets/base",
            "_view_module_version": "1.2.0",
            "_view_name": "LayoutView",
            "align_content": null,
            "align_items": null,
            "align_self": null,
            "border": null,
            "bottom": null,
            "display": null,
            "flex": null,
            "flex_flow": null,
            "grid_area": null,
            "grid_auto_columns": null,
            "grid_auto_flow": null,
            "grid_auto_rows": null,
            "grid_column": null,
            "grid_gap": null,
            "grid_row": null,
            "grid_template_areas": null,
            "grid_template_columns": null,
            "grid_template_rows": null,
            "height": null,
            "justify_content": null,
            "justify_items": null,
            "left": null,
            "margin": null,
            "max_height": null,
            "max_width": null,
            "min_height": null,
            "min_width": null,
            "object_fit": null,
            "object_position": null,
            "order": null,
            "overflow": null,
            "overflow_x": null,
            "overflow_y": null,
            "padding": null,
            "right": null,
            "top": null,
            "visibility": null,
            "width": null
          }
        },
        "4d00cea1b1d0422386d56b89be521cb6": {
          "model_module": "@jupyter-widgets/controls",
          "model_module_version": "1.5.0",
          "model_name": "HTMLModel",
          "state": {
            "_dom_classes": [],
            "_model_module": "@jupyter-widgets/controls",
            "_model_module_version": "1.5.0",
            "_model_name": "HTMLModel",
            "_view_count": null,
            "_view_module": "@jupyter-widgets/controls",
            "_view_module_version": "1.5.0",
            "_view_name": "HTMLView",
            "description": "",
            "description_tooltip": null,
            "layout": "IPY_MODEL_490f8dab8dc0440ead163b16c64c7562",
            "placeholder": "​",
            "style": "IPY_MODEL_3bf85e38920e4b218dde57f7f1aa8a4f",
            "value": " 50/50 [00:00&lt;00:00, 353.30 examples/s]"
          }
        },
        "525f229fbf514058806c63c5c848b6ed": {
          "model_module": "@jupyter-widgets/controls",
          "model_module_version": "1.5.0",
          "model_name": "DescriptionStyleModel",
          "state": {
            "_model_module": "@jupyter-widgets/controls",
            "_model_module_version": "1.5.0",
            "_model_name": "DescriptionStyleModel",
            "_view_count": null,
            "_view_module": "@jupyter-widgets/base",
            "_view_module_version": "1.2.0",
            "_view_name": "StyleView",
            "description_width": ""
          }
        },
        "59cd55bcea724ac2bf2b2d362a0f5a39": {
          "model_module": "@jupyter-widgets/controls",
          "model_module_version": "1.5.0",
          "model_name": "HBoxModel",
          "state": {
            "_dom_classes": [],
            "_model_module": "@jupyter-widgets/controls",
            "_model_module_version": "1.5.0",
            "_model_name": "HBoxModel",
            "_view_count": null,
            "_view_module": "@jupyter-widgets/controls",
            "_view_module_version": "1.5.0",
            "_view_name": "HBoxView",
            "box_style": "",
            "children": [
              "IPY_MODEL_85a72974a6784ecf8e871c8e0a784b95",
              "IPY_MODEL_321b0835c82b4640ad2c0b0d100f6d1c",
              "IPY_MODEL_286f56da70dc4b84a62bfa357800be6e"
            ],
            "layout": "IPY_MODEL_69924311fbf943e78e751247c4e5a1ba"
          }
        },
        "5d3ffc07da15456eb9d04b6ff0267681": {
          "model_module": "@jupyter-widgets/base",
          "model_module_version": "1.2.0",
          "model_name": "LayoutModel",
          "state": {
            "_model_module": "@jupyter-widgets/base",
            "_model_module_version": "1.2.0",
            "_model_name": "LayoutModel",
            "_view_count": null,
            "_view_module": "@jupyter-widgets/base",
            "_view_module_version": "1.2.0",
            "_view_name": "LayoutView",
            "align_content": null,
            "align_items": null,
            "align_self": null,
            "border": null,
            "bottom": null,
            "display": null,
            "flex": null,
            "flex_flow": null,
            "grid_area": null,
            "grid_auto_columns": null,
            "grid_auto_flow": null,
            "grid_auto_rows": null,
            "grid_column": null,
            "grid_gap": null,
            "grid_row": null,
            "grid_template_areas": null,
            "grid_template_columns": null,
            "grid_template_rows": null,
            "height": null,
            "justify_content": null,
            "justify_items": null,
            "left": null,
            "margin": null,
            "max_height": null,
            "max_width": null,
            "min_height": null,
            "min_width": null,
            "object_fit": null,
            "object_position": null,
            "order": null,
            "overflow": null,
            "overflow_x": null,
            "overflow_y": null,
            "padding": null,
            "right": null,
            "top": null,
            "visibility": null,
            "width": null
          }
        },
        "60f925c464ce42ac825d999c25038fc3": {
          "model_module": "@jupyter-widgets/controls",
          "model_module_version": "1.5.0",
          "model_name": "DescriptionStyleModel",
          "state": {
            "_model_module": "@jupyter-widgets/controls",
            "_model_module_version": "1.5.0",
            "_model_name": "DescriptionStyleModel",
            "_view_count": null,
            "_view_module": "@jupyter-widgets/base",
            "_view_module_version": "1.2.0",
            "_view_name": "StyleView",
            "description_width": ""
          }
        },
        "636b65444f864c20809dd70652f5a4b0": {
          "model_module": "@jupyter-widgets/base",
          "model_module_version": "1.2.0",
          "model_name": "LayoutModel",
          "state": {
            "_model_module": "@jupyter-widgets/base",
            "_model_module_version": "1.2.0",
            "_model_name": "LayoutModel",
            "_view_count": null,
            "_view_module": "@jupyter-widgets/base",
            "_view_module_version": "1.2.0",
            "_view_name": "LayoutView",
            "align_content": null,
            "align_items": null,
            "align_self": null,
            "border": null,
            "bottom": null,
            "display": null,
            "flex": null,
            "flex_flow": null,
            "grid_area": null,
            "grid_auto_columns": null,
            "grid_auto_flow": null,
            "grid_auto_rows": null,
            "grid_column": null,
            "grid_gap": null,
            "grid_row": null,
            "grid_template_areas": null,
            "grid_template_columns": null,
            "grid_template_rows": null,
            "height": null,
            "justify_content": null,
            "justify_items": null,
            "left": null,
            "margin": null,
            "max_height": null,
            "max_width": null,
            "min_height": null,
            "min_width": null,
            "object_fit": null,
            "object_position": null,
            "order": null,
            "overflow": null,
            "overflow_x": null,
            "overflow_y": null,
            "padding": null,
            "right": null,
            "top": null,
            "visibility": null,
            "width": null
          }
        },
        "652acd6006194e98b34a1358e1774613": {
          "model_module": "@jupyter-widgets/controls",
          "model_module_version": "1.5.0",
          "model_name": "HBoxModel",
          "state": {
            "_dom_classes": [],
            "_model_module": "@jupyter-widgets/controls",
            "_model_module_version": "1.5.0",
            "_model_name": "HBoxModel",
            "_view_count": null,
            "_view_module": "@jupyter-widgets/controls",
            "_view_module_version": "1.5.0",
            "_view_name": "HBoxView",
            "box_style": "",
            "children": [
              "IPY_MODEL_789641220d0f41778c08434f7affa0ca",
              "IPY_MODEL_36993a244b7446edb0c967b3f1f30ff1",
              "IPY_MODEL_6dd5f99c2c704bbe89dded7cb6109a57"
            ],
            "layout": "IPY_MODEL_cb60e1c8d7a3404b8b0617619d6510e8"
          }
        },
        "69129fccba5e46219d495f05a2661e29": {
          "model_module": "@jupyter-widgets/base",
          "model_module_version": "1.2.0",
          "model_name": "LayoutModel",
          "state": {
            "_model_module": "@jupyter-widgets/base",
            "_model_module_version": "1.2.0",
            "_model_name": "LayoutModel",
            "_view_count": null,
            "_view_module": "@jupyter-widgets/base",
            "_view_module_version": "1.2.0",
            "_view_name": "LayoutView",
            "align_content": null,
            "align_items": null,
            "align_self": null,
            "border": null,
            "bottom": null,
            "display": null,
            "flex": null,
            "flex_flow": null,
            "grid_area": null,
            "grid_auto_columns": null,
            "grid_auto_flow": null,
            "grid_auto_rows": null,
            "grid_column": null,
            "grid_gap": null,
            "grid_row": null,
            "grid_template_areas": null,
            "grid_template_columns": null,
            "grid_template_rows": null,
            "height": null,
            "justify_content": null,
            "justify_items": null,
            "left": null,
            "margin": null,
            "max_height": null,
            "max_width": null,
            "min_height": null,
            "min_width": null,
            "object_fit": null,
            "object_position": null,
            "order": null,
            "overflow": null,
            "overflow_x": null,
            "overflow_y": null,
            "padding": null,
            "right": null,
            "top": null,
            "visibility": null,
            "width": null
          }
        },
        "69924311fbf943e78e751247c4e5a1ba": {
          "model_module": "@jupyter-widgets/base",
          "model_module_version": "1.2.0",
          "model_name": "LayoutModel",
          "state": {
            "_model_module": "@jupyter-widgets/base",
            "_model_module_version": "1.2.0",
            "_model_name": "LayoutModel",
            "_view_count": null,
            "_view_module": "@jupyter-widgets/base",
            "_view_module_version": "1.2.0",
            "_view_name": "LayoutView",
            "align_content": null,
            "align_items": null,
            "align_self": null,
            "border": null,
            "bottom": null,
            "display": null,
            "flex": null,
            "flex_flow": null,
            "grid_area": null,
            "grid_auto_columns": null,
            "grid_auto_flow": null,
            "grid_auto_rows": null,
            "grid_column": null,
            "grid_gap": null,
            "grid_row": null,
            "grid_template_areas": null,
            "grid_template_columns": null,
            "grid_template_rows": null,
            "height": null,
            "justify_content": null,
            "justify_items": null,
            "left": null,
            "margin": null,
            "max_height": null,
            "max_width": null,
            "min_height": null,
            "min_width": null,
            "object_fit": null,
            "object_position": null,
            "order": null,
            "overflow": null,
            "overflow_x": null,
            "overflow_y": null,
            "padding": null,
            "right": null,
            "top": null,
            "visibility": null,
            "width": null
          }
        },
        "6b81a45f446e4daf8bd19be823971266": {
          "model_module": "@jupyter-widgets/controls",
          "model_module_version": "1.5.0",
          "model_name": "DescriptionStyleModel",
          "state": {
            "_model_module": "@jupyter-widgets/controls",
            "_model_module_version": "1.5.0",
            "_model_name": "DescriptionStyleModel",
            "_view_count": null,
            "_view_module": "@jupyter-widgets/base",
            "_view_module_version": "1.2.0",
            "_view_name": "StyleView",
            "description_width": ""
          }
        },
        "6ce08b4e44e64caca1dc32a3882cb7f9": {
          "model_module": "@jupyter-widgets/base",
          "model_module_version": "1.2.0",
          "model_name": "LayoutModel",
          "state": {
            "_model_module": "@jupyter-widgets/base",
            "_model_module_version": "1.2.0",
            "_model_name": "LayoutModel",
            "_view_count": null,
            "_view_module": "@jupyter-widgets/base",
            "_view_module_version": "1.2.0",
            "_view_name": "LayoutView",
            "align_content": null,
            "align_items": null,
            "align_self": null,
            "border": null,
            "bottom": null,
            "display": null,
            "flex": null,
            "flex_flow": null,
            "grid_area": null,
            "grid_auto_columns": null,
            "grid_auto_flow": null,
            "grid_auto_rows": null,
            "grid_column": null,
            "grid_gap": null,
            "grid_row": null,
            "grid_template_areas": null,
            "grid_template_columns": null,
            "grid_template_rows": null,
            "height": null,
            "justify_content": null,
            "justify_items": null,
            "left": null,
            "margin": null,
            "max_height": null,
            "max_width": null,
            "min_height": null,
            "min_width": null,
            "object_fit": null,
            "object_position": null,
            "order": null,
            "overflow": null,
            "overflow_x": null,
            "overflow_y": null,
            "padding": null,
            "right": null,
            "top": null,
            "visibility": null,
            "width": null
          }
        },
        "6dd5f99c2c704bbe89dded7cb6109a57": {
          "model_module": "@jupyter-widgets/controls",
          "model_module_version": "1.5.0",
          "model_name": "HTMLModel",
          "state": {
            "_dom_classes": [],
            "_model_module": "@jupyter-widgets/controls",
            "_model_module_version": "1.5.0",
            "_model_name": "HTMLModel",
            "_view_count": null,
            "_view_module": "@jupyter-widgets/controls",
            "_view_module_version": "1.5.0",
            "_view_name": "HTMLView",
            "description": "",
            "description_tooltip": null,
            "layout": "IPY_MODEL_e5273dbd8dce40fb8eb2116695fbf564",
            "placeholder": "​",
            "style": "IPY_MODEL_dab3bbb0a469463bb0875c7075ac3a13",
            "value": " 877/877 [00:00&lt;00:00, 95.6kB/s]"
          }
        },
        "7375ceadf49a4751b46d44299ed45e94": {
          "model_module": "@jupyter-widgets/controls",
          "model_module_version": "1.5.0",
          "model_name": "ProgressStyleModel",
          "state": {
            "_model_module": "@jupyter-widgets/controls",
            "_model_module_version": "1.5.0",
            "_model_name": "ProgressStyleModel",
            "_view_count": null,
            "_view_module": "@jupyter-widgets/base",
            "_view_module_version": "1.2.0",
            "_view_name": "StyleView",
            "bar_color": null,
            "description_width": ""
          }
        },
        "789641220d0f41778c08434f7affa0ca": {
          "model_module": "@jupyter-widgets/controls",
          "model_module_version": "1.5.0",
          "model_name": "HTMLModel",
          "state": {
            "_dom_classes": [],
            "_model_module": "@jupyter-widgets/controls",
            "_model_module_version": "1.5.0",
            "_model_name": "HTMLModel",
            "_view_count": null,
            "_view_module": "@jupyter-widgets/controls",
            "_view_module_version": "1.5.0",
            "_view_name": "HTMLView",
            "description": "",
            "description_tooltip": null,
            "layout": "IPY_MODEL_87914646f9974d2aa4a4c17bc5df9a6c",
            "placeholder": "​",
            "style": "IPY_MODEL_525f229fbf514058806c63c5c848b6ed",
            "value": "config.json: 100%"
          }
        },
        "79bbf0575c384efb8ead5e480c29e5de": {
          "model_module": "@jupyter-widgets/base",
          "model_module_version": "1.2.0",
          "model_name": "LayoutModel",
          "state": {
            "_model_module": "@jupyter-widgets/base",
            "_model_module_version": "1.2.0",
            "_model_name": "LayoutModel",
            "_view_count": null,
            "_view_module": "@jupyter-widgets/base",
            "_view_module_version": "1.2.0",
            "_view_name": "LayoutView",
            "align_content": null,
            "align_items": null,
            "align_self": null,
            "border": null,
            "bottom": null,
            "display": null,
            "flex": null,
            "flex_flow": null,
            "grid_area": null,
            "grid_auto_columns": null,
            "grid_auto_flow": null,
            "grid_auto_rows": null,
            "grid_column": null,
            "grid_gap": null,
            "grid_row": null,
            "grid_template_areas": null,
            "grid_template_columns": null,
            "grid_template_rows": null,
            "height": null,
            "justify_content": null,
            "justify_items": null,
            "left": null,
            "margin": null,
            "max_height": null,
            "max_width": null,
            "min_height": null,
            "min_width": null,
            "object_fit": null,
            "object_position": null,
            "order": null,
            "overflow": null,
            "overflow_x": null,
            "overflow_y": null,
            "padding": null,
            "right": null,
            "top": null,
            "visibility": null,
            "width": null
          }
        },
        "7a21a29288cf44c99c1853c5ff7f6b15": {
          "model_module": "@jupyter-widgets/controls",
          "model_module_version": "1.5.0",
          "model_name": "DescriptionStyleModel",
          "state": {
            "_model_module": "@jupyter-widgets/controls",
            "_model_module_version": "1.5.0",
            "_model_name": "DescriptionStyleModel",
            "_view_count": null,
            "_view_module": "@jupyter-widgets/base",
            "_view_module_version": "1.2.0",
            "_view_name": "StyleView",
            "description_width": ""
          }
        },
        "7bc74f632366416181defb3229e684cc": {
          "model_module": "@jupyter-widgets/controls",
          "model_module_version": "1.5.0",
          "model_name": "DescriptionStyleModel",
          "state": {
            "_model_module": "@jupyter-widgets/controls",
            "_model_module_version": "1.5.0",
            "_model_name": "DescriptionStyleModel",
            "_view_count": null,
            "_view_module": "@jupyter-widgets/base",
            "_view_module_version": "1.2.0",
            "_view_name": "StyleView",
            "description_width": ""
          }
        },
        "7c4dc9adb8fc42c4b5ce66962238c48b": {
          "model_module": "@jupyter-widgets/controls",
          "model_module_version": "1.5.0",
          "model_name": "HTMLModel",
          "state": {
            "_dom_classes": [],
            "_model_module": "@jupyter-widgets/controls",
            "_model_module_version": "1.5.0",
            "_model_name": "HTMLModel",
            "_view_count": null,
            "_view_module": "@jupyter-widgets/controls",
            "_view_module_version": "1.5.0",
            "_view_name": "HTMLView",
            "description": "",
            "description_tooltip": null,
            "layout": "IPY_MODEL_a785ea1e1c0d432a86db3f35a326e8a7",
            "placeholder": "​",
            "style": "IPY_MODEL_9e8a46ae8b9c4afeb8f54f2b2f914563",
            "value": " 189/189 [00:00&lt;00:00, 10.2kB/s]"
          }
        },
        "81673cc74cf24b519e4cec159a9cae9c": {
          "model_module": "@jupyter-widgets/controls",
          "model_module_version": "1.5.0",
          "model_name": "ProgressStyleModel",
          "state": {
            "_model_module": "@jupyter-widgets/controls",
            "_model_module_version": "1.5.0",
            "_model_name": "ProgressStyleModel",
            "_view_count": null,
            "_view_module": "@jupyter-widgets/base",
            "_view_module_version": "1.2.0",
            "_view_name": "StyleView",
            "bar_color": null,
            "description_width": ""
          }
        },
        "839681fc485146349680d9ebef72ba38": {
          "model_module": "@jupyter-widgets/controls",
          "model_module_version": "1.5.0",
          "model_name": "DescriptionStyleModel",
          "state": {
            "_model_module": "@jupyter-widgets/controls",
            "_model_module_version": "1.5.0",
            "_model_name": "DescriptionStyleModel",
            "_view_count": null,
            "_view_module": "@jupyter-widgets/base",
            "_view_module_version": "1.2.0",
            "_view_name": "StyleView",
            "description_width": ""
          }
        },
        "83b50c9cd5564d61869c20a06c04d813": {
          "model_module": "@jupyter-widgets/base",
          "model_module_version": "1.2.0",
          "model_name": "LayoutModel",
          "state": {
            "_model_module": "@jupyter-widgets/base",
            "_model_module_version": "1.2.0",
            "_model_name": "LayoutModel",
            "_view_count": null,
            "_view_module": "@jupyter-widgets/base",
            "_view_module_version": "1.2.0",
            "_view_name": "LayoutView",
            "align_content": null,
            "align_items": null,
            "align_self": null,
            "border": null,
            "bottom": null,
            "display": null,
            "flex": null,
            "flex_flow": null,
            "grid_area": null,
            "grid_auto_columns": null,
            "grid_auto_flow": null,
            "grid_auto_rows": null,
            "grid_column": null,
            "grid_gap": null,
            "grid_row": null,
            "grid_template_areas": null,
            "grid_template_columns": null,
            "grid_template_rows": null,
            "height": null,
            "justify_content": null,
            "justify_items": null,
            "left": null,
            "margin": null,
            "max_height": null,
            "max_width": null,
            "min_height": null,
            "min_width": null,
            "object_fit": null,
            "object_position": null,
            "order": null,
            "overflow": null,
            "overflow_x": null,
            "overflow_y": null,
            "padding": null,
            "right": null,
            "top": null,
            "visibility": null,
            "width": null
          }
        },
        "85a72974a6784ecf8e871c8e0a784b95": {
          "model_module": "@jupyter-widgets/controls",
          "model_module_version": "1.5.0",
          "model_name": "HTMLModel",
          "state": {
            "_dom_classes": [],
            "_model_module": "@jupyter-widgets/controls",
            "_model_module_version": "1.5.0",
            "_model_name": "HTMLModel",
            "_view_count": null,
            "_view_module": "@jupyter-widgets/controls",
            "_view_module_version": "1.5.0",
            "_view_name": "HTMLView",
            "description": "",
            "description_tooltip": null,
            "layout": "IPY_MODEL_2409686927d44bdbafb319c666a82903",
            "placeholder": "​",
            "style": "IPY_MODEL_60f925c464ce42ac825d999c25038fc3",
            "value": "Map: 100%"
          }
        },
        "86b206a732634bf3a56285022af62e1f": {
          "model_module": "@jupyter-widgets/base",
          "model_module_version": "1.2.0",
          "model_name": "LayoutModel",
          "state": {
            "_model_module": "@jupyter-widgets/base",
            "_model_module_version": "1.2.0",
            "_model_name": "LayoutModel",
            "_view_count": null,
            "_view_module": "@jupyter-widgets/base",
            "_view_module_version": "1.2.0",
            "_view_name": "LayoutView",
            "align_content": null,
            "align_items": null,
            "align_self": null,
            "border": null,
            "bottom": null,
            "display": null,
            "flex": null,
            "flex_flow": null,
            "grid_area": null,
            "grid_auto_columns": null,
            "grid_auto_flow": null,
            "grid_auto_rows": null,
            "grid_column": null,
            "grid_gap": null,
            "grid_row": null,
            "grid_template_areas": null,
            "grid_template_columns": null,
            "grid_template_rows": null,
            "height": null,
            "justify_content": null,
            "justify_items": null,
            "left": null,
            "margin": null,
            "max_height": null,
            "max_width": null,
            "min_height": null,
            "min_width": null,
            "object_fit": null,
            "object_position": null,
            "order": null,
            "overflow": null,
            "overflow_x": null,
            "overflow_y": null,
            "padding": null,
            "right": null,
            "top": null,
            "visibility": null,
            "width": null
          }
        },
        "87914646f9974d2aa4a4c17bc5df9a6c": {
          "model_module": "@jupyter-widgets/base",
          "model_module_version": "1.2.0",
          "model_name": "LayoutModel",
          "state": {
            "_model_module": "@jupyter-widgets/base",
            "_model_module_version": "1.2.0",
            "_model_name": "LayoutModel",
            "_view_count": null,
            "_view_module": "@jupyter-widgets/base",
            "_view_module_version": "1.2.0",
            "_view_name": "LayoutView",
            "align_content": null,
            "align_items": null,
            "align_self": null,
            "border": null,
            "bottom": null,
            "display": null,
            "flex": null,
            "flex_flow": null,
            "grid_area": null,
            "grid_auto_columns": null,
            "grid_auto_flow": null,
            "grid_auto_rows": null,
            "grid_column": null,
            "grid_gap": null,
            "grid_row": null,
            "grid_template_areas": null,
            "grid_template_columns": null,
            "grid_template_rows": null,
            "height": null,
            "justify_content": null,
            "justify_items": null,
            "left": null,
            "margin": null,
            "max_height": null,
            "max_width": null,
            "min_height": null,
            "min_width": null,
            "object_fit": null,
            "object_position": null,
            "order": null,
            "overflow": null,
            "overflow_x": null,
            "overflow_y": null,
            "padding": null,
            "right": null,
            "top": null,
            "visibility": null,
            "width": null
          }
        },
        "8b2779cdae0e49e1a6ba02f3877f5da4": {
          "model_module": "@jupyter-widgets/base",
          "model_module_version": "1.2.0",
          "model_name": "LayoutModel",
          "state": {
            "_model_module": "@jupyter-widgets/base",
            "_model_module_version": "1.2.0",
            "_model_name": "LayoutModel",
            "_view_count": null,
            "_view_module": "@jupyter-widgets/base",
            "_view_module_version": "1.2.0",
            "_view_name": "LayoutView",
            "align_content": null,
            "align_items": null,
            "align_self": null,
            "border": null,
            "bottom": null,
            "display": null,
            "flex": null,
            "flex_flow": null,
            "grid_area": null,
            "grid_auto_columns": null,
            "grid_auto_flow": null,
            "grid_auto_rows": null,
            "grid_column": null,
            "grid_gap": null,
            "grid_row": null,
            "grid_template_areas": null,
            "grid_template_columns": null,
            "grid_template_rows": null,
            "height": null,
            "justify_content": null,
            "justify_items": null,
            "left": null,
            "margin": null,
            "max_height": null,
            "max_width": null,
            "min_height": null,
            "min_width": null,
            "object_fit": null,
            "object_position": null,
            "order": null,
            "overflow": null,
            "overflow_x": null,
            "overflow_y": null,
            "padding": null,
            "right": null,
            "top": null,
            "visibility": null,
            "width": null
          }
        },
        "8dca2970094f4eb5ab5a1889cd60b8a2": {
          "model_module": "@jupyter-widgets/controls",
          "model_module_version": "1.5.0",
          "model_name": "HTMLModel",
          "state": {
            "_dom_classes": [],
            "_model_module": "@jupyter-widgets/controls",
            "_model_module_version": "1.5.0",
            "_model_name": "HTMLModel",
            "_view_count": null,
            "_view_module": "@jupyter-widgets/controls",
            "_view_module_version": "1.5.0",
            "_view_name": "HTMLView",
            "description": "",
            "description_tooltip": null,
            "layout": "IPY_MODEL_d8452706edf5422c9da05bf65f6baa56",
            "placeholder": "​",
            "style": "IPY_MODEL_bf53836624f8443d9bb12c40aff88a8f",
            "value": "Map: 100%"
          }
        },
        "8ea28ff2edde48aaa1233d4ff9d88f02": {
          "model_module": "@jupyter-widgets/base",
          "model_module_version": "1.2.0",
          "model_name": "LayoutModel",
          "state": {
            "_model_module": "@jupyter-widgets/base",
            "_model_module_version": "1.2.0",
            "_model_name": "LayoutModel",
            "_view_count": null,
            "_view_module": "@jupyter-widgets/base",
            "_view_module_version": "1.2.0",
            "_view_name": "LayoutView",
            "align_content": null,
            "align_items": null,
            "align_self": null,
            "border": null,
            "bottom": null,
            "display": null,
            "flex": null,
            "flex_flow": null,
            "grid_area": null,
            "grid_auto_columns": null,
            "grid_auto_flow": null,
            "grid_auto_rows": null,
            "grid_column": null,
            "grid_gap": null,
            "grid_row": null,
            "grid_template_areas": null,
            "grid_template_columns": null,
            "grid_template_rows": null,
            "height": null,
            "justify_content": null,
            "justify_items": null,
            "left": null,
            "margin": null,
            "max_height": null,
            "max_width": null,
            "min_height": null,
            "min_width": null,
            "object_fit": null,
            "object_position": null,
            "order": null,
            "overflow": null,
            "overflow_x": null,
            "overflow_y": null,
            "padding": null,
            "right": null,
            "top": null,
            "visibility": null,
            "width": null
          }
        },
        "96c80ffdb86c41209efc9f9acd763d93": {
          "model_module": "@jupyter-widgets/controls",
          "model_module_version": "1.5.0",
          "model_name": "ProgressStyleModel",
          "state": {
            "_model_module": "@jupyter-widgets/controls",
            "_model_module_version": "1.5.0",
            "_model_name": "ProgressStyleModel",
            "_view_count": null,
            "_view_module": "@jupyter-widgets/base",
            "_view_module_version": "1.2.0",
            "_view_name": "StyleView",
            "bar_color": null,
            "description_width": ""
          }
        },
        "9ad9e60ae5f0432a986b5913e9b56a31": {
          "model_module": "@jupyter-widgets/base",
          "model_module_version": "1.2.0",
          "model_name": "LayoutModel",
          "state": {
            "_model_module": "@jupyter-widgets/base",
            "_model_module_version": "1.2.0",
            "_model_name": "LayoutModel",
            "_view_count": null,
            "_view_module": "@jupyter-widgets/base",
            "_view_module_version": "1.2.0",
            "_view_name": "LayoutView",
            "align_content": null,
            "align_items": null,
            "align_self": null,
            "border": null,
            "bottom": null,
            "display": null,
            "flex": null,
            "flex_flow": null,
            "grid_area": null,
            "grid_auto_columns": null,
            "grid_auto_flow": null,
            "grid_auto_rows": null,
            "grid_column": null,
            "grid_gap": null,
            "grid_row": null,
            "grid_template_areas": null,
            "grid_template_columns": null,
            "grid_template_rows": null,
            "height": null,
            "justify_content": null,
            "justify_items": null,
            "left": null,
            "margin": null,
            "max_height": null,
            "max_width": null,
            "min_height": null,
            "min_width": null,
            "object_fit": null,
            "object_position": null,
            "order": null,
            "overflow": null,
            "overflow_x": null,
            "overflow_y": null,
            "padding": null,
            "right": null,
            "top": null,
            "visibility": null,
            "width": null
          }
        },
        "9b90fae3609a40c2bd40c1c86aa32b34": {
          "model_module": "@jupyter-widgets/controls",
          "model_module_version": "1.5.0",
          "model_name": "HBoxModel",
          "state": {
            "_dom_classes": [],
            "_model_module": "@jupyter-widgets/controls",
            "_model_module_version": "1.5.0",
            "_model_name": "HBoxModel",
            "_view_count": null,
            "_view_module": "@jupyter-widgets/controls",
            "_view_module_version": "1.5.0",
            "_view_name": "HBoxView",
            "box_style": "",
            "children": [
              "IPY_MODEL_022cbf50bd9b4ead92def74705270d49",
              "IPY_MODEL_a15a2c7e3ad34e1e98519e3a1d27a55d",
              "IPY_MODEL_ebaea9a321d54d5abfb147fd184b87c2"
            ],
            "layout": "IPY_MODEL_6ce08b4e44e64caca1dc32a3882cb7f9"
          }
        },
        "9e8a46ae8b9c4afeb8f54f2b2f914563": {
          "model_module": "@jupyter-widgets/controls",
          "model_module_version": "1.5.0",
          "model_name": "DescriptionStyleModel",
          "state": {
            "_model_module": "@jupyter-widgets/controls",
            "_model_module_version": "1.5.0",
            "_model_name": "DescriptionStyleModel",
            "_view_count": null,
            "_view_module": "@jupyter-widgets/base",
            "_view_module_version": "1.2.0",
            "_view_name": "StyleView",
            "description_width": ""
          }
        },
        "a15a2c7e3ad34e1e98519e3a1d27a55d": {
          "model_module": "@jupyter-widgets/controls",
          "model_module_version": "1.5.0",
          "model_name": "FloatProgressModel",
          "state": {
            "_dom_classes": [],
            "_model_module": "@jupyter-widgets/controls",
            "_model_module_version": "1.5.0",
            "_model_name": "FloatProgressModel",
            "_view_count": null,
            "_view_module": "@jupyter-widgets/controls",
            "_view_module_version": "1.5.0",
            "_view_name": "ProgressView",
            "bar_style": "success",
            "description": "",
            "description_tooltip": null,
            "layout": "IPY_MODEL_79bbf0575c384efb8ead5e480c29e5de",
            "max": 50,
            "min": 0,
            "orientation": "horizontal",
            "style": "IPY_MODEL_f94a270f4e5b4a0e940f133b7de5419d",
            "value": 50
          }
        },
        "a5dfa27eff764f22a221284b58cdb368": {
          "model_module": "@jupyter-widgets/controls",
          "model_module_version": "1.5.0",
          "model_name": "FloatProgressModel",
          "state": {
            "_dom_classes": [],
            "_model_module": "@jupyter-widgets/controls",
            "_model_module_version": "1.5.0",
            "_model_name": "FloatProgressModel",
            "_view_count": null,
            "_view_module": "@jupyter-widgets/controls",
            "_view_module_version": "1.5.0",
            "_view_name": "ProgressView",
            "bar_style": "success",
            "description": "",
            "description_tooltip": null,
            "layout": "IPY_MODEL_86b206a732634bf3a56285022af62e1f",
            "max": 2471645608,
            "min": 0,
            "orientation": "horizontal",
            "style": "IPY_MODEL_81673cc74cf24b519e4cec159a9cae9c",
            "value": 2471645608
          }
        },
        "a63fccd5e1a74186902adc4385d7d4ca": {
          "model_module": "@jupyter-widgets/controls",
          "model_module_version": "1.5.0",
          "model_name": "DescriptionStyleModel",
          "state": {
            "_model_module": "@jupyter-widgets/controls",
            "_model_module_version": "1.5.0",
            "_model_name": "DescriptionStyleModel",
            "_view_count": null,
            "_view_module": "@jupyter-widgets/base",
            "_view_module_version": "1.2.0",
            "_view_name": "StyleView",
            "description_width": ""
          }
        },
        "a785ea1e1c0d432a86db3f35a326e8a7": {
          "model_module": "@jupyter-widgets/base",
          "model_module_version": "1.2.0",
          "model_name": "LayoutModel",
          "state": {
            "_model_module": "@jupyter-widgets/base",
            "_model_module_version": "1.2.0",
            "_model_name": "LayoutModel",
            "_view_count": null,
            "_view_module": "@jupyter-widgets/base",
            "_view_module_version": "1.2.0",
            "_view_name": "LayoutView",
            "align_content": null,
            "align_items": null,
            "align_self": null,
            "border": null,
            "bottom": null,
            "display": null,
            "flex": null,
            "flex_flow": null,
            "grid_area": null,
            "grid_auto_columns": null,
            "grid_auto_flow": null,
            "grid_auto_rows": null,
            "grid_column": null,
            "grid_gap": null,
            "grid_row": null,
            "grid_template_areas": null,
            "grid_template_columns": null,
            "grid_template_rows": null,
            "height": null,
            "justify_content": null,
            "justify_items": null,
            "left": null,
            "margin": null,
            "max_height": null,
            "max_width": null,
            "min_height": null,
            "min_width": null,
            "object_fit": null,
            "object_position": null,
            "order": null,
            "overflow": null,
            "overflow_x": null,
            "overflow_y": null,
            "padding": null,
            "right": null,
            "top": null,
            "visibility": null,
            "width": null
          }
        },
        "a9d8061377084cab800820305f81a457": {
          "model_module": "@jupyter-widgets/controls",
          "model_module_version": "1.5.0",
          "model_name": "HTMLModel",
          "state": {
            "_dom_classes": [],
            "_model_module": "@jupyter-widgets/controls",
            "_model_module_version": "1.5.0",
            "_model_name": "HTMLModel",
            "_view_count": null,
            "_view_module": "@jupyter-widgets/controls",
            "_view_module_version": "1.5.0",
            "_view_name": "HTMLView",
            "description": "",
            "description_tooltip": null,
            "layout": "IPY_MODEL_69129fccba5e46219d495f05a2661e29",
            "placeholder": "​",
            "style": "IPY_MODEL_6b81a45f446e4daf8bd19be823971266",
            "value": " 1500/1500 [00:01&lt;00:00, 1433.32 examples/s]"
          }
        },
        "addd8b9e608f4847aa645b22e70bc116": {
          "model_module": "@jupyter-widgets/controls",
          "model_module_version": "1.5.0",
          "model_name": "HBoxModel",
          "state": {
            "_dom_classes": [],
            "_model_module": "@jupyter-widgets/controls",
            "_model_module_version": "1.5.0",
            "_model_name": "HBoxModel",
            "_view_count": null,
            "_view_module": "@jupyter-widgets/controls",
            "_view_module_version": "1.5.0",
            "_view_name": "HBoxView",
            "box_style": "",
            "children": [
              "IPY_MODEL_8dca2970094f4eb5ab5a1889cd60b8a2",
              "IPY_MODEL_f125dc3bcf52449e8c97ac7b6f8830a2",
              "IPY_MODEL_4d00cea1b1d0422386d56b89be521cb6"
            ],
            "layout": "IPY_MODEL_8b2779cdae0e49e1a6ba02f3877f5da4"
          }
        },
        "afcb397ba0014b5385bbd66402e91e5b": {
          "model_module": "@jupyter-widgets/base",
          "model_module_version": "1.2.0",
          "model_name": "LayoutModel",
          "state": {
            "_model_module": "@jupyter-widgets/base",
            "_model_module_version": "1.2.0",
            "_model_name": "LayoutModel",
            "_view_count": null,
            "_view_module": "@jupyter-widgets/base",
            "_view_module_version": "1.2.0",
            "_view_name": "LayoutView",
            "align_content": null,
            "align_items": null,
            "align_self": null,
            "border": null,
            "bottom": null,
            "display": null,
            "flex": null,
            "flex_flow": null,
            "grid_area": null,
            "grid_auto_columns": null,
            "grid_auto_flow": null,
            "grid_auto_rows": null,
            "grid_column": null,
            "grid_gap": null,
            "grid_row": null,
            "grid_template_areas": null,
            "grid_template_columns": null,
            "grid_template_rows": null,
            "height": null,
            "justify_content": null,
            "justify_items": null,
            "left": null,
            "margin": null,
            "max_height": null,
            "max_width": null,
            "min_height": null,
            "min_width": null,
            "object_fit": null,
            "object_position": null,
            "order": null,
            "overflow": null,
            "overflow_x": null,
            "overflow_y": null,
            "padding": null,
            "right": null,
            "top": null,
            "visibility": null,
            "width": null
          }
        },
        "b511f3187c8b436fb8ca333f0feeda9c": {
          "model_module": "@jupyter-widgets/controls",
          "model_module_version": "1.5.0",
          "model_name": "HTMLModel",
          "state": {
            "_dom_classes": [],
            "_model_module": "@jupyter-widgets/controls",
            "_model_module_version": "1.5.0",
            "_model_name": "HTMLModel",
            "_view_count": null,
            "_view_module": "@jupyter-widgets/controls",
            "_view_module_version": "1.5.0",
            "_view_name": "HTMLView",
            "description": "",
            "description_tooltip": null,
            "layout": "IPY_MODEL_5d3ffc07da15456eb9d04b6ff0267681",
            "placeholder": "​",
            "style": "IPY_MODEL_7bc74f632366416181defb3229e684cc",
            "value": "generation_config.json: 100%"
          }
        },
        "b6208f2e5ecd473eac6d5411fe17b799": {
          "model_module": "@jupyter-widgets/base",
          "model_module_version": "1.2.0",
          "model_name": "LayoutModel",
          "state": {
            "_model_module": "@jupyter-widgets/base",
            "_model_module_version": "1.2.0",
            "_model_name": "LayoutModel",
            "_view_count": null,
            "_view_module": "@jupyter-widgets/base",
            "_view_module_version": "1.2.0",
            "_view_name": "LayoutView",
            "align_content": null,
            "align_items": null,
            "align_self": null,
            "border": null,
            "bottom": null,
            "display": null,
            "flex": null,
            "flex_flow": null,
            "grid_area": null,
            "grid_auto_columns": null,
            "grid_auto_flow": null,
            "grid_auto_rows": null,
            "grid_column": null,
            "grid_gap": null,
            "grid_row": null,
            "grid_template_areas": null,
            "grid_template_columns": null,
            "grid_template_rows": null,
            "height": null,
            "justify_content": null,
            "justify_items": null,
            "left": null,
            "margin": null,
            "max_height": null,
            "max_width": null,
            "min_height": null,
            "min_width": null,
            "object_fit": null,
            "object_position": null,
            "order": null,
            "overflow": null,
            "overflow_x": null,
            "overflow_y": null,
            "padding": null,
            "right": null,
            "top": null,
            "visibility": null,
            "width": null
          }
        },
        "bf53836624f8443d9bb12c40aff88a8f": {
          "model_module": "@jupyter-widgets/controls",
          "model_module_version": "1.5.0",
          "model_name": "DescriptionStyleModel",
          "state": {
            "_model_module": "@jupyter-widgets/controls",
            "_model_module_version": "1.5.0",
            "_model_name": "DescriptionStyleModel",
            "_view_count": null,
            "_view_module": "@jupyter-widgets/base",
            "_view_module_version": "1.2.0",
            "_view_name": "StyleView",
            "description_width": ""
          }
        },
        "c4382ab03c6b4b0d832c72c9a9dfc3c2": {
          "model_module": "@jupyter-widgets/controls",
          "model_module_version": "1.5.0",
          "model_name": "HTMLModel",
          "state": {
            "_dom_classes": [],
            "_model_module": "@jupyter-widgets/controls",
            "_model_module_version": "1.5.0",
            "_model_name": "HTMLModel",
            "_view_count": null,
            "_view_module": "@jupyter-widgets/controls",
            "_view_module_version": "1.5.0",
            "_view_name": "HTMLView",
            "description": "",
            "description_tooltip": null,
            "layout": "IPY_MODEL_05a67b83dcf34882ae6dd120ed3bb560",
            "placeholder": "​",
            "style": "IPY_MODEL_171a0d4e9cd5471a96723b372a21154b",
            "value": "model.safetensors: 100%"
          }
        },
        "c68b80d81ffa45a9b1a65862784463bd": {
          "model_module": "@jupyter-widgets/controls",
          "model_module_version": "1.5.0",
          "model_name": "HBoxModel",
          "state": {
            "_dom_classes": [],
            "_model_module": "@jupyter-widgets/controls",
            "_model_module_version": "1.5.0",
            "_model_name": "HBoxModel",
            "_view_count": null,
            "_view_module": "@jupyter-widgets/controls",
            "_view_module_version": "1.5.0",
            "_view_name": "HBoxView",
            "box_style": "",
            "children": [
              "IPY_MODEL_b511f3187c8b436fb8ca333f0feeda9c",
              "IPY_MODEL_e36e56b5499542bcb6a5fcb48a8748d2",
              "IPY_MODEL_7c4dc9adb8fc42c4b5ce66962238c48b"
            ],
            "layout": "IPY_MODEL_cb70a93ef19d48fda6c411fec0facdd8"
          }
        },
        "cb60e1c8d7a3404b8b0617619d6510e8": {
          "model_module": "@jupyter-widgets/base",
          "model_module_version": "1.2.0",
          "model_name": "LayoutModel",
          "state": {
            "_model_module": "@jupyter-widgets/base",
            "_model_module_version": "1.2.0",
            "_model_name": "LayoutModel",
            "_view_count": null,
            "_view_module": "@jupyter-widgets/base",
            "_view_module_version": "1.2.0",
            "_view_name": "LayoutView",
            "align_content": null,
            "align_items": null,
            "align_self": null,
            "border": null,
            "bottom": null,
            "display": null,
            "flex": null,
            "flex_flow": null,
            "grid_area": null,
            "grid_auto_columns": null,
            "grid_auto_flow": null,
            "grid_auto_rows": null,
            "grid_column": null,
            "grid_gap": null,
            "grid_row": null,
            "grid_template_areas": null,
            "grid_template_columns": null,
            "grid_template_rows": null,
            "height": null,
            "justify_content": null,
            "justify_items": null,
            "left": null,
            "margin": null,
            "max_height": null,
            "max_width": null,
            "min_height": null,
            "min_width": null,
            "object_fit": null,
            "object_position": null,
            "order": null,
            "overflow": null,
            "overflow_x": null,
            "overflow_y": null,
            "padding": null,
            "right": null,
            "top": null,
            "visibility": null,
            "width": null
          }
        },
        "cb70a93ef19d48fda6c411fec0facdd8": {
          "model_module": "@jupyter-widgets/base",
          "model_module_version": "1.2.0",
          "model_name": "LayoutModel",
          "state": {
            "_model_module": "@jupyter-widgets/base",
            "_model_module_version": "1.2.0",
            "_model_name": "LayoutModel",
            "_view_count": null,
            "_view_module": "@jupyter-widgets/base",
            "_view_module_version": "1.2.0",
            "_view_name": "LayoutView",
            "align_content": null,
            "align_items": null,
            "align_self": null,
            "border": null,
            "bottom": null,
            "display": null,
            "flex": null,
            "flex_flow": null,
            "grid_area": null,
            "grid_auto_columns": null,
            "grid_auto_flow": null,
            "grid_auto_rows": null,
            "grid_column": null,
            "grid_gap": null,
            "grid_row": null,
            "grid_template_areas": null,
            "grid_template_columns": null,
            "grid_template_rows": null,
            "height": null,
            "justify_content": null,
            "justify_items": null,
            "left": null,
            "margin": null,
            "max_height": null,
            "max_width": null,
            "min_height": null,
            "min_width": null,
            "object_fit": null,
            "object_position": null,
            "order": null,
            "overflow": null,
            "overflow_x": null,
            "overflow_y": null,
            "padding": null,
            "right": null,
            "top": null,
            "visibility": null,
            "width": null
          }
        },
        "d8452706edf5422c9da05bf65f6baa56": {
          "model_module": "@jupyter-widgets/base",
          "model_module_version": "1.2.0",
          "model_name": "LayoutModel",
          "state": {
            "_model_module": "@jupyter-widgets/base",
            "_model_module_version": "1.2.0",
            "_model_name": "LayoutModel",
            "_view_count": null,
            "_view_module": "@jupyter-widgets/base",
            "_view_module_version": "1.2.0",
            "_view_name": "LayoutView",
            "align_content": null,
            "align_items": null,
            "align_self": null,
            "border": null,
            "bottom": null,
            "display": null,
            "flex": null,
            "flex_flow": null,
            "grid_area": null,
            "grid_auto_columns": null,
            "grid_auto_flow": null,
            "grid_auto_rows": null,
            "grid_column": null,
            "grid_gap": null,
            "grid_row": null,
            "grid_template_areas": null,
            "grid_template_columns": null,
            "grid_template_rows": null,
            "height": null,
            "justify_content": null,
            "justify_items": null,
            "left": null,
            "margin": null,
            "max_height": null,
            "max_width": null,
            "min_height": null,
            "min_width": null,
            "object_fit": null,
            "object_position": null,
            "order": null,
            "overflow": null,
            "overflow_x": null,
            "overflow_y": null,
            "padding": null,
            "right": null,
            "top": null,
            "visibility": null,
            "width": null
          }
        },
        "d880c8ceaa2043fa841b881b7b949c2f": {
          "model_module": "@jupyter-widgets/controls",
          "model_module_version": "1.5.0",
          "model_name": "FloatProgressModel",
          "state": {
            "_dom_classes": [],
            "_model_module": "@jupyter-widgets/controls",
            "_model_module_version": "1.5.0",
            "_model_name": "FloatProgressModel",
            "_view_count": null,
            "_view_module": "@jupyter-widgets/controls",
            "_view_module_version": "1.5.0",
            "_view_name": "ProgressView",
            "bar_style": "success",
            "description": "",
            "description_tooltip": null,
            "layout": "IPY_MODEL_b6208f2e5ecd473eac6d5411fe17b799",
            "max": 1500,
            "min": 0,
            "orientation": "horizontal",
            "style": "IPY_MODEL_f8c7198d8c2a463cbe7a7ca9d581d926",
            "value": 1500
          }
        },
        "dab3bbb0a469463bb0875c7075ac3a13": {
          "model_module": "@jupyter-widgets/controls",
          "model_module_version": "1.5.0",
          "model_name": "DescriptionStyleModel",
          "state": {
            "_model_module": "@jupyter-widgets/controls",
            "_model_module_version": "1.5.0",
            "_model_name": "DescriptionStyleModel",
            "_view_count": null,
            "_view_module": "@jupyter-widgets/base",
            "_view_module_version": "1.2.0",
            "_view_name": "StyleView",
            "description_width": ""
          }
        },
        "e36e56b5499542bcb6a5fcb48a8748d2": {
          "model_module": "@jupyter-widgets/controls",
          "model_module_version": "1.5.0",
          "model_name": "FloatProgressModel",
          "state": {
            "_dom_classes": [],
            "_model_module": "@jupyter-widgets/controls",
            "_model_module_version": "1.5.0",
            "_model_name": "FloatProgressModel",
            "_view_count": null,
            "_view_module": "@jupyter-widgets/controls",
            "_view_module_version": "1.5.0",
            "_view_name": "ProgressView",
            "bar_style": "success",
            "description": "",
            "description_tooltip": null,
            "layout": "IPY_MODEL_4c46c020f7c54f7b8b6b02ff3b4eae6b",
            "max": 189,
            "min": 0,
            "orientation": "horizontal",
            "style": "IPY_MODEL_253de45c1e4a43ac8c325b9fabb4c3f1",
            "value": 189
          }
        },
        "e5273dbd8dce40fb8eb2116695fbf564": {
          "model_module": "@jupyter-widgets/base",
          "model_module_version": "1.2.0",
          "model_name": "LayoutModel",
          "state": {
            "_model_module": "@jupyter-widgets/base",
            "_model_module_version": "1.2.0",
            "_model_name": "LayoutModel",
            "_view_count": null,
            "_view_module": "@jupyter-widgets/base",
            "_view_module_version": "1.2.0",
            "_view_name": "LayoutView",
            "align_content": null,
            "align_items": null,
            "align_self": null,
            "border": null,
            "bottom": null,
            "display": null,
            "flex": null,
            "flex_flow": null,
            "grid_area": null,
            "grid_auto_columns": null,
            "grid_auto_flow": null,
            "grid_auto_rows": null,
            "grid_column": null,
            "grid_gap": null,
            "grid_row": null,
            "grid_template_areas": null,
            "grid_template_columns": null,
            "grid_template_rows": null,
            "height": null,
            "justify_content": null,
            "justify_items": null,
            "left": null,
            "margin": null,
            "max_height": null,
            "max_width": null,
            "min_height": null,
            "min_width": null,
            "object_fit": null,
            "object_position": null,
            "order": null,
            "overflow": null,
            "overflow_x": null,
            "overflow_y": null,
            "padding": null,
            "right": null,
            "top": null,
            "visibility": null,
            "width": null
          }
        },
        "e85c0196c25640eb90ce0b9a84a8068b": {
          "model_module": "@jupyter-widgets/base",
          "model_module_version": "1.2.0",
          "model_name": "LayoutModel",
          "state": {
            "_model_module": "@jupyter-widgets/base",
            "_model_module_version": "1.2.0",
            "_model_name": "LayoutModel",
            "_view_count": null,
            "_view_module": "@jupyter-widgets/base",
            "_view_module_version": "1.2.0",
            "_view_name": "LayoutView",
            "align_content": null,
            "align_items": null,
            "align_self": null,
            "border": null,
            "bottom": null,
            "display": null,
            "flex": null,
            "flex_flow": null,
            "grid_area": null,
            "grid_auto_columns": null,
            "grid_auto_flow": null,
            "grid_auto_rows": null,
            "grid_column": null,
            "grid_gap": null,
            "grid_row": null,
            "grid_template_areas": null,
            "grid_template_columns": null,
            "grid_template_rows": null,
            "height": null,
            "justify_content": null,
            "justify_items": null,
            "left": null,
            "margin": null,
            "max_height": null,
            "max_width": null,
            "min_height": null,
            "min_width": null,
            "object_fit": null,
            "object_position": null,
            "order": null,
            "overflow": null,
            "overflow_x": null,
            "overflow_y": null,
            "padding": null,
            "right": null,
            "top": null,
            "visibility": null,
            "width": null
          }
        },
        "ebaea9a321d54d5abfb147fd184b87c2": {
          "model_module": "@jupyter-widgets/controls",
          "model_module_version": "1.5.0",
          "model_name": "HTMLModel",
          "state": {
            "_dom_classes": [],
            "_model_module": "@jupyter-widgets/controls",
            "_model_module_version": "1.5.0",
            "_model_name": "HTMLModel",
            "_view_count": null,
            "_view_module": "@jupyter-widgets/controls",
            "_view_module_version": "1.5.0",
            "_view_name": "HTMLView",
            "description": "",
            "description_tooltip": null,
            "layout": "IPY_MODEL_9ad9e60ae5f0432a986b5913e9b56a31",
            "placeholder": "​",
            "style": "IPY_MODEL_7a21a29288cf44c99c1853c5ff7f6b15",
            "value": " 50/50 [00:00&lt;00:00, 1002.08 examples/s]"
          }
        },
        "ecde630abb1c44e4a4227616fe4af7b3": {
          "model_module": "@jupyter-widgets/controls",
          "model_module_version": "1.5.0",
          "model_name": "DescriptionStyleModel",
          "state": {
            "_model_module": "@jupyter-widgets/controls",
            "_model_module_version": "1.5.0",
            "_model_name": "DescriptionStyleModel",
            "_view_count": null,
            "_view_module": "@jupyter-widgets/base",
            "_view_module_version": "1.2.0",
            "_view_name": "StyleView",
            "description_width": ""
          }
        },
        "eceba42b3ab54a348e0c8ea0dcaa28b4": {
          "model_module": "@jupyter-widgets/base",
          "model_module_version": "1.2.0",
          "model_name": "LayoutModel",
          "state": {
            "_model_module": "@jupyter-widgets/base",
            "_model_module_version": "1.2.0",
            "_model_name": "LayoutModel",
            "_view_count": null,
            "_view_module": "@jupyter-widgets/base",
            "_view_module_version": "1.2.0",
            "_view_name": "LayoutView",
            "align_content": null,
            "align_items": null,
            "align_self": null,
            "border": null,
            "bottom": null,
            "display": null,
            "flex": null,
            "flex_flow": null,
            "grid_area": null,
            "grid_auto_columns": null,
            "grid_auto_flow": null,
            "grid_auto_rows": null,
            "grid_column": null,
            "grid_gap": null,
            "grid_row": null,
            "grid_template_areas": null,
            "grid_template_columns": null,
            "grid_template_rows": null,
            "height": null,
            "justify_content": null,
            "justify_items": null,
            "left": null,
            "margin": null,
            "max_height": null,
            "max_width": null,
            "min_height": null,
            "min_width": null,
            "object_fit": null,
            "object_position": null,
            "order": null,
            "overflow": null,
            "overflow_x": null,
            "overflow_y": null,
            "padding": null,
            "right": null,
            "top": null,
            "visibility": null,
            "width": null
          }
        },
        "eee2560a94264fb4ad8e5b1e897d9831": {
          "model_module": "@jupyter-widgets/controls",
          "model_module_version": "1.5.0",
          "model_name": "DescriptionStyleModel",
          "state": {
            "_model_module": "@jupyter-widgets/controls",
            "_model_module_version": "1.5.0",
            "_model_name": "DescriptionStyleModel",
            "_view_count": null,
            "_view_module": "@jupyter-widgets/base",
            "_view_module_version": "1.2.0",
            "_view_name": "StyleView",
            "description_width": ""
          }
        },
        "f125dc3bcf52449e8c97ac7b6f8830a2": {
          "model_module": "@jupyter-widgets/controls",
          "model_module_version": "1.5.0",
          "model_name": "FloatProgressModel",
          "state": {
            "_dom_classes": [],
            "_model_module": "@jupyter-widgets/controls",
            "_model_module_version": "1.5.0",
            "_model_name": "FloatProgressModel",
            "_view_count": null,
            "_view_module": "@jupyter-widgets/controls",
            "_view_module_version": "1.5.0",
            "_view_name": "ProgressView",
            "bar_style": "success",
            "description": "",
            "description_tooltip": null,
            "layout": "IPY_MODEL_636b65444f864c20809dd70652f5a4b0",
            "max": 50,
            "min": 0,
            "orientation": "horizontal",
            "style": "IPY_MODEL_7375ceadf49a4751b46d44299ed45e94",
            "value": 50
          }
        },
        "f8c7198d8c2a463cbe7a7ca9d581d926": {
          "model_module": "@jupyter-widgets/controls",
          "model_module_version": "1.5.0",
          "model_name": "ProgressStyleModel",
          "state": {
            "_model_module": "@jupyter-widgets/controls",
            "_model_module_version": "1.5.0",
            "_model_name": "ProgressStyleModel",
            "_view_count": null,
            "_view_module": "@jupyter-widgets/base",
            "_view_module_version": "1.2.0",
            "_view_name": "StyleView",
            "bar_color": null,
            "description_width": ""
          }
        },
        "f94a270f4e5b4a0e940f133b7de5419d": {
          "model_module": "@jupyter-widgets/controls",
          "model_module_version": "1.5.0",
          "model_name": "ProgressStyleModel",
          "state": {
            "_model_module": "@jupyter-widgets/controls",
            "_model_module_version": "1.5.0",
            "_model_name": "ProgressStyleModel",
            "_view_count": null,
            "_view_module": "@jupyter-widgets/base",
            "_view_module_version": "1.2.0",
            "_view_name": "StyleView",
            "bar_color": null,
            "description_width": ""
          }
        }
      }
    }
  },
  "nbformat": 4,
  "nbformat_minor": 0
}
